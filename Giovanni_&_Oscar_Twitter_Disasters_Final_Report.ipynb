{
  "cells": [
    {
      "attachments": {},
      "cell_type": "markdown",
      "metadata": {
        "id": "FWM79lj2LYI6"
      },
      "source": [
        "# Twitter Disasters Final Report | April 2023"
      ]
    },
    {
      "attachments": {},
      "cell_type": "markdown",
      "metadata": {},
      "source": [
        "## Authors\n",
        "\n",
        "- [Giovanni Rivera](https://github.com/grivera64); Intro to Machine Learning, Section A\n",
        "- [Oscar Jesus Zambrano](https://github.com/osc-zam22); Intro to Machine Learning, Section B"
      ]
    },
    {
      "attachments": {},
      "cell_type": "markdown",
      "metadata": {
        "id": "WPFnCCd7O6fN"
      },
      "source": [
        "#### Setup Dependencies"
      ]
    },
    {
      "cell_type": "code",
      "execution_count": 1,
      "metadata": {
        "colab": {
          "base_uri": "https://localhost:8080/"
        },
        "id": "QiwopORsO-yC",
        "outputId": "fa56efa0-7ab1-4f76-9319-137ec3d158f8"
      },
      "outputs": [
        {
          "name": "stdout",
          "output_type": "stream",
          "text": [
            "Note: you may need to restart the kernel to use updated packages.\n",
            "Note: you may need to restart the kernel to use updated packages.\n",
            "Note: you may need to restart the kernel to use updated packages.\n",
            "Note: you may need to restart the kernel to use updated packages.\n",
            "Note: you may need to restart the kernel to use updated packages.\n",
            "Note: you may need to restart the kernel to use updated packages.\n",
            "Note: you may need to restart the kernel to use updated packages.\n",
            "Requirement already satisfied: pydot in c:\\users\\river\\anaconda3\\envs\\google-machine-learning-final\\lib\\site-packages (1.4.2)\n",
            "Requirement already satisfied: pyparsing>=2.1.4 in c:\\users\\river\\anaconda3\\envs\\google-machine-learning-final\\lib\\site-packages (from pydot) (3.0.9)\n",
            "Note: you may need to restart the kernel to use updated packages.\n"
          ]
        }
      ],
      "source": [
        "# Ensure that we have the newest version of pip installed\n",
        "%pip install -q --upgrade pip\n",
        "\n",
        "# Install necessary libraries\n",
        "%pip install -q numpy\n",
        "%pip install -q pandas\n",
        "%pip install -q matplotlib\n",
        "%pip install -q seaborn\n",
        "\n",
        "# Helps avoid showing plots in a separate line\n",
        "# %matplotlib inline\n",
        "\n",
        "%pip install -q scikit-learn\n",
        "%pip install -q tensorflow\n",
        "\n",
        "# Helps run plot_model from keras\n",
        "%pip install pydot\n"
      ]
    },
    {
      "cell_type": "code",
      "execution_count": 2,
      "metadata": {
        "id": "ycGSQ31nQRa8"
      },
      "outputs": [],
      "source": [
        "# Import the modules\n",
        "import numpy as np\n",
        "import pandas as pd\n",
        "import tensorflow as tf\n",
        "\n",
        "from matplotlib import pyplot as plt\n",
        "import seaborn as sns\n",
        "from sklearn import datasets\n",
        "\n",
        "# Set the styling of the plt plots to darkgrid\n",
        "sns.set(style='darkgrid')\n",
        "\n",
        "# Removes error messsages and sets precision to 3 decimal places\n",
        "import warnings\n",
        "warnings.filterwarnings('ignore')\n",
        "np.set_printoptions(precision=3, suppress=True)"
      ]
    },
    {
      "attachments": {},
      "cell_type": "markdown",
      "metadata": {},
      "source": [
        "## 1. Introduction"
      ]
    },
    {
      "attachments": {},
      "cell_type": "markdown",
      "metadata": {},
      "source": [
        "### Our Story:\n",
        "TODO"
      ]
    },
    {
      "attachments": {},
      "cell_type": "markdown",
      "metadata": {},
      "source": [
        "### Our Task:\n",
        "\n",
        "We are designing a Machine Learning model using Tensorflow/Keras to identify whether a given tweet is a natural distaster.\n",
        "\n",
        "Throughout the notebook, we will refer to tweets about a natural distaster as part of the `postive class`, while tweets that aren't about a natural disaster as part of the `negative class`."
      ]
    },
    {
      "attachments": {},
      "cell_type": "markdown",
      "metadata": {
        "id": "UJCd5JzUNNuk"
      },
      "source": [
        "#### 1.1 Load the Data in a Colab Notebook\n",
        "\n",
        "We use a dataset from the Kaggle competition [Tech Exchange 2023 ML Project](https://www.kaggle.com/competitions/techexchange-2023-ml-project).\n",
        "\n",
        "You may find the dataset by navigating to the 'Data' tab in the link aforementioned. Under 'Data Explorer', you can download the following files:\n",
        "\n",
        "- `train.csv`: Contains the training data; we will use this dataset for our training and validation data.\n",
        "- `test.csv`: Contains our testing data; we will use this dataset for making our submissions to Kaggle."
      ]
    },
    {
      "cell_type": "code",
      "execution_count": 3,
      "metadata": {
        "id": "Ct512u3DuP7E"
      },
      "outputs": [
        {
          "data": {
            "text/html": [
              "<div>\n",
              "<style scoped>\n",
              "    .dataframe tbody tr th:only-of-type {\n",
              "        vertical-align: middle;\n",
              "    }\n",
              "\n",
              "    .dataframe tbody tr th {\n",
              "        vertical-align: top;\n",
              "    }\n",
              "\n",
              "    .dataframe thead th {\n",
              "        text-align: right;\n",
              "    }\n",
              "</style>\n",
              "<table border=\"1\" class=\"dataframe\">\n",
              "  <thead>\n",
              "    <tr style=\"text-align: right;\">\n",
              "      <th></th>\n",
              "      <th>id</th>\n",
              "      <th>keyword</th>\n",
              "      <th>location</th>\n",
              "      <th>text</th>\n",
              "      <th>target</th>\n",
              "    </tr>\n",
              "  </thead>\n",
              "  <tbody>\n",
              "    <tr>\n",
              "      <th>0</th>\n",
              "      <td>1</td>\n",
              "      <td>NaN</td>\n",
              "      <td>NaN</td>\n",
              "      <td>Our Deeds are the Reason of this #earthquake M...</td>\n",
              "      <td>1</td>\n",
              "    </tr>\n",
              "    <tr>\n",
              "      <th>1</th>\n",
              "      <td>4</td>\n",
              "      <td>NaN</td>\n",
              "      <td>NaN</td>\n",
              "      <td>Forest fire near La Ronge Sask. Canada</td>\n",
              "      <td>1</td>\n",
              "    </tr>\n",
              "    <tr>\n",
              "      <th>2</th>\n",
              "      <td>5</td>\n",
              "      <td>NaN</td>\n",
              "      <td>NaN</td>\n",
              "      <td>All residents asked to 'shelter in place' are ...</td>\n",
              "      <td>1</td>\n",
              "    </tr>\n",
              "    <tr>\n",
              "      <th>3</th>\n",
              "      <td>6</td>\n",
              "      <td>NaN</td>\n",
              "      <td>NaN</td>\n",
              "      <td>13,000 people receive #wildfires evacuation or...</td>\n",
              "      <td>1</td>\n",
              "    </tr>\n",
              "    <tr>\n",
              "      <th>4</th>\n",
              "      <td>7</td>\n",
              "      <td>NaN</td>\n",
              "      <td>NaN</td>\n",
              "      <td>Just got sent this photo from Ruby #Alaska as ...</td>\n",
              "      <td>1</td>\n",
              "    </tr>\n",
              "  </tbody>\n",
              "</table>\n",
              "</div>"
            ],
            "text/plain": [
              "   id keyword location                                               text  \\\n",
              "0   1     NaN      NaN  Our Deeds are the Reason of this #earthquake M...   \n",
              "1   4     NaN      NaN             Forest fire near La Ronge Sask. Canada   \n",
              "2   5     NaN      NaN  All residents asked to 'shelter in place' are ...   \n",
              "3   6     NaN      NaN  13,000 people receive #wildfires evacuation or...   \n",
              "4   7     NaN      NaN  Just got sent this photo from Ruby #Alaska as ...   \n",
              "\n",
              "   target  \n",
              "0       1  \n",
              "1       1  \n",
              "2       1  \n",
              "3       1  \n",
              "4       1  "
            ]
          },
          "metadata": {},
          "output_type": "display_data"
        }
      ],
      "source": [
        "# Please update the Path here to the location of your train.csv and test.csv files\n",
        "path_to_csv = 'Data/techexchange-2023-ml-project'\n",
        "\n",
        "# Load the Data Frames from the Training and Testing Data Frame\n",
        "train_df = pd.read_csv(f'{path_to_csv}/train.csv')\n",
        "test_df = pd.read_csv(f'{path_to_csv}/test.csv')\n",
        "display(train_df.head())"
      ]
    },
    {
      "cell_type": "code",
      "execution_count": 4,
      "metadata": {},
      "outputs": [
        {
          "data": {
            "text/html": [
              "<div>\n",
              "<style scoped>\n",
              "    .dataframe tbody tr th:only-of-type {\n",
              "        vertical-align: middle;\n",
              "    }\n",
              "\n",
              "    .dataframe tbody tr th {\n",
              "        vertical-align: top;\n",
              "    }\n",
              "\n",
              "    .dataframe thead th {\n",
              "        text-align: right;\n",
              "    }\n",
              "</style>\n",
              "<table border=\"1\" class=\"dataframe\">\n",
              "  <thead>\n",
              "    <tr style=\"text-align: right;\">\n",
              "      <th></th>\n",
              "      <th>id</th>\n",
              "      <th>keyword</th>\n",
              "      <th>location</th>\n",
              "      <th>text</th>\n",
              "    </tr>\n",
              "  </thead>\n",
              "  <tbody>\n",
              "    <tr>\n",
              "      <th>0</th>\n",
              "      <td>1</td>\n",
              "      <td>NaN</td>\n",
              "      <td>NaN</td>\n",
              "      <td>Our Deeds are the Reason of this #earthquake M...</td>\n",
              "    </tr>\n",
              "    <tr>\n",
              "      <th>1</th>\n",
              "      <td>4</td>\n",
              "      <td>NaN</td>\n",
              "      <td>NaN</td>\n",
              "      <td>Forest fire near La Ronge Sask. Canada</td>\n",
              "    </tr>\n",
              "    <tr>\n",
              "      <th>2</th>\n",
              "      <td>5</td>\n",
              "      <td>NaN</td>\n",
              "      <td>NaN</td>\n",
              "      <td>All residents asked to 'shelter in place' are ...</td>\n",
              "    </tr>\n",
              "    <tr>\n",
              "      <th>3</th>\n",
              "      <td>6</td>\n",
              "      <td>NaN</td>\n",
              "      <td>NaN</td>\n",
              "      <td>13,000 people receive #wildfires evacuation or...</td>\n",
              "    </tr>\n",
              "    <tr>\n",
              "      <th>4</th>\n",
              "      <td>7</td>\n",
              "      <td>NaN</td>\n",
              "      <td>NaN</td>\n",
              "      <td>Just got sent this photo from Ruby #Alaska as ...</td>\n",
              "    </tr>\n",
              "  </tbody>\n",
              "</table>\n",
              "</div>"
            ],
            "text/plain": [
              "   id keyword location                                               text\n",
              "0   1     NaN      NaN  Our Deeds are the Reason of this #earthquake M...\n",
              "1   4     NaN      NaN             Forest fire near La Ronge Sask. Canada\n",
              "2   5     NaN      NaN  All residents asked to 'shelter in place' are ...\n",
              "3   6     NaN      NaN  13,000 people receive #wildfires evacuation or...\n",
              "4   7     NaN      NaN  Just got sent this photo from Ruby #Alaska as ..."
            ]
          },
          "metadata": {},
          "output_type": "display_data"
        },
        {
          "data": {
            "text/html": [
              "<div>\n",
              "<style scoped>\n",
              "    .dataframe tbody tr th:only-of-type {\n",
              "        vertical-align: middle;\n",
              "    }\n",
              "\n",
              "    .dataframe tbody tr th {\n",
              "        vertical-align: top;\n",
              "    }\n",
              "\n",
              "    .dataframe thead th {\n",
              "        text-align: right;\n",
              "    }\n",
              "</style>\n",
              "<table border=\"1\" class=\"dataframe\">\n",
              "  <thead>\n",
              "    <tr style=\"text-align: right;\">\n",
              "      <th></th>\n",
              "      <th>target</th>\n",
              "    </tr>\n",
              "  </thead>\n",
              "  <tbody>\n",
              "    <tr>\n",
              "      <th>0</th>\n",
              "      <td>1</td>\n",
              "    </tr>\n",
              "    <tr>\n",
              "      <th>1</th>\n",
              "      <td>1</td>\n",
              "    </tr>\n",
              "    <tr>\n",
              "      <th>2</th>\n",
              "      <td>1</td>\n",
              "    </tr>\n",
              "    <tr>\n",
              "      <th>3</th>\n",
              "      <td>1</td>\n",
              "    </tr>\n",
              "    <tr>\n",
              "      <th>4</th>\n",
              "      <td>1</td>\n",
              "    </tr>\n",
              "  </tbody>\n",
              "</table>\n",
              "</div>"
            ],
            "text/plain": [
              "   target\n",
              "0       1\n",
              "1       1\n",
              "2       1\n",
              "3       1\n",
              "4       1"
            ]
          },
          "metadata": {},
          "output_type": "display_data"
        }
      ],
      "source": [
        "# Separate Data Frame for input and outputs\n",
        "\n",
        "input_names = ['id', 'keyword', 'location', 'text']\n",
        "input_df = train_df[input_names]\n",
        "display(input_df.head())\n",
        "\n",
        "output_names = ['target']\n",
        "output_df = train_df[output_names]\n",
        "display(output_df.head())"
      ]
    },
    {
      "attachments": {},
      "cell_type": "markdown",
      "metadata": {},
      "source": [
        "### 1.2 Convert our data into numpy arrays for usage in our ML models.\n",
        "\n",
        "Numpy will help us take full advantage of our GPU power to quickly perform training operations."
      ]
    },
    {
      "cell_type": "code",
      "execution_count": 5,
      "metadata": {},
      "outputs": [
        {
          "name": "stdout",
          "output_type": "stream",
          "text": [
            "[[1 nan nan\n",
            "  'Our Deeds are the Reason of this #earthquake May ALLAH Forgive us all']\n",
            " [4 nan nan 'Forest fire near La Ronge Sask. Canada']\n",
            " [5 nan nan\n",
            "  \"All residents asked to 'shelter in place' are being notified by officers. No other evacuation or shelter in place orders are expected\"]\n",
            " [6 nan nan\n",
            "  '13,000 people receive #wildfires evacuation orders in California ']\n",
            " [7 nan nan\n",
            "  'Just got sent this photo from Ruby #Alaska as smoke from #wildfires pours into a school ']]\n",
            "[1 1 1 1 1]\n",
            "(7613, 4)\n",
            "(7613,)\n"
          ]
        }
      ],
      "source": [
        "# Convert into numpy data\n",
        "X_data = input_df.to_numpy()\n",
        "Y_data = output_df.to_numpy().flatten()\n",
        "\n",
        "print(X_data[:5])\n",
        "print(Y_data[:5])\n",
        "\n",
        "print(X_data.shape)\n",
        "print(Y_data.shape)"
      ]
    },
    {
      "attachments": {},
      "cell_type": "markdown",
      "metadata": {},
      "source": [
        "### 1.3 Split the training data into 90% training and 10% for validation.\n",
        "\n",
        "We use Sklearn's train_test_split to split our `train.csv` dataset to create a 90:10 testing/validation split to use further down this notebook."
      ]
    },
    {
      "cell_type": "code",
      "execution_count": 6,
      "metadata": {},
      "outputs": [],
      "source": [
        "from sklearn.model_selection import train_test_split\n",
        "\n",
        "# Split the data into train and test\n",
        "X_train, X_validation, Y_train, Y_validation = train_test_split(X_data, Y_data, train_size=0.90)"
      ]
    },
    {
      "cell_type": "code",
      "execution_count": 7,
      "metadata": {},
      "outputs": [
        {
          "name": "stdout",
          "output_type": "stream",
          "text": [
            "Text\n",
            "[2588 'crash' 'Charleston, SC'\n",
            " \"'Fatal crash reported on Johns Island' http://t.co/d2i9bL89Zo\"]\n",
            "\n",
            "Is Natural Disaster?\n",
            "1 Yes\n",
            "======================\n",
            "\n",
            "Text\n",
            "[9865 'traumatised' 'Portsmouth, UK'\n",
            " \"I'm that traumatised that I can't even spell properly! Excuse the typos!\"]\n",
            "\n",
            "Is Natural Disaster?\n",
            "0 No\n",
            "======================\n",
            "\n"
          ]
        }
      ],
      "source": [
        "# Going through a few examples in the training split\n",
        "\n",
        "for index in range(2):\n",
        "    print('Text')\n",
        "    print(X_train[index])\n",
        "    print()\n",
        "    \n",
        "    print('Is Natural Disaster?')\n",
        "    print(Y_train[index], 'Yes' if Y_train[index] == 1 else 'No')\n",
        "    print('======================')\n",
        "    print()"
      ]
    },
    {
      "attachments": {},
      "cell_type": "markdown",
      "metadata": {},
      "source": [
        "## 2. Baseline"
      ]
    },
    {
      "attachments": {},
      "cell_type": "markdown",
      "metadata": {},
      "source": [
        "### 2.1 Create a Simple Baseline"
      ]
    },
    {
      "cell_type": "code",
      "execution_count": 8,
      "metadata": {},
      "outputs": [],
      "source": [
        "# Returns a positive result, regardless of the input\n",
        "def baseline_model(text_inputs):\n",
        "    return 1\n",
        "\n",
        "# Vectorized version of the method to apply to numpy arrays properly\n",
        "baseline_model_np = np.vectorize(baseline_model, signature='(n) -> ()')"
      ]
    },
    {
      "cell_type": "code",
      "execution_count": 9,
      "metadata": {},
      "outputs": [
        {
          "name": "stdout",
          "output_type": "stream",
          "text": [
            "Input:\n",
            "[2588 'crash' 'Charleston, SC'\n",
            " \"'Fatal crash reported on Johns Island' http://t.co/d2i9bL89Zo\"]\n",
            "\n",
            "Output\n",
            "1\n",
            "\n",
            "Prediction\n",
            "1\n",
            "==================\n",
            "\n",
            "Input:\n",
            "[9865 'traumatised' 'Portsmouth, UK'\n",
            " \"I'm that traumatised that I can't even spell properly! Excuse the typos!\"]\n",
            "\n",
            "Output\n",
            "0\n",
            "\n",
            "Prediction\n",
            "1\n",
            "==================\n",
            "\n",
            "Input:\n",
            "[9915 'trouble' 'Atlanta'\n",
            " 'A man a woman Romance &amp; South Afrikaan Trouble - on # sale PreOrder #theBargain - http://t.co/UMl5jZTmcB']\n",
            "\n",
            "Output\n",
            "0\n",
            "\n",
            "Prediction\n",
            "1\n",
            "==================\n",
            "\n",
            "Input:\n",
            "[4391 'earthquake' '#keepthefaith J&J' 'Earthquake drill ??']\n",
            "\n",
            "Output\n",
            "1\n",
            "\n",
            "Prediction\n",
            "1\n",
            "==================\n",
            "\n",
            "Input:\n",
            "[730 'attacked' 'Livingston, IL  U.S.A.'\n",
            " 'Christian Attacked by Muslims at the Temple Mount after Waving Israeli Flag via Pamela Geller - ... http://t.co/e4YDbM4Dx6']\n",
            "\n",
            "Output\n",
            "1\n",
            "\n",
            "Prediction\n",
            "1\n",
            "==================\n",
            "\n"
          ]
        }
      ],
      "source": [
        "# Testing the baseline on the \n",
        "baseline_predictions_train = baseline_model_np(X_train)\n",
        "\n",
        "for i in range(5):\n",
        "    print('Input:')\n",
        "    print(X_train[i])\n",
        "    print()\n",
        "\n",
        "    print('Output')\n",
        "    print(Y_train[i])\n",
        "    print()\n",
        "\n",
        "    print('Prediction')\n",
        "    print(baseline_predictions_train[i])\n",
        "    print('==================')\n",
        "    print()"
      ]
    },
    {
      "attachments": {},
      "cell_type": "markdown",
      "metadata": {},
      "source": [
        "### 2.2 Calculate the Log Loss of our baseline model\n",
        "\n",
        "Since our baseline is simple, we can use this loss value to determine whether our models are more accurate than a naive approach."
      ]
    },
    {
      "cell_type": "code",
      "execution_count": 10,
      "metadata": {},
      "outputs": [],
      "source": [
        "# Calculates Log Loss\n",
        "def calculate_loss(labels, predictions):\n",
        "    epsilon = 0.000001  # Prevents taking the natural log of non-positive values\n",
        "    ce_values = -labels * np.log(predictions + epsilon) - (1 - labels) * np.log(1 - predictions + epsilon)\n",
        "    loss = ce_values.mean()\n",
        "    return loss"
      ]
    },
    {
      "cell_type": "code",
      "execution_count": 11,
      "metadata": {},
      "outputs": [
        {
          "name": "stdout",
          "output_type": "stream",
          "text": [
            "Training Loss: 7.866633153790704\n",
            "Validation Loss: 7.995590334727566\n"
          ]
        }
      ],
      "source": [
        "# Calculate the loss on the training portion of our train data\n",
        "training_loss = calculate_loss(Y_train, baseline_predictions_train)\n",
        "print('Training Loss:', training_loss)\n",
        "\n",
        "# Calculate the loss on the validation portion our our train data\n",
        "baseline_predictions_validation = baseline_model_np(X_validation)\n",
        "testing_loss = calculate_loss(Y_validation, baseline_predictions_validation)\n",
        "print('Validation Loss:', testing_loss)"
      ]
    },
    {
      "attachments": {},
      "cell_type": "markdown",
      "metadata": {},
      "source": [
        "### 2.3 Upload the baseline model to Kaggle\n",
        "\n",
        "We can then upload a `submission.csv` file to Kaggle to find the F1 score of our baseline model."
      ]
    },
    {
      "cell_type": "code",
      "execution_count": 12,
      "metadata": {},
      "outputs": [],
      "source": [
        "# Create the submission CSV file for our Kaggle submission\n",
        "def save_to_submissions_csv(text_inputs, prediction_labels):\n",
        "    print('Generating \"submission.csv\" file...')\n",
        "\n",
        "    # Extract the ids of the text inputs and flatten to a 1D ndarray\n",
        "    test_ids = text_inputs[:,0].flatten()\n",
        "\n",
        "    # Write the submission file and save to 'submission.csv'\n",
        "    np.savetxt(\n",
        "        'submission.csv',\n",
        "        np.rec.fromarrays([test_ids, prediction_labels]),\n",
        "        fmt=['%s', '%d'],\n",
        "        delimiter=',',\n",
        "        header='id,target',\n",
        "        comments=''\n",
        "    )\n",
        "\n",
        "    # Show success!\n",
        "    print('Successfully created \"submission.csv\"')"
      ]
    },
    {
      "cell_type": "code",
      "execution_count": 13,
      "metadata": {},
      "outputs": [
        {
          "name": "stdout",
          "output_type": "stream",
          "text": [
            "Generating \"submission.csv\" file...\n",
            "Successfully created \"submission.csv\"\n"
          ]
        }
      ],
      "source": [
        "# Reformat the single training dataframe to an input dataframe\n",
        "input_names = ['id', 'keyword', 'location', 'text']\n",
        "test_input_df = test_df[input_names]\n",
        "\n",
        "# Reformat the input dataframe into a numpy array for running through our model\n",
        "test_input_np = test_input_df.to_numpy()\n",
        "\n",
        "# Predict by using the baseline model on the test input and save to a .csv\n",
        "baseline_predictions_test = baseline_model_np(test_input_np)\n",
        "save_to_submissions_csv(test_input_np, baseline_predictions_test)"
      ]
    },
    {
      "cell_type": "code",
      "execution_count": 14,
      "metadata": {},
      "outputs": [
        {
          "data": {
            "text/html": [
              "<div>\n",
              "<style scoped>\n",
              "    .dataframe tbody tr th:only-of-type {\n",
              "        vertical-align: middle;\n",
              "    }\n",
              "\n",
              "    .dataframe tbody tr th {\n",
              "        vertical-align: top;\n",
              "    }\n",
              "\n",
              "    .dataframe thead th {\n",
              "        text-align: right;\n",
              "    }\n",
              "</style>\n",
              "<table border=\"1\" class=\"dataframe\">\n",
              "  <thead>\n",
              "    <tr style=\"text-align: right;\">\n",
              "      <th></th>\n",
              "      <th>id</th>\n",
              "      <th>target</th>\n",
              "    </tr>\n",
              "  </thead>\n",
              "  <tbody>\n",
              "    <tr>\n",
              "      <th>0</th>\n",
              "      <td>0</td>\n",
              "      <td>1</td>\n",
              "    </tr>\n",
              "    <tr>\n",
              "      <th>1</th>\n",
              "      <td>2</td>\n",
              "      <td>1</td>\n",
              "    </tr>\n",
              "    <tr>\n",
              "      <th>2</th>\n",
              "      <td>3</td>\n",
              "      <td>1</td>\n",
              "    </tr>\n",
              "    <tr>\n",
              "      <th>3</th>\n",
              "      <td>9</td>\n",
              "      <td>1</td>\n",
              "    </tr>\n",
              "    <tr>\n",
              "      <th>4</th>\n",
              "      <td>11</td>\n",
              "      <td>1</td>\n",
              "    </tr>\n",
              "  </tbody>\n",
              "</table>\n",
              "</div>"
            ],
            "text/plain": [
              "   id  target\n",
              "0   0       1\n",
              "1   2       1\n",
              "2   3       1\n",
              "3   9       1\n",
              "4  11       1"
            ]
          },
          "execution_count": 14,
          "metadata": {},
          "output_type": "execute_result"
        }
      ],
      "source": [
        "# Look at the first few predictions to ensure things went smoothly\n",
        "pd.read_csv('submission.csv').head()"
      ]
    },
    {
      "attachments": {},
      "cell_type": "markdown",
      "metadata": {},
      "source": [
        "## 3. Data Analysis"
      ]
    },
    {
      "attachments": {},
      "cell_type": "markdown",
      "metadata": {},
      "source": [
        "### 3.1 Explore the frequency of common words\n",
        "\n",
        "Tweets can have all sorts of words inside of them, but we can always find common words that we can use for our vocabulary\n",
        "\n",
        "The motivation for this graph to see what type of words are commonly used within our tweets dataset to see what we should and should not include in our vocabulary."
      ]
    },
    {
      "cell_type": "code",
      "execution_count": 15,
      "metadata": {},
      "outputs": [],
      "source": [
        "from collections import Counter\n",
        "\n",
        "# Plots the frequency of the top commonly used words in the provided tweets in\n",
        "# the positive and negative class\n",
        "def plot_frequency(tweets_np, labels_np, max_word_num=20):\n",
        "    # Creates a counter that keeps track of the frequency of words (similar to defaultdict)\n",
        "    pos_counter = Counter()\n",
        "    neg_counter = Counter()\n",
        "    tweets_np = np.copy(tweets_np) # Deep Copy of input\n",
        "\n",
        "    # Total Counter Variables\n",
        "    pos_counter_all = 0\n",
        "    neg_counter_all = 0\n",
        "\n",
        "    # Go through the tweets dataset\n",
        "    total_words = set()\n",
        "    for entry_index in range(tweets_np.shape[0]):\n",
        "        # Flatten all of the features into a single string\n",
        "        words = ' '.join([str(feature).lower() for feature in tweets_np[entry_index]])\n",
        "        # Count the frequency of each word\n",
        "        for word in words.split():\n",
        "            # Group all links as 1 token\n",
        "            if word.startswith('http'):\n",
        "                word = '<LINK>'\n",
        "            # Group all articles as 1 token\n",
        "            elif word in ['the', 'a', 'an']:\n",
        "                word = '<ARTICLE>'\n",
        "            \n",
        "            if labels_np[entry_index]:\n",
        "                pos_counter[word] += 1  # Positive entry\n",
        "                pos_counter_all += 1\n",
        "            else:\n",
        "                neg_counter[word] += 1  # Negative entry\n",
        "                neg_counter_all += 1\n",
        "\n",
        "            # For Debug purposes, saving all of the words we encounter\n",
        "            total_words.add(word)\n",
        "    \n",
        "    # Extract at most max_word_num words that are the most common words\n",
        "    # for both classes (and removes overlap)\n",
        "    top_pos_words = [word for word, _ in pos_counter.most_common(max_word_num // 2)]\n",
        "    top_neg_words = [word for word, _ in neg_counter.most_common(max_word_num // 2)]\n",
        "    top_words = set(top_pos_words + top_neg_words)\n",
        "\n",
        "    # Create a Data Frame for the collected data\n",
        "    result = {\n",
        "        'word': [word for word in top_words],\n",
        "        'pos count': [pos_counter[word] for word in top_words],\n",
        "        'neg count': [neg_counter[word] for word in top_words],\n",
        "        '% chance is pos': [(pos_counter[word] / (pos_counter[word] + neg_counter[word])) * 100 for word in top_words]\n",
        "    }\n",
        "    word_count_df = pd.DataFrame(data=result, columns=result.keys())\n",
        "    word_count_df = word_count_df.set_index('word')\n",
        "    display(word_count_df)\n",
        "    \n",
        "    # Plot a bar graph that groups pos and neg count for a few of the most used words\n",
        "    pd.concat([word_count_df[['pos count']], word_count_df[['neg count']]], axis=1).plot.bar()\n",
        "\n",
        "    print(f'DEBUG: Total Words Len: {len(total_words)}')\n",
        "    print(f'DEBUG: Total Positive Examples: {pos_counter_all}')\n",
        "    print(f'DEBUG: Total Negative Examples: {neg_counter_all}')"
      ]
    },
    {
      "cell_type": "code",
      "execution_count": 16,
      "metadata": {},
      "outputs": [
        {
          "data": {
            "text/html": [
              "<div>\n",
              "<style scoped>\n",
              "    .dataframe tbody tr th:only-of-type {\n",
              "        vertical-align: middle;\n",
              "    }\n",
              "\n",
              "    .dataframe tbody tr th {\n",
              "        vertical-align: top;\n",
              "    }\n",
              "\n",
              "    .dataframe thead th {\n",
              "        text-align: right;\n",
              "    }\n",
              "</style>\n",
              "<table border=\"1\" class=\"dataframe\">\n",
              "  <thead>\n",
              "    <tr style=\"text-align: right;\">\n",
              "      <th></th>\n",
              "      <th>pos count</th>\n",
              "      <th>neg count</th>\n",
              "      <th>% chance is pos</th>\n",
              "    </tr>\n",
              "    <tr>\n",
              "      <th>word</th>\n",
              "      <th></th>\n",
              "      <th></th>\n",
              "      <th></th>\n",
              "    </tr>\n",
              "  </thead>\n",
              "  <tbody>\n",
              "    <tr>\n",
              "      <th>to</th>\n",
              "      <td>761</td>\n",
              "      <td>1195</td>\n",
              "      <td>38.905930</td>\n",
              "    </tr>\n",
              "    <tr>\n",
              "      <th>from</th>\n",
              "      <td>247</td>\n",
              "      <td>183</td>\n",
              "      <td>57.441860</td>\n",
              "    </tr>\n",
              "    <tr>\n",
              "      <th>&lt;LINK&gt;</th>\n",
              "      <td>2510</td>\n",
              "      <td>2196</td>\n",
              "      <td>53.336167</td>\n",
              "    </tr>\n",
              "    <tr>\n",
              "      <th>new</th>\n",
              "      <td>132</td>\n",
              "      <td>292</td>\n",
              "      <td>31.132075</td>\n",
              "    </tr>\n",
              "    <tr>\n",
              "      <th>for</th>\n",
              "      <td>399</td>\n",
              "      <td>489</td>\n",
              "      <td>44.932432</td>\n",
              "    </tr>\n",
              "    <tr>\n",
              "      <th>by</th>\n",
              "      <td>279</td>\n",
              "      <td>242</td>\n",
              "      <td>53.550864</td>\n",
              "    </tr>\n",
              "    <tr>\n",
              "      <th>on</th>\n",
              "      <td>418</td>\n",
              "      <td>444</td>\n",
              "      <td>48.491879</td>\n",
              "    </tr>\n",
              "    <tr>\n",
              "      <th>this</th>\n",
              "      <td>179</td>\n",
              "      <td>287</td>\n",
              "      <td>38.412017</td>\n",
              "    </tr>\n",
              "    <tr>\n",
              "      <th>&lt;ARTICLE&gt;</th>\n",
              "      <td>2426</td>\n",
              "      <td>3372</td>\n",
              "      <td>41.842014</td>\n",
              "    </tr>\n",
              "    <tr>\n",
              "      <th>nan</th>\n",
              "      <td>1117</td>\n",
              "      <td>1479</td>\n",
              "      <td>43.027735</td>\n",
              "    </tr>\n",
              "    <tr>\n",
              "      <th>that</th>\n",
              "      <td>181</td>\n",
              "      <td>357</td>\n",
              "      <td>33.643123</td>\n",
              "    </tr>\n",
              "    <tr>\n",
              "      <th>my</th>\n",
              "      <td>134</td>\n",
              "      <td>566</td>\n",
              "      <td>19.142857</td>\n",
              "    </tr>\n",
              "    <tr>\n",
              "      <th>with</th>\n",
              "      <td>188</td>\n",
              "      <td>382</td>\n",
              "      <td>32.982456</td>\n",
              "    </tr>\n",
              "    <tr>\n",
              "      <th>in</th>\n",
              "      <td>1186</td>\n",
              "      <td>854</td>\n",
              "      <td>58.137255</td>\n",
              "    </tr>\n",
              "    <tr>\n",
              "      <th>after</th>\n",
              "      <td>181</td>\n",
              "      <td>75</td>\n",
              "      <td>70.703125</td>\n",
              "    </tr>\n",
              "    <tr>\n",
              "      <th>as</th>\n",
              "      <td>171</td>\n",
              "      <td>160</td>\n",
              "      <td>51.661631</td>\n",
              "    </tr>\n",
              "    <tr>\n",
              "      <th>of</th>\n",
              "      <td>957</td>\n",
              "      <td>935</td>\n",
              "      <td>50.581395</td>\n",
              "    </tr>\n",
              "    <tr>\n",
              "      <th>at</th>\n",
              "      <td>305</td>\n",
              "      <td>237</td>\n",
              "      <td>56.273063</td>\n",
              "    </tr>\n",
              "    <tr>\n",
              "      <th>i</th>\n",
              "      <td>292</td>\n",
              "      <td>1061</td>\n",
              "      <td>21.581670</td>\n",
              "    </tr>\n",
              "    <tr>\n",
              "      <th>-</th>\n",
              "      <td>419</td>\n",
              "      <td>396</td>\n",
              "      <td>51.411043</td>\n",
              "    </tr>\n",
              "    <tr>\n",
              "      <th>is</th>\n",
              "      <td>348</td>\n",
              "      <td>590</td>\n",
              "      <td>37.100213</td>\n",
              "    </tr>\n",
              "    <tr>\n",
              "      <th>be</th>\n",
              "      <td>113</td>\n",
              "      <td>287</td>\n",
              "      <td>28.250000</td>\n",
              "    </tr>\n",
              "    <tr>\n",
              "      <th>and</th>\n",
              "      <td>512</td>\n",
              "      <td>927</td>\n",
              "      <td>35.580264</td>\n",
              "    </tr>\n",
              "    <tr>\n",
              "      <th>you</th>\n",
              "      <td>125</td>\n",
              "      <td>629</td>\n",
              "      <td>16.578249</td>\n",
              "    </tr>\n",
              "    <tr>\n",
              "      <th>it</th>\n",
              "      <td>164</td>\n",
              "      <td>342</td>\n",
              "      <td>32.411067</td>\n",
              "    </tr>\n",
              "  </tbody>\n",
              "</table>\n",
              "</div>"
            ],
            "text/plain": [
              "           pos count  neg count  % chance is pos\n",
              "word                                            \n",
              "to               761       1195        38.905930\n",
              "from             247        183        57.441860\n",
              "<LINK>          2510       2196        53.336167\n",
              "new              132        292        31.132075\n",
              "for              399        489        44.932432\n",
              "by               279        242        53.550864\n",
              "on               418        444        48.491879\n",
              "this             179        287        38.412017\n",
              "<ARTICLE>       2426       3372        41.842014\n",
              "nan             1117       1479        43.027735\n",
              "that             181        357        33.643123\n",
              "my               134        566        19.142857\n",
              "with             188        382        32.982456\n",
              "in              1186        854        58.137255\n",
              "after            181         75        70.703125\n",
              "as               171        160        51.661631\n",
              "of               957        935        50.581395\n",
              "at               305        237        56.273063\n",
              "i                292       1061        21.581670\n",
              "-                419        396        51.411043\n",
              "is               348        590        37.100213\n",
              "be               113        287        28.250000\n",
              "and              512        927        35.580264\n",
              "you              125        629        16.578249\n",
              "it               164        342        32.411067"
            ]
          },
          "metadata": {},
          "output_type": "display_data"
        },
        {
          "name": "stdout",
          "output_type": "stream",
          "text": [
            "DEBUG: Total Words Len: 33580\n",
            "DEBUG: Total Positive Examples: 61864\n",
            "DEBUG: Total Negative Examples: 80205\n"
          ]
        },
        {
          "data": {
            "image/png": "[encoded data removed]",
            "text/plain": [
              "<Figure size 640x480 with 1 Axes>"
            ]
          },
          "metadata": {},
          "output_type": "display_data"
        }
      ],
      "source": [
        "# Display and plot at most 40 words from the X_data set\n",
        "plot_frequency(X_data, Y_data, max_word_num=40)"
      ]
    },
    {
      "cell_type": "code",
      "execution_count": 17,
      "metadata": {},
      "outputs": [],
      "source": [
        "from collections import defaultdict\n",
        "\n",
        "def length_plot(tweets_np , labels_np, interval_list):\n",
        "\n",
        "    # initializes maps to count based on intervals of words\n",
        "    pos_intervals = defaultdict(int)\n",
        "    neg_intervals = defaultdict(int)\n",
        "\n",
        "    # Convert the interval list into ranges for use below\n",
        "    interval_map = {}\n",
        "    for interval in interval_list:\n",
        "        # Parses interval strings into useable ranges\n",
        "        if '-' in interval:\n",
        "            start, end = map(lambda x: int(x), interval.split('-'))\n",
        "        else:\n",
        "            start, end = interval.split('+')[0], 285\n",
        "\n",
        "        interval_map[interval] = range(int(start), int(end) + 1)\n",
        "\n",
        "    # Track the counts of positive and negative inputs for each range from above\n",
        "    for entry_index in range(tweets_np.shape[0]):\n",
        "        # Flatten all of the features into a single string\n",
        "        words = ' '.join([str(feature) for feature in tweets_np[entry_index]]).split()\n",
        "\n",
        "        for interval in interval_list:\n",
        "            # Ignore words counts outside of our intervals\n",
        "            if len(words) not in interval_map[interval]:\n",
        "                continue\n",
        "\n",
        "            # Updates the counts of positive and negative entries in the dictionary\n",
        "            # based on the interval they are in\n",
        "            if labels_np[entry_index]:\n",
        "                pos_intervals[interval] += 1\n",
        "            else:\n",
        "                neg_intervals[interval] += 1\n",
        "\n",
        "    # Create a Data Frame for the collected data\n",
        "    result= {\n",
        "        'interval' : [ interval for interval in interval_list],\n",
        "        'pos intervals' : [pos_intervals[interval] for interval in interval_list],\n",
        "        'neg intervals' : [neg_intervals[interval] for interval in interval_list],\n",
        "        '% chance is pos': [(pos_intervals[interval] / (pos_intervals[interval] + neg_intervals[interval])) * 100 for interval in interval_list],\n",
        "    }\n",
        "    word_count_df = pd.DataFrame(data = result , columns=result.keys())\n",
        "    word_count_df = word_count_df.set_index('interval')\n",
        "\n",
        "    # Plot and Display the collected data\n",
        "    pd.concat([word_count_df[['pos intervals']], word_count_df[['neg intervals']]], axis=1).plot.bar()\n",
        "    display(word_count_df)\n",
        "\n",
        "    # Debugging code\n",
        "    print(neg_intervals)\n",
        "    print(pos_intervals)"
      ]
    },
    {
      "cell_type": "code",
      "execution_count": 18,
      "metadata": {},
      "outputs": [
        {
          "data": {
            "text/html": [
              "<div>\n",
              "<style scoped>\n",
              "    .dataframe tbody tr th:only-of-type {\n",
              "        vertical-align: middle;\n",
              "    }\n",
              "\n",
              "    .dataframe tbody tr th {\n",
              "        vertical-align: top;\n",
              "    }\n",
              "\n",
              "    .dataframe thead th {\n",
              "        text-align: right;\n",
              "    }\n",
              "</style>\n",
              "<table border=\"1\" class=\"dataframe\">\n",
              "  <thead>\n",
              "    <tr style=\"text-align: right;\">\n",
              "      <th></th>\n",
              "      <th>pos intervals</th>\n",
              "      <th>neg intervals</th>\n",
              "      <th>% chance is pos</th>\n",
              "    </tr>\n",
              "    <tr>\n",
              "      <th>interval</th>\n",
              "      <th></th>\n",
              "      <th></th>\n",
              "      <th></th>\n",
              "    </tr>\n",
              "  </thead>\n",
              "  <tbody>\n",
              "    <tr>\n",
              "      <th>0-5</th>\n",
              "      <td>2</td>\n",
              "      <td>28</td>\n",
              "      <td>6.666667</td>\n",
              "    </tr>\n",
              "    <tr>\n",
              "      <th>6-10</th>\n",
              "      <td>164</td>\n",
              "      <td>463</td>\n",
              "      <td>26.156300</td>\n",
              "    </tr>\n",
              "    <tr>\n",
              "      <th>11-15</th>\n",
              "      <td>740</td>\n",
              "      <td>1017</td>\n",
              "      <td>42.117245</td>\n",
              "    </tr>\n",
              "    <tr>\n",
              "      <th>16-20</th>\n",
              "      <td>1041</td>\n",
              "      <td>1165</td>\n",
              "      <td>47.189483</td>\n",
              "    </tr>\n",
              "    <tr>\n",
              "      <th>21-25</th>\n",
              "      <td>973</td>\n",
              "      <td>1010</td>\n",
              "      <td>49.067070</td>\n",
              "    </tr>\n",
              "    <tr>\n",
              "      <th>26-30</th>\n",
              "      <td>317</td>\n",
              "      <td>552</td>\n",
              "      <td>36.478711</td>\n",
              "    </tr>\n",
              "    <tr>\n",
              "      <th>31-35</th>\n",
              "      <td>34</td>\n",
              "      <td>106</td>\n",
              "      <td>24.285714</td>\n",
              "    </tr>\n",
              "    <tr>\n",
              "      <th>36+</th>\n",
              "      <td>0</td>\n",
              "      <td>1</td>\n",
              "      <td>0.000000</td>\n",
              "    </tr>\n",
              "  </tbody>\n",
              "</table>\n",
              "</div>"
            ],
            "text/plain": [
              "          pos intervals  neg intervals  % chance is pos\n",
              "interval                                               \n",
              "0-5                   2             28         6.666667\n",
              "6-10                164            463        26.156300\n",
              "11-15               740           1017        42.117245\n",
              "16-20              1041           1165        47.189483\n",
              "21-25               973           1010        49.067070\n",
              "26-30               317            552        36.478711\n",
              "31-35                34            106        24.285714\n",
              "36+                   0              1         0.000000"
            ]
          },
          "metadata": {},
          "output_type": "display_data"
        },
        {
          "name": "stdout",
          "output_type": "stream",
          "text": [
            "defaultdict(<class 'int'>, {'6-10': 463, '0-5': 28, '16-20': 1165, '11-15': 1017, '21-25': 1010, '26-30': 552, '31-35': 106, '36+': 1})\n",
            "defaultdict(<class 'int'>, {'16-20': 1041, '6-10': 164, '21-25': 973, '11-15': 740, '26-30': 317, '31-35': 34, '0-5': 2, '36+': 0})\n"
          ]
        },
        {
          "data": {
            "image/png": "[encoded data removed]",
            "text/plain": [
              "<Figure size 640x480 with 1 Axes>"
            ]
          },
          "metadata": {},
          "output_type": "display_data"
        }
      ],
      "source": [
        "# Plots the count of positive and negative classes of X_data based on the given intervals\n",
        "intervals = ['0-5', '6-10' , '11-15' , '16-20' , '21-25' , '26-30' , '31-35', '36+']\n",
        "length_plot(X_data, Y_data, intervals)"
      ]
    },
    {
      "attachments": {},
      "cell_type": "markdown",
      "metadata": {},
      "source": [
        "## 4. Our Experiments"
      ]
    },
    {
      "attachments": {},
      "cell_type": "markdown",
      "metadata": {},
      "source": [
        "### 4.1 Normalize our data\n",
        "\n",
        "Since tweets can contain lots of punctuation, we want to specify a standardization to sanitize our inputs. \n",
        "> **NOTE** Though standarization helps ensure that our model works for unusual input, there may be a lost \n",
        "> of information when applying normalizations."
      ]
    },
    {
      "attachments": {},
      "cell_type": "markdown",
      "metadata": {},
      "source": [
        "#### 4.1.1 Normalization Technique 1: Remove punctuation and Links"
      ]
    },
    {
      "cell_type": "code",
      "execution_count": 19,
      "metadata": {},
      "outputs": [
        {
          "name": "stdout",
          "output_type": "stream",
          "text": [
            "DEBUG: i am cool <LINK> <LINK>\n"
          ]
        },
        {
          "data": {
            "text/plain": [
              "<tf.Tensor: shape=(), dtype=string, numpy=b'i am cool <LINK> <LINK>'>"
            ]
          },
          "execution_count": 19,
          "metadata": {},
          "output_type": "execute_result"
        }
      ],
      "source": [
        "# Stardardizes the input\n",
        "def normalize_punctuation_and_links(tweets_text, show_debug=False):\n",
        "    # Make all letters lowercase\n",
        "    result_tensor = tf.strings.lower(tweets_text)\n",
        "\n",
        "    # Replace links with <LINK> token\n",
        "    link_regex = r'(https?:\\/\\/)([\\da-z\\.-]+)\\.([a-z\\.]{2,6})([\\/\\w\\.-]*)'\n",
        "    result_tensor = tf.strings.regex_replace(result_tensor, link_regex, '<LINK>')\n",
        "\n",
        "    # Remove punctuation (but don't remove <> from our Link tokens)\n",
        "    punctuation_regex = r'[^\\w\\s<>]'\n",
        "    result_tensor = tf.strings.regex_replace(result_tensor, punctuation_regex, ' ')\n",
        "\n",
        "    # Remove extra spaces\n",
        "    multi_space_regex = r'\\s{2,}'\n",
        "    result_tensor = tf.strings.regex_replace(result_tensor, multi_space_regex, ' ')\n",
        "\n",
        "    if show_debug:\n",
        "        print('DEBUG: ', end='')\n",
        "        tf.print(result_tensor)\n",
        "\n",
        "    return result_tensor\n",
        "\n",
        "normalize_punctuation_and_links('I.am.cool  http://www.example.com, https://github.com/example', show_debug=True)"
      ]
    },
    {
      "cell_type": "code",
      "execution_count": 20,
      "metadata": {},
      "outputs": [],
      "source": [
        "def build_ffnn_model(tweets_np, max_vocab, max_tokens, embedding_dim):\n",
        "    # Remove randomness\n",
        "    tf.keras.backend.clear_session()\n",
        "    tf.keras.utils.set_random_seed(0)\n",
        "    \n",
        "    # Build the normalization layer ahead of time\n",
        "    norm_layer = tf.keras.layers.TextVectorization(\n",
        "        max_tokens,\n",
        "        standardize=normalize_punctuation_and_links,\n",
        "        split='whitespace',\n",
        "        # output_mode='multi_hot',\n",
        "        output_mode='int',\n",
        "        # pad_to_max_tokens=True,\n",
        "        encoding='utf-8',\n",
        "        name='Normalization_Layer'\n",
        "    )\n",
        "    norm_layer.adapt(tweets_np, batch_size=64)\n",
        "\n",
        "    # display(norm_layer.get_vocabulary())\n",
        "\n",
        "    # Build our FFNN Model using embeddings and average pooling\n",
        "    model = tf.keras.models.Sequential()\n",
        "    model.add(tf.keras.Input(shape=(1,), dtype=tf.string))\n",
        "    model.add(norm_layer)\n",
        "    model.add(tf.keras.layers.Embedding(\n",
        "        input_dim=max_vocab,\n",
        "        output_dim=embedding_dim,\n",
        "        input_length=max_tokens,\n",
        "        name='Embeddings_Layer',\n",
        "    ))\n",
        "    model.add(tf.keras.layers.GlobalMaxPooling1D(\n",
        "        name='Max_Pool_Layer'\n",
        "    ))\n",
        "    model.add(tf.keras.layers.Dense(\n",
        "        units=32,\n",
        "        # activation='relu',\n",
        "        activation='sigmoid',\n",
        "        name='Dense_Layer_1',\n",
        "    ))\n",
        "    model.add(tf.keras.layers.Dense(\n",
        "        units=32,\n",
        "        # activation='relu',\n",
        "        activation='sigmoid',\n",
        "        name='Dense_Layer_2',\n",
        "    ))\n",
        "    model.add(tf.keras.layers.Dense(\n",
        "        units=1,\n",
        "        activation='sigmoid',\n",
        "        name='Output_Layer',\n",
        "    ))\n",
        "\n",
        "    # Compile and return the model\n",
        "    model.compile(loss='binary_crossentropy', optimizer='adam', metrics=['accuracy'])\n",
        "    return model"
      ]
    },
    {
      "cell_type": "code",
      "execution_count": 21,
      "metadata": {},
      "outputs": [
        {
          "name": "stdout",
          "output_type": "stream",
          "text": [
            "Model: \"sequential\"\n",
            "_________________________________________________________________\n",
            " Layer (type)                Output Shape              Param #   \n",
            "=================================================================\n",
            " Normalization_Layer (TextVe  (None, None)             0         \n",
            " ctorization)                                                    \n",
            "                                                                 \n",
            " Embeddings_Layer (Embedding  (None, None, 9)          180000    \n",
            " )                                                               \n",
            "                                                                 \n",
            " Max_Pool_Layer (GlobalMaxPo  (None, 9)                0         \n",
            " oling1D)                                                        \n",
            "                                                                 \n",
            " Dense_Layer_1 (Dense)       (None, 32)                320       \n",
            "                                                                 \n",
            " Dense_Layer_2 (Dense)       (None, 32)                1056      \n",
            "                                                                 \n",
            " Output_Layer (Dense)        (None, 1)                 33        \n",
            "                                                                 \n",
            "=================================================================\n",
            "Total params: 181,409\n",
            "Trainable params: 181,409\n",
            "Non-trainable params: 0\n",
            "_________________________________________________________________\n"
          ]
        },
        {
          "data": {
            "text/plain": [
              "None"
            ]
          },
          "metadata": {},
          "output_type": "display_data"
        }
      ],
      "source": [
        "ffnn_model = build_ffnn_model(X_train[:,3], 20000, 300, 9)\n",
        "display(ffnn_model.summary())"
      ]
    },
    {
      "attachments": {},
      "cell_type": "markdown",
      "metadata": {},
      "source": [
        "## 5. Error Analysis"
      ]
    },
    {
      "cell_type": "code",
      "execution_count": 22,
      "metadata": {},
      "outputs": [],
      "source": [
        "# TODO: Loss Analysis"
      ]
    },
    {
      "cell_type": "code",
      "execution_count": 23,
      "metadata": {},
      "outputs": [],
      "source": [
        "def plot_history(history, epochs):\n",
        "    plt.xlabel('Epochs')\n",
        "    plt.ylabel('Loss (in %)')\n",
        "    plt.title('Loss vs Epoch')\n",
        "\n",
        "    plt.plot(list(range(1, epochs + 1)), history['loss'] * 100, label=\"Train\")\n",
        "    plt.plot(list(range(1, epochs + 1)), history['val_loss'] * 100, label=\"Validation\")\n",
        "    \n",
        "    plt.legend(loc='best')\n",
        "    plt.show()\n",
        "\n",
        "    print('Loss:', history['loss'].iloc[-1])\n",
        "    print('Val Loss:', history['val_loss'].iloc[-1])\n",
        "\n",
        "    plt.xlabel('Epochs')\n",
        "    plt.ylabel('Acacuracy (in %)')\n",
        "    plt.title('Accuracy vs Epoch')\n",
        "\n",
        "    plt.plot(list(range(1, epochs + 1)), history['accuracy'] * 100, label=\"Train\")\n",
        "    plt.plot(list(range(1, epochs + 1)), history['val_accuracy'] * 100, label=\"Validation\")\n",
        "    \n",
        "    plt.legend(loc='best')\n",
        "    plt.show()\n",
        "\n",
        "    print('Accuracy:', history['accuracy'].iloc[-1])\n",
        "    print('Val Accuracy:', history['val_accuracy'].iloc[-1])\n"
      ]
    },
    {
      "cell_type": "code",
      "execution_count": 24,
      "metadata": {},
      "outputs": [
        {
          "name": "stdout",
          "output_type": "stream",
          "text": [
            "Epoch 1/16\n",
            "386/386 [==============================] - 2s 2ms/step - loss: 0.6813 - accuracy: 0.5706 - val_loss: 0.6644 - val_accuracy: 0.5583\n",
            "Epoch 2/16\n",
            "386/386 [==============================] - 1s 2ms/step - loss: 0.6057 - accuracy: 0.6874 - val_loss: 0.5395 - val_accuracy: 0.7493\n",
            "Epoch 3/16\n",
            "386/386 [==============================] - 1s 2ms/step - loss: 0.5309 - accuracy: 0.7436 - val_loss: 0.5014 - val_accuracy: 0.7653\n",
            "Epoch 4/16\n",
            "386/386 [==============================] - 1s 2ms/step - loss: 0.4912 - accuracy: 0.7689 - val_loss: 0.4831 - val_accuracy: 0.7843\n",
            "Epoch 5/16\n",
            "386/386 [==============================] - 1s 2ms/step - loss: 0.4693 - accuracy: 0.7815 - val_loss: 0.4767 - val_accuracy: 0.7959\n",
            "Epoch 6/16\n",
            "386/386 [==============================] - 1s 2ms/step - loss: 0.4579 - accuracy: 0.7908 - val_loss: 0.4712 - val_accuracy: 0.7901\n",
            "Epoch 7/16\n",
            "386/386 [==============================] - 1s 2ms/step - loss: 0.4497 - accuracy: 0.7945 - val_loss: 0.4755 - val_accuracy: 0.7959\n",
            "Epoch 8/16\n",
            "386/386 [==============================] - 1s 2ms/step - loss: 0.4431 - accuracy: 0.7961 - val_loss: 0.4733 - val_accuracy: 0.8017\n",
            "Epoch 9/16\n",
            "386/386 [==============================] - 1s 2ms/step - loss: 0.4368 - accuracy: 0.8015 - val_loss: 0.4800 - val_accuracy: 0.7945\n",
            "Epoch 10/16\n",
            "386/386 [==============================] - 1s 2ms/step - loss: 0.4331 - accuracy: 0.8015 - val_loss: 0.4748 - val_accuracy: 0.7974\n",
            "Epoch 11/16\n",
            "386/386 [==============================] - 1s 2ms/step - loss: 0.4282 - accuracy: 0.8050 - val_loss: 0.4800 - val_accuracy: 0.7915\n",
            "Epoch 12/16\n",
            "386/386 [==============================] - 1s 2ms/step - loss: 0.4237 - accuracy: 0.8084 - val_loss: 0.4788 - val_accuracy: 0.7959\n",
            "Epoch 13/16\n",
            "386/386 [==============================] - 1s 2ms/step - loss: 0.4205 - accuracy: 0.8079 - val_loss: 0.4816 - val_accuracy: 0.7886\n",
            "Epoch 14/16\n",
            "386/386 [==============================] - 1s 2ms/step - loss: 0.4166 - accuracy: 0.8130 - val_loss: 0.4879 - val_accuracy: 0.7886\n",
            "Epoch 15/16\n",
            "386/386 [==============================] - 1s 2ms/step - loss: 0.4126 - accuracy: 0.8128 - val_loss: 0.4876 - val_accuracy: 0.7857\n",
            "Epoch 16/16\n",
            "386/386 [==============================] - 1s 2ms/step - loss: 0.4086 - accuracy: 0.8162 - val_loss: 0.4906 - val_accuracy: 0.7915\n"
          ]
        }
      ],
      "source": [
        " # Remove randomness\n",
        "tf.keras.backend.clear_session()\n",
        "tf.keras.utils.set_random_seed(0)\n",
        "    \n",
        "ffnn_history = ffnn_model.fit(\n",
        "    X_train[:,3],\n",
        "    Y_train,\n",
        "    epochs=16,\n",
        "    batch_size=16,\n",
        "    validation_split=0.1,\n",
        "    verbose=1,\n",
        ")"
      ]
    },
    {
      "cell_type": "code",
      "execution_count": 25,
      "metadata": {},
      "outputs": [
        {
          "data": {
            "image/png": "[encoded data removed]",
            "text/plain": [
              "<Figure size 640x480 with 1 Axes>"
            ]
          },
          "metadata": {},
          "output_type": "display_data"
        },
        {
          "name": "stdout",
          "output_type": "stream",
          "text": [
            "Loss: 0.4085766077041626\n",
            "Val Loss: 0.490640789270401\n"
          ]
        },
        {
          "data": {
            "image/png": "[encoded data removed]",
            "text/plain": [
              "<Figure size 640x480 with 1 Axes>"
            ]
          },
          "metadata": {},
          "output_type": "display_data"
        },
        {
          "name": "stdout",
          "output_type": "stream",
          "text": [
            "Accuracy: 0.8162205815315247\n",
            "Val Accuracy: 0.7915452122688293\n"
          ]
        }
      ],
      "source": [
        "plot_history(pd.DataFrame(ffnn_history.history), 16)"
      ]
    },
    {
      "attachments": {},
      "cell_type": "markdown",
      "metadata": {},
      "source": [
        "## 6. Conclusion"
      ]
    },
    {
      "attachments": {},
      "cell_type": "markdown",
      "metadata": {},
      "source": [
        "TODO"
      ]
    }
  ],
  "metadata": {
    "colab": {
      "provenance": [],
      "toc_visible": true
    },
    "kernelspec": {
      "display_name": "Python 3",
      "language": "python",
      "name": "python3"
    },
    "language_info": {
      "codemirror_mode": {
        "name": "ipython",
        "version": 3
      },
      "file_extension": ".py",
      "mimetype": "text/x-python",
      "name": "python",
      "nbconvert_exporter": "python",
      "pygments_lexer": "ipython3",
      "version": "3.10.9"
    },
    "vscode": {
      "interpreter": {
        "hash": "c4c6ce542ed86c85d22b49296a52397aea49807c5462a5cc5776ff93f0a8a801"
      }
    }
  },
  "nbformat": 4,
  "nbformat_minor": 0
}
