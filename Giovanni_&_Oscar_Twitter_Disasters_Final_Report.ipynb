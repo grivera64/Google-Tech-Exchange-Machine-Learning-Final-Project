{
  "cells": [
    {
      "attachments": {},
      "cell_type": "markdown",
      "metadata": {
        "id": "FWM79lj2LYI6"
      },
      "source": [
        "# Twitter Disasters Final Report | April 2023"
      ]
    },
    {
      "attachments": {},
      "cell_type": "markdown",
      "metadata": {},
      "source": [
        "## Authors\n",
        "\n",
        "- [Giovanni Rivera](https://github.com/grivera64); Intro to Machine Learning, Section A\n",
        "- [Oscar Jesus Zambrano](https://github.com/osc-zam22); Intro to Machine Learning, Section B"
      ]
    },
    {
      "attachments": {},
      "cell_type": "markdown",
      "metadata": {
        "id": "WPFnCCd7O6fN"
      },
      "source": [
        "#### Setup Dependencies\n"
      ]
    },
    {
      "cell_type": "code",
      "execution_count": 1,
      "metadata": {
        "colab": {
          "base_uri": "https://localhost:8080/"
        },
        "id": "QiwopORsO-yC",
        "outputId": "fa56efa0-7ab1-4f76-9319-137ec3d158f8"
      },
      "outputs": [
        {
          "name": "stdout",
          "output_type": "stream",
          "text": [
            "Note: you may need to restart the kernel to use updated packages.\n",
            "Note: you may need to restart the kernel to use updated packages.\n",
            "Note: you may need to restart the kernel to use updated packages.\n",
            "Note: you may need to restart the kernel to use updated packages.\n",
            "Note: you may need to restart the kernel to use updated packages.\n",
            "Note: you may need to restart the kernel to use updated packages.\n",
            "Note: you may need to restart the kernel to use updated packages.\n",
            "Note: you may need to restart the kernel to use updated packages.\n",
            "Requirement already satisfied: pydot in c:\\users\\river\\anaconda3\\envs\\google-machine-learning-final\\lib\\site-packages (1.4.2)Note: you may need to restart the kernel to use updated packages.\n",
            "\n",
            "Requirement already satisfied: pyparsing>=2.1.4 in c:\\users\\river\\anaconda3\\envs\\google-machine-learning-final\\lib\\site-packages (from pydot) (3.0.9)\n"
          ]
        }
      ],
      "source": [
        "# Ensure that we have the newest version of pip installed\n",
        "%pip install -q --upgrade pip\n",
        "\n",
        "# Install necessary libraries\n",
        "%pip install -q numpy\n",
        "%pip install -q pandas\n",
        "%pip install -q matplotlib\n",
        "%pip install -q seaborn\n",
        "%pip install -q plotly\n",
        "\n",
        "# Helps avoid showing plots in a separate line\n",
        "# %matplotlib inline\n",
        "\n",
        "%pip install -q scikit-learn\n",
        "%pip install -q tensorflow\n",
        "\n",
        "# Helps run plot_model from keras\n",
        "%pip install pydot\n"
      ]
    },
    {
      "cell_type": "code",
      "execution_count": 1,
      "metadata": {
        "id": "ycGSQ31nQRa8"
      },
      "outputs": [],
      "source": [
        "# Import the modules\n",
        "import numpy as np\n",
        "import pandas as pd\n",
        "import tensorflow as tf\n",
        "\n",
        "from matplotlib import pyplot as plt\n",
        "import seaborn as sns\n",
        "import plotly.graph_objs as plotly\n",
        "from sklearn import datasets\n",
        "\n",
        "# Set the styling of the plt plots to darkgrid\n",
        "sns.set_style('darkgrid')\n",
        "\n",
        "# Removes error messsages and sets precision to 3 decimal places\n",
        "import warnings\n",
        "warnings.filterwarnings('ignore')\n",
        "np.set_printoptions(precision=3, suppress=True)"
      ]
    },
    {
      "attachments": {},
      "cell_type": "markdown",
      "metadata": {},
      "source": [
        "## 1. Introduction"
      ]
    },
    {
      "attachments": {},
      "cell_type": "markdown",
      "metadata": {},
      "source": [
        "### Our Story:\n"
      ]
    },
    {
      "attachments": {},
      "cell_type": "markdown",
      "metadata": {},
      "source": [
        "In light of recent events around the globe, we have seen the rise of misinformation being spread on social media. In order to combat this we are using real tweets from real users on Twitter to find a way to stop mis information from spreading, and promote real useful information to those living in or have relatives in affected areas."
      ]
    },
    {
      "attachments": {},
      "cell_type": "markdown",
      "metadata": {},
      "source": [
        "### Our Task:\n",
        "\n",
        "We are designing a Machine Learning model using Tensorflow/Keras to identify whether a given tweet is a natural distaster.\n",
        "\n",
        "Throughout the notebook, we will refer to tweets about a natural distaster as part of the `postive class`, while tweets that aren't about a natural disaster as part of the `negative class`."
      ]
    },
    {
      "attachments": {},
      "cell_type": "markdown",
      "metadata": {
        "id": "UJCd5JzUNNuk"
      },
      "source": [
        "#### 1.1 Load the Data in a Colab Notebook\n",
        "\n",
        "We use a dataset from the Kaggle competition [Tech Exchange 2023 ML Project](https://www.kaggle.com/competitions/techexchange-2023-ml-project).\n",
        "\n",
        "You may find the dataset by navigating to the 'Data' tab in the link aforementioned. Under 'Data Explorer', you can download the following files:\n",
        "\n",
        "- `train.csv`: Contains the training data; we will use this dataset for our training and validation data.\n",
        "- `test.csv`: Contains our testing data; we will use this dataset for making our submissions to Kaggle."
      ]
    },
    {
      "cell_type": "code",
      "execution_count": 2,
      "metadata": {
        "id": "Ct512u3DuP7E"
      },
      "outputs": [
        {
          "data": {
            "text/html": [
              "<div>\n",
              "<style scoped>\n",
              "    .dataframe tbody tr th:only-of-type {\n",
              "        vertical-align: middle;\n",
              "    }\n",
              "\n",
              "    .dataframe tbody tr th {\n",
              "        vertical-align: top;\n",
              "    }\n",
              "\n",
              "    .dataframe thead th {\n",
              "        text-align: right;\n",
              "    }\n",
              "</style>\n",
              "<table border=\"1\" class=\"dataframe\">\n",
              "  <thead>\n",
              "    <tr style=\"text-align: right;\">\n",
              "      <th></th>\n",
              "      <th>id</th>\n",
              "      <th>keyword</th>\n",
              "      <th>location</th>\n",
              "      <th>text</th>\n",
              "      <th>target</th>\n",
              "    </tr>\n",
              "  </thead>\n",
              "  <tbody>\n",
              "    <tr>\n",
              "      <th>0</th>\n",
              "      <td>1</td>\n",
              "      <td>NaN</td>\n",
              "      <td>NaN</td>\n",
              "      <td>Our Deeds are the Reason of this #earthquake M...</td>\n",
              "      <td>1</td>\n",
              "    </tr>\n",
              "    <tr>\n",
              "      <th>1</th>\n",
              "      <td>4</td>\n",
              "      <td>NaN</td>\n",
              "      <td>NaN</td>\n",
              "      <td>Forest fire near La Ronge Sask. Canada</td>\n",
              "      <td>1</td>\n",
              "    </tr>\n",
              "    <tr>\n",
              "      <th>2</th>\n",
              "      <td>5</td>\n",
              "      <td>NaN</td>\n",
              "      <td>NaN</td>\n",
              "      <td>All residents asked to 'shelter in place' are ...</td>\n",
              "      <td>1</td>\n",
              "    </tr>\n",
              "    <tr>\n",
              "      <th>3</th>\n",
              "      <td>6</td>\n",
              "      <td>NaN</td>\n",
              "      <td>NaN</td>\n",
              "      <td>13,000 people receive #wildfires evacuation or...</td>\n",
              "      <td>1</td>\n",
              "    </tr>\n",
              "    <tr>\n",
              "      <th>4</th>\n",
              "      <td>7</td>\n",
              "      <td>NaN</td>\n",
              "      <td>NaN</td>\n",
              "      <td>Just got sent this photo from Ruby #Alaska as ...</td>\n",
              "      <td>1</td>\n",
              "    </tr>\n",
              "  </tbody>\n",
              "</table>\n",
              "</div>"
            ],
            "text/plain": [
              "   id keyword location                                               text  \\\n",
              "0   1     NaN      NaN  Our Deeds are the Reason of this #earthquake M...   \n",
              "1   4     NaN      NaN             Forest fire near La Ronge Sask. Canada   \n",
              "2   5     NaN      NaN  All residents asked to 'shelter in place' are ...   \n",
              "3   6     NaN      NaN  13,000 people receive #wildfires evacuation or...   \n",
              "4   7     NaN      NaN  Just got sent this photo from Ruby #Alaska as ...   \n",
              "\n",
              "   target  \n",
              "0       1  \n",
              "1       1  \n",
              "2       1  \n",
              "3       1  \n",
              "4       1  "
            ]
          },
          "metadata": {},
          "output_type": "display_data"
        }
      ],
      "source": [
        "# Please update the Path here to the location of your train.csv and test.csv files\n",
        "path_to_csv = 'Data/techexchange-2023-ml-project'\n",
        "\n",
        "# Load the Data Frames from the Training and Testing Data Frame\n",
        "train_df = pd.read_csv(f'{path_to_csv}/train.csv')\n",
        "test_df = pd.read_csv(f'{path_to_csv}/test.csv')\n",
        "display(train_df.head())"
      ]
    },
    {
      "cell_type": "code",
      "execution_count": 3,
      "metadata": {},
      "outputs": [
        {
          "data": {
            "text/html": [
              "<div>\n",
              "<style scoped>\n",
              "    .dataframe tbody tr th:only-of-type {\n",
              "        vertical-align: middle;\n",
              "    }\n",
              "\n",
              "    .dataframe tbody tr th {\n",
              "        vertical-align: top;\n",
              "    }\n",
              "\n",
              "    .dataframe thead th {\n",
              "        text-align: right;\n",
              "    }\n",
              "</style>\n",
              "<table border=\"1\" class=\"dataframe\">\n",
              "  <thead>\n",
              "    <tr style=\"text-align: right;\">\n",
              "      <th></th>\n",
              "      <th>id</th>\n",
              "      <th>keyword</th>\n",
              "      <th>location</th>\n",
              "      <th>text</th>\n",
              "    </tr>\n",
              "  </thead>\n",
              "  <tbody>\n",
              "    <tr>\n",
              "      <th>0</th>\n",
              "      <td>1</td>\n",
              "      <td>NaN</td>\n",
              "      <td>NaN</td>\n",
              "      <td>Our Deeds are the Reason of this #earthquake M...</td>\n",
              "    </tr>\n",
              "    <tr>\n",
              "      <th>1</th>\n",
              "      <td>4</td>\n",
              "      <td>NaN</td>\n",
              "      <td>NaN</td>\n",
              "      <td>Forest fire near La Ronge Sask. Canada</td>\n",
              "    </tr>\n",
              "    <tr>\n",
              "      <th>2</th>\n",
              "      <td>5</td>\n",
              "      <td>NaN</td>\n",
              "      <td>NaN</td>\n",
              "      <td>All residents asked to 'shelter in place' are ...</td>\n",
              "    </tr>\n",
              "    <tr>\n",
              "      <th>3</th>\n",
              "      <td>6</td>\n",
              "      <td>NaN</td>\n",
              "      <td>NaN</td>\n",
              "      <td>13,000 people receive #wildfires evacuation or...</td>\n",
              "    </tr>\n",
              "    <tr>\n",
              "      <th>4</th>\n",
              "      <td>7</td>\n",
              "      <td>NaN</td>\n",
              "      <td>NaN</td>\n",
              "      <td>Just got sent this photo from Ruby #Alaska as ...</td>\n",
              "    </tr>\n",
              "  </tbody>\n",
              "</table>\n",
              "</div>"
            ],
            "text/plain": [
              "   id keyword location                                               text\n",
              "0   1     NaN      NaN  Our Deeds are the Reason of this #earthquake M...\n",
              "1   4     NaN      NaN             Forest fire near La Ronge Sask. Canada\n",
              "2   5     NaN      NaN  All residents asked to 'shelter in place' are ...\n",
              "3   6     NaN      NaN  13,000 people receive #wildfires evacuation or...\n",
              "4   7     NaN      NaN  Just got sent this photo from Ruby #Alaska as ..."
            ]
          },
          "metadata": {},
          "output_type": "display_data"
        },
        {
          "data": {
            "text/html": [
              "<div>\n",
              "<style scoped>\n",
              "    .dataframe tbody tr th:only-of-type {\n",
              "        vertical-align: middle;\n",
              "    }\n",
              "\n",
              "    .dataframe tbody tr th {\n",
              "        vertical-align: top;\n",
              "    }\n",
              "\n",
              "    .dataframe thead th {\n",
              "        text-align: right;\n",
              "    }\n",
              "</style>\n",
              "<table border=\"1\" class=\"dataframe\">\n",
              "  <thead>\n",
              "    <tr style=\"text-align: right;\">\n",
              "      <th></th>\n",
              "      <th>target</th>\n",
              "    </tr>\n",
              "  </thead>\n",
              "  <tbody>\n",
              "    <tr>\n",
              "      <th>0</th>\n",
              "      <td>1</td>\n",
              "    </tr>\n",
              "    <tr>\n",
              "      <th>1</th>\n",
              "      <td>1</td>\n",
              "    </tr>\n",
              "    <tr>\n",
              "      <th>2</th>\n",
              "      <td>1</td>\n",
              "    </tr>\n",
              "    <tr>\n",
              "      <th>3</th>\n",
              "      <td>1</td>\n",
              "    </tr>\n",
              "    <tr>\n",
              "      <th>4</th>\n",
              "      <td>1</td>\n",
              "    </tr>\n",
              "  </tbody>\n",
              "</table>\n",
              "</div>"
            ],
            "text/plain": [
              "   target\n",
              "0       1\n",
              "1       1\n",
              "2       1\n",
              "3       1\n",
              "4       1"
            ]
          },
          "metadata": {},
          "output_type": "display_data"
        }
      ],
      "source": [
        "# Separate Data Frame for input and outputs\n",
        "\n",
        "input_names = ['id', 'keyword', 'location', 'text']\n",
        "input_df = train_df[input_names]\n",
        "display(input_df.head())\n",
        "\n",
        "output_names = ['target']\n",
        "output_df = train_df[output_names]\n",
        "display(output_df.head())"
      ]
    },
    {
      "attachments": {},
      "cell_type": "markdown",
      "metadata": {},
      "source": [
        "### 1.2 Convert our data into numpy arrays for usage in our ML models.\n",
        "\n",
        "Numpy will help us take full advantage of our GPU power to quickly perform training operations."
      ]
    },
    {
      "cell_type": "code",
      "execution_count": 4,
      "metadata": {},
      "outputs": [
        {
          "name": "stdout",
          "output_type": "stream",
          "text": [
            "[[1 nan nan\n",
            "  'Our Deeds are the Reason of this #earthquake May ALLAH Forgive us all']\n",
            " [4 nan nan 'Forest fire near La Ronge Sask. Canada']\n",
            " [5 nan nan\n",
            "  \"All residents asked to 'shelter in place' are being notified by officers. No other evacuation or shelter in place orders are expected\"]\n",
            " [6 nan nan\n",
            "  '13,000 people receive #wildfires evacuation orders in California ']\n",
            " [7 nan nan\n",
            "  'Just got sent this photo from Ruby #Alaska as smoke from #wildfires pours into a school ']]\n",
            "[1 1 1 1 1]\n",
            "(7613, 4)\n",
            "(7613,)\n"
          ]
        }
      ],
      "source": [
        "# Convert into numpy data\n",
        "X_data = input_df.to_numpy()\n",
        "Y_data = output_df.to_numpy().flatten()\n",
        "\n",
        "print(X_data[:5])\n",
        "print(Y_data[:5])\n",
        "\n",
        "print(X_data.shape)\n",
        "print(Y_data.shape)"
      ]
    },
    {
      "attachments": {},
      "cell_type": "markdown",
      "metadata": {},
      "source": [
        "### 1.3 Split the training data into 90% training and 10% for validation.\n",
        "\n",
        "We use Sklearn's train_test_split to split our `train.csv` dataset to create a 90:10 testing/validation split to use further down this notebook."
      ]
    },
    {
      "cell_type": "code",
      "execution_count": 5,
      "metadata": {},
      "outputs": [],
      "source": [
        "from sklearn.model_selection import train_test_split\n",
        "\n",
        "# Split the data into train and test\n",
        "X_train, X_validation, Y_train, Y_validation = train_test_split(X_data, Y_data, train_size=0.90)"
      ]
    },
    {
      "cell_type": "code",
      "execution_count": 6,
      "metadata": {},
      "outputs": [
        {
          "name": "stdout",
          "output_type": "stream",
          "text": [
            "Text\n",
            "[9047 'structural%20failure' nan\n",
            " 'Virgin galactic crash: early unlocking of brakes triggered structural failure http://t.co/Kp1hDchfNZ']\n",
            "\n",
            "Is Natural Disaster?\n",
            "1 Yes\n",
            "======================\n",
            "\n",
            "Text\n",
            "[6365 'hostages' 'cuba'\n",
            " '#hot  C-130 specially modified to land in a stadium and rescue hostages in Iran in 1980 http://t.co/fQWTSxLkrZ #prebreak #best']\n",
            "\n",
            "Is Natural Disaster?\n",
            "1 Yes\n",
            "======================\n",
            "\n"
          ]
        }
      ],
      "source": [
        "# Going through a few examples in the training split\n",
        "\n",
        "for index in range(2):\n",
        "    print('Text')\n",
        "    print(X_train[index])\n",
        "    print()\n",
        "    \n",
        "    print('Is Natural Disaster?')\n",
        "    print(Y_train[index], 'Yes' if Y_train[index] == 1 else 'No')\n",
        "    print('======================')\n",
        "    print()"
      ]
    },
    {
      "attachments": {},
      "cell_type": "markdown",
      "metadata": {},
      "source": [
        "## 2. Baseline"
      ]
    },
    {
      "attachments": {},
      "cell_type": "markdown",
      "metadata": {},
      "source": [
        "### 2.1 Create a Simple Baseline"
      ]
    },
    {
      "cell_type": "code",
      "execution_count": 7,
      "metadata": {},
      "outputs": [],
      "source": [
        "# Returns a positive result, regardless of the input\n",
        "def baseline_model(text_inputs):\n",
        "    return 1\n",
        "\n",
        "# Vectorized version of the method to apply to numpy arrays properly\n",
        "baseline_model_np = np.vectorize(baseline_model, signature='(n) -> ()')"
      ]
    },
    {
      "cell_type": "code",
      "execution_count": 8,
      "metadata": {},
      "outputs": [
        {
          "name": "stdout",
          "output_type": "stream",
          "text": [
            "Input:\n",
            "[9047 'structural%20failure' nan\n",
            " 'Virgin galactic crash: early unlocking of brakes triggered structural failure http://t.co/Kp1hDchfNZ']\n",
            "\n",
            "Output\n",
            "1\n",
            "\n",
            "Prediction\n",
            "1\n",
            "==================\n",
            "\n",
            "Input:\n",
            "[6365 'hostages' 'cuba'\n",
            " '#hot  C-130 specially modified to land in a stadium and rescue hostages in Iran in 1980 http://t.co/fQWTSxLkrZ #prebreak #best']\n",
            "\n",
            "Output\n",
            "1\n",
            "\n",
            "Prediction\n",
            "1\n",
            "==================\n",
            "\n",
            "Input:\n",
            "[9636 'thunderstorm' nan\n",
            " 'Severe Thunderstorm Warning including Russellville AR Clarksville AR Dardanelle AR until 10:15 PM CDT http://t.co/n844h1ASPj']\n",
            "\n",
            "Output\n",
            "1\n",
            "\n",
            "Prediction\n",
            "1\n",
            "==================\n",
            "\n",
            "Input:\n",
            "[7371 'obliterate' 'Jump City'\n",
            " 'Dc I love you but please obliterate power girl']\n",
            "\n",
            "Output\n",
            "0\n",
            "\n",
            "Prediction\n",
            "1\n",
            "==================\n",
            "\n",
            "Input:\n",
            "[10849 nan nan\n",
            " 'A gas thing just exploded and I heard screams and now the whole street smells of gas ... ??']\n",
            "\n",
            "Output\n",
            "1\n",
            "\n",
            "Prediction\n",
            "1\n",
            "==================\n",
            "\n"
          ]
        }
      ],
      "source": [
        "# Testing the baseline on the \n",
        "baseline_predictions_train = baseline_model_np(X_train)\n",
        "\n",
        "for i in range(5):\n",
        "    print('Input:')\n",
        "    print(X_train[i])\n",
        "    print()\n",
        "\n",
        "    print('Output')\n",
        "    print(Y_train[i])\n",
        "    print()\n",
        "\n",
        "    print('Prediction')\n",
        "    print(baseline_predictions_train[i])\n",
        "    print('==================')\n",
        "    print()"
      ]
    },
    {
      "attachments": {},
      "cell_type": "markdown",
      "metadata": {},
      "source": [
        "### 2.2 Calculate the Log Loss of our baseline model\n",
        "\n",
        "Since our baseline is simple, we can use this loss value to determine whether our models are more accurate than a naive approach."
      ]
    },
    {
      "cell_type": "code",
      "execution_count": 9,
      "metadata": {},
      "outputs": [],
      "source": [
        "# Calculates Log Loss\n",
        "def calculate_loss(labels, predictions):\n",
        "    epsilon = 0.000001  # Prevents taking the natural log of non-positive values\n",
        "    ce_values = -labels * np.log(predictions + epsilon) - (1 - labels) * np.log(1 - predictions + epsilon)\n",
        "    loss = ce_values.mean()\n",
        "    return loss"
      ]
    },
    {
      "cell_type": "code",
      "execution_count": 10,
      "metadata": {},
      "outputs": [
        {
          "name": "stdout",
          "output_type": "stream",
          "text": [
            "Training Loss: 7.900914820187636\n",
            "Validation Loss: 7.687370260599765\n"
          ]
        }
      ],
      "source": [
        "# Calculate the loss on the training portion of our train data\n",
        "training_loss = calculate_loss(Y_train, baseline_predictions_train)\n",
        "print('Training Loss:', training_loss)\n",
        "\n",
        "# Calculate the loss on the validation portion our our train data\n",
        "baseline_predictions_validation = baseline_model_np(X_validation)\n",
        "testing_loss = calculate_loss(Y_validation, baseline_predictions_validation)\n",
        "print('Validation Loss:', testing_loss)"
      ]
    },
    {
      "cell_type": "code",
      "execution_count": null,
      "metadata": {},
      "outputs": [],
      "source": [
        "training_accuracy = (baseline_predictions_train == Y_train).sum() / len(Y_train)\n",
        "print(\"Training Accuracy:\", training_accuracy)\n",
        "\n",
        "validation_accuracy = (baseline_predictions_validation == Y_validation).sum() / len(Y_validation)\n",
        "print('Validation Accurracy:', validation_accuracy)"
      ]
    },
    {
      "attachments": {},
      "cell_type": "markdown",
      "metadata": {},
      "source": [
        "### 2.3 Upload the baseline model to Kaggle\n",
        "\n",
        "We can then upload a `submission.csv` file to Kaggle to find the F1 score of our baseline model."
      ]
    },
    {
      "cell_type": "code",
      "execution_count": 11,
      "metadata": {},
      "outputs": [],
      "source": [
        "# Create the submission CSV file for our Kaggle submission\n",
        "def save_to_submissions_csv(text_inputs, prediction_labels, name='submission.csv'):\n",
        "    print(f'Generating \"{name}\" file...')\n",
        "\n",
        "    # Extract the ids of the text inputs and flatten to a 1D ndarray\n",
        "    test_ids = text_inputs[:,0].flatten()\n",
        "\n",
        "    # Write the submission file and save to 'submission.csv'\n",
        "    np.savetxt(\n",
        "        name,\n",
        "        np.rec.fromarrays([test_ids, prediction_labels]),\n",
        "        fmt=['%s', '%d'],\n",
        "        delimiter=',',\n",
        "        header='id,target',\n",
        "        comments=''\n",
        "    )\n",
        "\n",
        "    # Show success!\n",
        "    print(f'Successfully created \"{name}\"')"
      ]
    },
    {
      "cell_type": "code",
      "execution_count": 12,
      "metadata": {},
      "outputs": [
        {
          "name": "stdout",
          "output_type": "stream",
          "text": [
            "Generating \"baseline_submission.csv\" file...\n",
            "Successfully created \"baseline_submission.csv\"\n"
          ]
        }
      ],
      "source": [
        "# Reformat the single training dataframe to an input dataframe\n",
        "input_names = ['id', 'keyword', 'location', 'text']\n",
        "test_input_df = test_df[input_names]\n",
        "\n",
        "# Reformat the input dataframe into a numpy array for running through our model\n",
        "test_input_np = test_input_df.to_numpy()\n",
        "\n",
        "# Predict by using the baseline model on the test input and save to a .csv\n",
        "baseline_predictions_test = baseline_model_np(test_input_np)\n",
        "save_to_submissions_csv(test_input_np, baseline_predictions_test, 'baseline_submission.csv')"
      ]
    },
    {
      "cell_type": "code",
      "execution_count": 13,
      "metadata": {},
      "outputs": [
        {
          "data": {
            "text/html": [
              "<div>\n",
              "<style scoped>\n",
              "    .dataframe tbody tr th:only-of-type {\n",
              "        vertical-align: middle;\n",
              "    }\n",
              "\n",
              "    .dataframe tbody tr th {\n",
              "        vertical-align: top;\n",
              "    }\n",
              "\n",
              "    .dataframe thead th {\n",
              "        text-align: right;\n",
              "    }\n",
              "</style>\n",
              "<table border=\"1\" class=\"dataframe\">\n",
              "  <thead>\n",
              "    <tr style=\"text-align: right;\">\n",
              "      <th></th>\n",
              "      <th>id</th>\n",
              "      <th>target</th>\n",
              "    </tr>\n",
              "  </thead>\n",
              "  <tbody>\n",
              "    <tr>\n",
              "      <th>0</th>\n",
              "      <td>0</td>\n",
              "      <td>1</td>\n",
              "    </tr>\n",
              "    <tr>\n",
              "      <th>1</th>\n",
              "      <td>2</td>\n",
              "      <td>1</td>\n",
              "    </tr>\n",
              "    <tr>\n",
              "      <th>2</th>\n",
              "      <td>3</td>\n",
              "      <td>1</td>\n",
              "    </tr>\n",
              "    <tr>\n",
              "      <th>3</th>\n",
              "      <td>9</td>\n",
              "      <td>1</td>\n",
              "    </tr>\n",
              "    <tr>\n",
              "      <th>4</th>\n",
              "      <td>11</td>\n",
              "      <td>1</td>\n",
              "    </tr>\n",
              "  </tbody>\n",
              "</table>\n",
              "</div>"
            ],
            "text/plain": [
              "   id  target\n",
              "0   0       1\n",
              "1   2       1\n",
              "2   3       1\n",
              "3   9       1\n",
              "4  11       1"
            ]
          },
          "execution_count": 13,
          "metadata": {},
          "output_type": "execute_result"
        }
      ],
      "source": [
        "# Look at the first few predictions to ensure things went smoothly\n",
        "pd.read_csv('baseline_submission.csv').head()"
      ]
    },
    {
      "attachments": {},
      "cell_type": "markdown",
      "metadata": {},
      "source": [
        "## 3. Data Analysis"
      ]
    },
    {
      "attachments": {},
      "cell_type": "markdown",
      "metadata": {},
      "source": [
        "### 3.1 Explore the frequency of common words\n",
        "\n",
        "Tweets can have all sorts of words inside of them, but we can always find common words that we can use for our vocabulary\n",
        "\n",
        "The motivation for this graph to see what type of words are commonly used within our tweets dataset to see what we should and should not include in our vocabulary."
      ]
    },
    {
      "cell_type": "code",
      "execution_count": 14,
      "metadata": {},
      "outputs": [],
      "source": [
        "from collections import Counter\n",
        "\n",
        "# Plots the frequency of the top commonly used words in the provided tweets in\n",
        "# the positive and negative class\n",
        "def plot_frequency(tweets_np, labels_np, max_word_num=20):\n",
        "    # Creates a counter that keeps track of the frequency of words (similar to defaultdict)\n",
        "    pos_counter = Counter()\n",
        "    neg_counter = Counter()\n",
        "    tweets_np = np.copy(tweets_np) # Deep Copy of input\n",
        "\n",
        "    # Total Counter Variables\n",
        "    pos_counter_all = 0\n",
        "    neg_counter_all = 0\n",
        "\n",
        "    # Go through the tweets dataset\n",
        "    total_words = set()\n",
        "    for entry_index in range(tweets_np.shape[0]):\n",
        "        # Flatten all of the features into a single string\n",
        "        words = ' '.join([str(feature).lower() for feature in tweets_np[entry_index]])\n",
        "        # Count the frequency of each word\n",
        "        for word in words.split():\n",
        "            # Group all links as 1 token\n",
        "            if word.startswith('http'):\n",
        "                word = '<LINK>'\n",
        "            # Group all articles as 1 token\n",
        "            elif word in ['the', 'a', 'an']:\n",
        "                word = '<ARTICLE>'\n",
        "            \n",
        "            if labels_np[entry_index]:\n",
        "                pos_counter[word] += 1  # Positive entry\n",
        "                pos_counter_all += 1\n",
        "            else:\n",
        "                neg_counter[word] += 1  # Negative entry\n",
        "                neg_counter_all += 1\n",
        "\n",
        "            # For Debug purposes, saving all of the words we encounter\n",
        "            total_words.add(word)\n",
        "    \n",
        "    # Extract at most max_word_num words that are the most common words\n",
        "    # for both classes (and removes overlap)\n",
        "    top_pos_words = [word for word, _ in pos_counter.most_common(max_word_num // 2)]\n",
        "    top_neg_words = [word for word, _ in neg_counter.most_common(max_word_num // 2)]\n",
        "    top_words = set(top_pos_words + top_neg_words)\n",
        "\n",
        "    # Create a Data Frame for the collected data\n",
        "    result = {\n",
        "        'word': [word for word in top_words],\n",
        "        'pos count': [pos_counter[word] for word in top_words],\n",
        "        'neg count': [neg_counter[word] for word in top_words],\n",
        "        '% chance is pos': [(pos_counter[word] / (pos_counter[word] + neg_counter[word])) * 100 for word in top_words]\n",
        "    }\n",
        "    word_count_df = pd.DataFrame(data=result, columns=result.keys())\n",
        "    word_count_df = word_count_df.set_index('word')\n",
        "    display(word_count_df)\n",
        "    \n",
        "    # Plot a bar graph that groups pos and neg count for a few of the most used words\n",
        "    pd.concat([word_count_df[['pos count']], word_count_df[['neg count']]], axis=1).plot.bar()\n",
        "\n",
        "    print(f'DEBUG: Total Words Len: {len(total_words)}')\n",
        "    print(f'DEBUG: Total Positive Examples: {pos_counter_all}')\n",
        "    print(f'DEBUG: Total Negative Examples: {neg_counter_all}')"
      ]
    },
    {
      "cell_type": "code",
      "execution_count": 15,
      "metadata": {},
      "outputs": [
        {
          "data": {
            "text/html": [
              "<div>\n",
              "<style scoped>\n",
              "    .dataframe tbody tr th:only-of-type {\n",
              "        vertical-align: middle;\n",
              "    }\n",
              "\n",
              "    .dataframe tbody tr th {\n",
              "        vertical-align: top;\n",
              "    }\n",
              "\n",
              "    .dataframe thead th {\n",
              "        text-align: right;\n",
              "    }\n",
              "</style>\n",
              "<table border=\"1\" class=\"dataframe\">\n",
              "  <thead>\n",
              "    <tr style=\"text-align: right;\">\n",
              "      <th></th>\n",
              "      <th>pos count</th>\n",
              "      <th>neg count</th>\n",
              "      <th>% chance is pos</th>\n",
              "    </tr>\n",
              "    <tr>\n",
              "      <th>word</th>\n",
              "      <th></th>\n",
              "      <th></th>\n",
              "      <th></th>\n",
              "    </tr>\n",
              "  </thead>\n",
              "  <tbody>\n",
              "    <tr>\n",
              "      <th>as</th>\n",
              "      <td>171</td>\n",
              "      <td>160</td>\n",
              "      <td>51.661631</td>\n",
              "    </tr>\n",
              "    <tr>\n",
              "      <th>by</th>\n",
              "      <td>279</td>\n",
              "      <td>242</td>\n",
              "      <td>53.550864</td>\n",
              "    </tr>\n",
              "    <tr>\n",
              "      <th>my</th>\n",
              "      <td>134</td>\n",
              "      <td>566</td>\n",
              "      <td>19.142857</td>\n",
              "    </tr>\n",
              "    <tr>\n",
              "      <th>in</th>\n",
              "      <td>1186</td>\n",
              "      <td>854</td>\n",
              "      <td>58.137255</td>\n",
              "    </tr>\n",
              "    <tr>\n",
              "      <th>to</th>\n",
              "      <td>761</td>\n",
              "      <td>1195</td>\n",
              "      <td>38.905930</td>\n",
              "    </tr>\n",
              "    <tr>\n",
              "      <th>after</th>\n",
              "      <td>181</td>\n",
              "      <td>75</td>\n",
              "      <td>70.703125</td>\n",
              "    </tr>\n",
              "    <tr>\n",
              "      <th>is</th>\n",
              "      <td>348</td>\n",
              "      <td>590</td>\n",
              "      <td>37.100213</td>\n",
              "    </tr>\n",
              "    <tr>\n",
              "      <th>with</th>\n",
              "      <td>188</td>\n",
              "      <td>382</td>\n",
              "      <td>32.982456</td>\n",
              "    </tr>\n",
              "    <tr>\n",
              "      <th>you</th>\n",
              "      <td>125</td>\n",
              "      <td>629</td>\n",
              "      <td>16.578249</td>\n",
              "    </tr>\n",
              "    <tr>\n",
              "      <th>new</th>\n",
              "      <td>132</td>\n",
              "      <td>292</td>\n",
              "      <td>31.132075</td>\n",
              "    </tr>\n",
              "    <tr>\n",
              "      <th>at</th>\n",
              "      <td>305</td>\n",
              "      <td>237</td>\n",
              "      <td>56.273063</td>\n",
              "    </tr>\n",
              "    <tr>\n",
              "      <th>for</th>\n",
              "      <td>399</td>\n",
              "      <td>489</td>\n",
              "      <td>44.932432</td>\n",
              "    </tr>\n",
              "    <tr>\n",
              "      <th>from</th>\n",
              "      <td>247</td>\n",
              "      <td>183</td>\n",
              "      <td>57.441860</td>\n",
              "    </tr>\n",
              "    <tr>\n",
              "      <th>i</th>\n",
              "      <td>292</td>\n",
              "      <td>1061</td>\n",
              "      <td>21.581670</td>\n",
              "    </tr>\n",
              "    <tr>\n",
              "      <th>be</th>\n",
              "      <td>113</td>\n",
              "      <td>287</td>\n",
              "      <td>28.250000</td>\n",
              "    </tr>\n",
              "    <tr>\n",
              "      <th>that</th>\n",
              "      <td>181</td>\n",
              "      <td>357</td>\n",
              "      <td>33.643123</td>\n",
              "    </tr>\n",
              "    <tr>\n",
              "      <th>&lt;ARTICLE&gt;</th>\n",
              "      <td>2426</td>\n",
              "      <td>3372</td>\n",
              "      <td>41.842014</td>\n",
              "    </tr>\n",
              "    <tr>\n",
              "      <th>-</th>\n",
              "      <td>419</td>\n",
              "      <td>396</td>\n",
              "      <td>51.411043</td>\n",
              "    </tr>\n",
              "    <tr>\n",
              "      <th>on</th>\n",
              "      <td>418</td>\n",
              "      <td>444</td>\n",
              "      <td>48.491879</td>\n",
              "    </tr>\n",
              "    <tr>\n",
              "      <th>&lt;LINK&gt;</th>\n",
              "      <td>2510</td>\n",
              "      <td>2196</td>\n",
              "      <td>53.336167</td>\n",
              "    </tr>\n",
              "    <tr>\n",
              "      <th>nan</th>\n",
              "      <td>1117</td>\n",
              "      <td>1479</td>\n",
              "      <td>43.027735</td>\n",
              "    </tr>\n",
              "    <tr>\n",
              "      <th>it</th>\n",
              "      <td>164</td>\n",
              "      <td>342</td>\n",
              "      <td>32.411067</td>\n",
              "    </tr>\n",
              "    <tr>\n",
              "      <th>of</th>\n",
              "      <td>957</td>\n",
              "      <td>935</td>\n",
              "      <td>50.581395</td>\n",
              "    </tr>\n",
              "    <tr>\n",
              "      <th>and</th>\n",
              "      <td>512</td>\n",
              "      <td>927</td>\n",
              "      <td>35.580264</td>\n",
              "    </tr>\n",
              "    <tr>\n",
              "      <th>this</th>\n",
              "      <td>179</td>\n",
              "      <td>287</td>\n",
              "      <td>38.412017</td>\n",
              "    </tr>\n",
              "  </tbody>\n",
              "</table>\n",
              "</div>"
            ],
            "text/plain": [
              "           pos count  neg count  % chance is pos\n",
              "word                                            \n",
              "as               171        160        51.661631\n",
              "by               279        242        53.550864\n",
              "my               134        566        19.142857\n",
              "in              1186        854        58.137255\n",
              "to               761       1195        38.905930\n",
              "after            181         75        70.703125\n",
              "is               348        590        37.100213\n",
              "with             188        382        32.982456\n",
              "you              125        629        16.578249\n",
              "new              132        292        31.132075\n",
              "at               305        237        56.273063\n",
              "for              399        489        44.932432\n",
              "from             247        183        57.441860\n",
              "i                292       1061        21.581670\n",
              "be               113        287        28.250000\n",
              "that             181        357        33.643123\n",
              "<ARTICLE>       2426       3372        41.842014\n",
              "-                419        396        51.411043\n",
              "on               418        444        48.491879\n",
              "<LINK>          2510       2196        53.336167\n",
              "nan             1117       1479        43.027735\n",
              "it               164        342        32.411067\n",
              "of               957        935        50.581395\n",
              "and              512        927        35.580264\n",
              "this             179        287        38.412017"
            ]
          },
          "metadata": {},
          "output_type": "display_data"
        },
        {
          "name": "stdout",
          "output_type": "stream",
          "text": [
            "DEBUG: Total Words Len: 33580\n",
            "DEBUG: Total Positive Examples: 61864\n",
            "DEBUG: Total Negative Examples: 80205\n"
          ]
        },
        {
          "data": {
            "image/png": "[encoded data removed]",
            "text/plain": [
              "<Figure size 640x480 with 1 Axes>"
            ]
          },
          "metadata": {},
          "output_type": "display_data"
        }
      ],
      "source": [
        "# Display and plot at most 40 words from the X_data set\n",
        "plot_frequency(X_data, Y_data, max_word_num=40)"
      ]
    },
    {
      "cell_type": "code",
      "execution_count": 16,
      "metadata": {},
      "outputs": [],
      "source": [
        "from collections import defaultdict\n",
        "\n",
        "def length_plot(tweets_np , labels_np, interval_list):\n",
        "\n",
        "    # initializes maps to count based on intervals of words\n",
        "    pos_intervals = defaultdict(int)\n",
        "    neg_intervals = defaultdict(int)\n",
        "\n",
        "    # Convert the interval list into ranges for use below\n",
        "    interval_map = {}\n",
        "    for interval in interval_list:\n",
        "        # Parses interval strings into useable ranges\n",
        "        if '-' in interval:\n",
        "            start, end = map(lambda x: int(x), interval.split('-'))\n",
        "        else:\n",
        "            start, end = interval.split('+')[0], 285\n",
        "\n",
        "        interval_map[interval] = range(int(start), int(end) + 1)\n",
        "\n",
        "    # Track the counts of positive and negative inputs for each range from above\n",
        "    for entry_index in range(tweets_np.shape[0]):\n",
        "        # Flatten all of the features into a single string\n",
        "        words = ' '.join([str(feature) for feature in tweets_np[entry_index]]).split()\n",
        "\n",
        "        for interval in interval_list:\n",
        "            # Ignore words counts outside of our intervals\n",
        "            if len(words) not in interval_map[interval]:\n",
        "                continue\n",
        "\n",
        "            # Updates the counts of positive and negative entries in the dictionary\n",
        "            # based on the interval they are in\n",
        "            if labels_np[entry_index]:\n",
        "                pos_intervals[interval] += 1\n",
        "            else:\n",
        "                neg_intervals[interval] += 1\n",
        "\n",
        "    # Create a Data Frame for the collected data\n",
        "    result= {\n",
        "        'interval' : [ interval for interval in interval_list],\n",
        "        'pos intervals' : [pos_intervals[interval] for interval in interval_list],\n",
        "        'neg intervals' : [neg_intervals[interval] for interval in interval_list],\n",
        "        '% chance is pos': [(pos_intervals[interval] / (pos_intervals[interval] + neg_intervals[interval])) * 100 for interval in interval_list],\n",
        "    }\n",
        "    word_count_df = pd.DataFrame(data = result , columns=result.keys())\n",
        "    word_count_df = word_count_df.set_index('interval')\n",
        "\n",
        "    # Plot and Display the collected data\n",
        "    pd.concat([word_count_df[['pos intervals']], word_count_df[['neg intervals']]], axis=1).plot.bar()\n",
        "    display(word_count_df)\n",
        "\n",
        "    # Debugging code\n",
        "    print(neg_intervals)\n",
        "    print(pos_intervals)"
      ]
    },
    {
      "cell_type": "code",
      "execution_count": 17,
      "metadata": {},
      "outputs": [
        {
          "data": {
            "text/html": [
              "<div>\n",
              "<style scoped>\n",
              "    .dataframe tbody tr th:only-of-type {\n",
              "        vertical-align: middle;\n",
              "    }\n",
              "\n",
              "    .dataframe tbody tr th {\n",
              "        vertical-align: top;\n",
              "    }\n",
              "\n",
              "    .dataframe thead th {\n",
              "        text-align: right;\n",
              "    }\n",
              "</style>\n",
              "<table border=\"1\" class=\"dataframe\">\n",
              "  <thead>\n",
              "    <tr style=\"text-align: right;\">\n",
              "      <th></th>\n",
              "      <th>pos intervals</th>\n",
              "      <th>neg intervals</th>\n",
              "      <th>% chance is pos</th>\n",
              "    </tr>\n",
              "    <tr>\n",
              "      <th>interval</th>\n",
              "      <th></th>\n",
              "      <th></th>\n",
              "      <th></th>\n",
              "    </tr>\n",
              "  </thead>\n",
              "  <tbody>\n",
              "    <tr>\n",
              "      <th>0-5</th>\n",
              "      <td>2</td>\n",
              "      <td>28</td>\n",
              "      <td>6.666667</td>\n",
              "    </tr>\n",
              "    <tr>\n",
              "      <th>6-10</th>\n",
              "      <td>164</td>\n",
              "      <td>463</td>\n",
              "      <td>26.156300</td>\n",
              "    </tr>\n",
              "    <tr>\n",
              "      <th>11-15</th>\n",
              "      <td>740</td>\n",
              "      <td>1017</td>\n",
              "      <td>42.117245</td>\n",
              "    </tr>\n",
              "    <tr>\n",
              "      <th>16-20</th>\n",
              "      <td>1041</td>\n",
              "      <td>1165</td>\n",
              "      <td>47.189483</td>\n",
              "    </tr>\n",
              "    <tr>\n",
              "      <th>21-25</th>\n",
              "      <td>973</td>\n",
              "      <td>1010</td>\n",
              "      <td>49.067070</td>\n",
              "    </tr>\n",
              "    <tr>\n",
              "      <th>26-30</th>\n",
              "      <td>317</td>\n",
              "      <td>552</td>\n",
              "      <td>36.478711</td>\n",
              "    </tr>\n",
              "    <tr>\n",
              "      <th>31-35</th>\n",
              "      <td>34</td>\n",
              "      <td>106</td>\n",
              "      <td>24.285714</td>\n",
              "    </tr>\n",
              "    <tr>\n",
              "      <th>36+</th>\n",
              "      <td>0</td>\n",
              "      <td>1</td>\n",
              "      <td>0.000000</td>\n",
              "    </tr>\n",
              "  </tbody>\n",
              "</table>\n",
              "</div>"
            ],
            "text/plain": [
              "          pos intervals  neg intervals  % chance is pos\n",
              "interval                                               \n",
              "0-5                   2             28         6.666667\n",
              "6-10                164            463        26.156300\n",
              "11-15               740           1017        42.117245\n",
              "16-20              1041           1165        47.189483\n",
              "21-25               973           1010        49.067070\n",
              "26-30               317            552        36.478711\n",
              "31-35                34            106        24.285714\n",
              "36+                   0              1         0.000000"
            ]
          },
          "metadata": {},
          "output_type": "display_data"
        },
        {
          "name": "stdout",
          "output_type": "stream",
          "text": [
            "defaultdict(<class 'int'>, {'6-10': 463, '0-5': 28, '16-20': 1165, '11-15': 1017, '21-25': 1010, '26-30': 552, '31-35': 106, '36+': 1})\n",
            "defaultdict(<class 'int'>, {'16-20': 1041, '6-10': 164, '21-25': 973, '11-15': 740, '26-30': 317, '31-35': 34, '0-5': 2, '36+': 0})\n"
          ]
        },
        {
          "data": {
            "image/png": "[encoded data removed]",
            "text/plain": [
              "<Figure size 640x480 with 1 Axes>"
            ]
          },
          "metadata": {},
          "output_type": "display_data"
        }
      ],
      "source": [
        "# Plots the count of positive and negative classes of X_data based on the given intervals\n",
        "intervals = ['0-5', '6-10' , '11-15' , '16-20' , '21-25' , '26-30' , '31-35', '36+']\n",
        "length_plot(X_data, Y_data, intervals)"
      ]
    },
    {
      "attachments": {},
      "cell_type": "markdown",
      "metadata": {},
      "source": [
        "## 4. Our Experiments"
      ]
    },
    {
      "attachments": {},
      "cell_type": "markdown",
      "metadata": {},
      "source": [
        "We were able to come up with three differing models using different algorithms learned in class, each varying in complexity. various differing variations of each model were ran however we kept the best versions of each model along with an explanation of how we reached that point"
      ]
    },
    {
      "attachments": {},
      "cell_type": "markdown",
      "metadata": {},
      "source": [
        "### 4.1 Normalize our data\n",
        "\n",
        "Since tweets can contain lots of punctuation, we want to specify a standardization to sanitize our inputs. In addition, all links are changed to <LINK> as a way of reducing the creation of unique features. \n",
        "> **NOTE** Though standarization helps ensure that our model works for unusual input, there may be a lost \n",
        "> of information when applying normalizations."
      ]
    },
    {
      "attachments": {},
      "cell_type": "markdown",
      "metadata": {},
      "source": [
        "#### 4.1.1 Normalization Technique 1: Remove punctuation and Links"
      ]
    },
    {
      "cell_type": "code",
      "execution_count": 18,
      "metadata": {},
      "outputs": [
        {
          "name": "stdout",
          "output_type": "stream",
          "text": [
            "DEBUG: i am cool <LINK> <LINK>\n"
          ]
        },
        {
          "data": {
            "text/plain": [
              "<tf.Tensor: shape=(), dtype=string, numpy=b'i am cool <LINK> <LINK>'>"
            ]
          },
          "execution_count": 18,
          "metadata": {},
          "output_type": "execute_result"
        }
      ],
      "source": [
        "# Stardardizes the input\n",
        "def normalize_punctuation_and_links(tweets_text, show_debug=False):\n",
        "    # Make all letters lowercase\n",
        "    result_tensor = tf.strings.lower(tweets_text)\n",
        "\n",
        "    # Replace links with <LINK> token\n",
        "    link_regex = r'(https?:\\/\\/)([\\da-z\\.-]+)\\.([a-z\\.]{2,6})([\\/\\w\\.-]*)'\n",
        "    result_tensor = tf.strings.regex_replace(result_tensor, link_regex, '<LINK>')\n",
        "\n",
        "    # Remove punctuation (but don't remove <> from our Link tokens)\n",
        "    punctuation_regex = r'[^\\w\\s<>]'\n",
        "    result_tensor = tf.strings.regex_replace(result_tensor, punctuation_regex, ' ')\n",
        "\n",
        "    # Remove extra spaces\n",
        "    multi_space_regex = r'\\s{2,}'\n",
        "    result_tensor = tf.strings.regex_replace(result_tensor, multi_space_regex, ' ')\n",
        "\n",
        "    if show_debug:\n",
        "        print('DEBUG: ', end='')\n",
        "        tf.print(result_tensor)\n",
        "\n",
        "    return result_tensor\n",
        "\n",
        "normalize_punctuation_and_links('I.am.cool  http://www.example.com, https://github.com/example', show_debug=True)"
      ]
    },
    {
      "attachments": {},
      "cell_type": "markdown",
      "metadata": {},
      "source": [
        "### 4.2 Build Our Model(s)"
      ]
    },
    {
      "attachments": {},
      "cell_type": "markdown",
      "metadata": {},
      "source": [
        "#### 4.2.1 FFNN Model (Bag Of Embeddings)"
      ]
    },
    {
      "attachments": {},
      "cell_type": "markdown",
      "metadata": {},
      "source": [
        "##### 4.2.1.1\n",
        "Our first model is a fairly simple FFNN. We used the concept of \"Bag of Embeddings\", where we use embeddings with dim=3 to try to identify which words are related to each other. A problem with this model is that, as the name suggests, the words are not in any particular order (just in a messy \"bag\"), but there is a lot of information that the model can learn without word order."
      ]
    },
    {
      "cell_type": "code",
      "execution_count": 19,
      "metadata": {},
      "outputs": [],
      "source": [
        "def build_ffnn_model(tweets_np, max_vocab, max_tokens, embedding_dim):\n",
        "    # Remove randomness\n",
        "    tf.keras.backend.clear_session()\n",
        "    tf.keras.utils.set_random_seed(0)\n",
        "    \n",
        "    # Build the normalization layer and vocabulary ahead of time\n",
        "    norm_layer = tf.keras.layers.TextVectorization(\n",
        "        max_tokens,\n",
        "        standardize=normalize_punctuation_and_links,\n",
        "        split='whitespace',\n",
        "        # output_mode='tf_idf',\n",
        "        output_mode='int',\n",
        "        # pad_to_max_tokens=True,\n",
        "        encoding='utf-8',\n",
        "        name='Normalization_Layer',\n",
        "        output_sequence_length=max_tokens,\n",
        "    )\n",
        "    norm_layer.adapt(tweets_np, batch_size=64)\n",
        "\n",
        "    # display(norm_layer.get_vocabulary())\n",
        "\n",
        "    # Build our FFNN Model using embeddings and average pooling\n",
        "    model = tf.keras.models.Sequential()\n",
        "    model.add(tf.keras.Input(shape=(1,), dtype=tf.string))\n",
        "    model.add(norm_layer)\n",
        "    model.add(tf.keras.layers.Embedding(\n",
        "        input_dim=max_vocab,\n",
        "        output_dim=embedding_dim,\n",
        "        input_length=max_tokens,\n",
        "        name='Embeddings_Layer',\n",
        "    ))\n",
        "    # max pool layer\n",
        "    model.add(tf.keras.layers.GlobalMaxPooling1D(\n",
        "        name='Max_Pool_Layer'\n",
        "    ))\n",
        "    # two dense layer with a sigmoid activation\n",
        "    model.add(tf.keras.layers.Dense(\n",
        "        units=128,  \n",
        "        activation='sigmoid',\n",
        "        name='Dense_Layer_1',\n",
        "    ))\n",
        "    model.add(tf.keras.layers.Dense(\n",
        "        units=64,\n",
        "        activation='sigmoid',\n",
        "        name='Dense_Layer_2',\n",
        "    ))\n",
        "\n",
        "    # output layer with a sigmoid activation \n",
        "    model.add(tf.keras.layers.Dense(\n",
        "        units=1,\n",
        "        activation='sigmoid',\n",
        "        name='Output_Layer',\n",
        "    ))\n",
        "\n",
        "    # Compile and return the model\n",
        "    model.compile(loss='binary_crossentropy', optimizer='adam', metrics=['accuracy'])\n",
        "    return model"
      ]
    },
    {
      "attachments": {},
      "cell_type": "markdown",
      "metadata": {},
      "source": [
        "A large vocabulary with seems to have a direct benefit to the model as more features can be identified. An input of 300 with a dimmention of 12 was also found to have a good impact through tedious trial and  error. The biggest obstacle was finding the correct amount of training. This model was very prone to overfitting data if it was trained past 11 epochs."
      ]
    },
    {
      "cell_type": "code",
      "execution_count": 20,
      "metadata": {},
      "outputs": [
        {
          "name": "stdout",
          "output_type": "stream",
          "text": [
            "Model: \"sequential\"\n",
            "_________________________________________________________________\n",
            " Layer (type)                Output Shape              Param #   \n",
            "=================================================================\n",
            " Normalization_Layer (TextVe  (None, 300)              0         \n",
            " ctorization)                                                    \n",
            "                                                                 \n",
            " Embeddings_Layer (Embedding  (None, 300, 12)          420000    \n",
            " )                                                               \n",
            "                                                                 \n",
            " Max_Pool_Layer (GlobalMaxPo  (None, 12)               0         \n",
            " oling1D)                                                        \n",
            "                                                                 \n",
            " Dense_Layer_1 (Dense)       (None, 128)               1664      \n",
            "                                                                 \n",
            " Dense_Layer_2 (Dense)       (None, 64)                8256      \n",
            "                                                                 \n",
            " Output_Layer (Dense)        (None, 1)                 65        \n",
            "                                                                 \n",
            "=================================================================\n",
            "Total params: 429,985\n",
            "Trainable params: 429,985\n",
            "Non-trainable params: 0\n",
            "_________________________________________________________________\n"
          ]
        },
        {
          "data": {
            "text/plain": [
              "None"
            ]
          },
          "metadata": {},
          "output_type": "display_data"
        }
      ],
      "source": [
        "ffnn_model = build_ffnn_model(X_train[:,3], 35000, 300, 12)\n",
        "display(ffnn_model.summary())"
      ]
    },
    {
      "attachments": {},
      "cell_type": "markdown",
      "metadata": {},
      "source": [
        "#### 4.2.2 CNN Model"
      ]
    },
    {
      "attachments": {},
      "cell_type": "markdown",
      "metadata": {},
      "source": [
        "##### 4.2.2.1\n",
        "The second model made was a CNN. This model is also fairly standard. Giovanni put this together and got it running with originally 2 conv1D layers, which later concantenated together."
      ]
    },
    {
      "cell_type": "code",
      "execution_count": 21,
      "metadata": {},
      "outputs": [],
      "source": [
        "def build_cnn_model(tweets_np, max_vocab, max_tokens, embedding_dim):\n",
        "    # Remove randomness\n",
        "    tf.keras.backend.clear_session()\n",
        "    tf.keras.utils.set_random_seed(0)\n",
        "    \n",
        "    # Build the normalization layer ahead of time\n",
        "    norm_layer = tf.keras.layers.TextVectorization(\n",
        "        max_tokens,\n",
        "        standardize=normalize_punctuation_and_links,\n",
        "        split='whitespace',\n",
        "        # output_mode='tf_idf',\n",
        "        output_mode='int',\n",
        "        # pad_to_max_tokens=True,\n",
        "        encoding='utf-8',\n",
        "        name='Normalization_Layer',\n",
        "        output_sequence_length=max_tokens,\n",
        "    )\n",
        "    norm_layer.adapt(tweets_np, batch_size=64)\n",
        "\n",
        "    # display(norm_layer.get_vocabulary())\n",
        "\n",
        "    # Build our CNN Model using Keras' Functional API\n",
        "    input_layer = tf.keras.Input(shape=(1,), dtype=tf.string, name='Input Layer')\n",
        "    norm_layer = norm_layer(input_layer)\n",
        "    embedding_layer = tf.keras.layers.Embedding(\n",
        "        input_dim=max_vocab,\n",
        "        output_dim=embedding_dim,\n",
        "        input_length=max_tokens,\n",
        "        name='Embeddings_Layer',\n",
        "    )(norm_layer)\n",
        "    \n",
        "    # three conv1D layers, filter sizes increase as it progresses\n",
        "    conv_1 = tf.keras.layers.Conv1D(\n",
        "        filters=16,\n",
        "        kernel_size=3,\n",
        "        padding='same',\n",
        "        activation='relu',\n",
        "        name='Conv_Layer_1_1',\n",
        "    )(embedding_layer)\n",
        "    conv_2 = tf.keras.layers.Conv1D(\n",
        "        filters=16,\n",
        "        kernel_size=4,\n",
        "        padding='same',\n",
        "        activation='relu',\n",
        "        name='Conv_Layer_1_2',\n",
        "    )(embedding_layer)\n",
        "    conv_3 = tf.keras.layers.Conv1D(\n",
        "        filters=16,\n",
        "        kernel_size=5,\n",
        "        padding='same',\n",
        "        activation='relu',\n",
        "        name='Conv_Layer_1_3',\n",
        "    )(embedding_layer)\n",
        "\n",
        "    # combines layers into single layers\n",
        "    concat_layer = tf.keras.layers.Concatenate(name='Concatenate_Layer')([conv_1, conv_2, conv_3])\n",
        "    dropout_layer = tf.keras.layers.Dropout(rate=0.05)(concat_layer)\n",
        "    max_pool_layer = tf.keras.layers.MaxPool1D(pool_size=max_tokens, name='Max_Pool_Layer')(dropout_layer)\n",
        "    flatten_layer = tf.keras.layers.Flatten(name='Flatten_Layer_1')(max_pool_layer)\n",
        "    \n",
        "    # hidden layer of size 32, sigmoid\n",
        "    hidden_layer = tf.keras.layers.Dense(\n",
        "        units=32,\n",
        "        activation='sigmoid',\n",
        "        name='Hidden_Layer_1',\n",
        "    )(flatten_layer)\n",
        "\n",
        "    # output layer\n",
        "    output_layer = tf.keras.layers.Dense(\n",
        "        units=1,\n",
        "        activation='sigmoid',\n",
        "        name='Output_Layer',\n",
        "    )(hidden_layer)\n",
        "\n",
        "    # adds input and output layer to model\n",
        "    model = tf.keras.Model(\n",
        "        inputs=input_layer,\n",
        "        outputs=output_layer,\n",
        "        name='CNN_Model',\n",
        "    )\n",
        "\n",
        "    # Compile and return the model\n",
        "    model.compile(loss='binary_crossentropy', optimizer='adam', metrics=['accuracy'])\n",
        "    return model"
      ]
    },
    {
      "attachments": {},
      "cell_type": "markdown",
      "metadata": {},
      "source": [
        "##### 4.2.2.2\n",
        "\n",
        "As in the previous model, a larger vocab size, and embedding Layer(input/dimension), had a huge boost. This may be to the use of the same preprocessing funcion across the board. we first started with just 2 convolution layers. After doing some reasearch online, and seeing that common practice was to use a smaller filter size and increase through the layers, we had some success. Our reasoning behind this choice was that the context of the input is widened as it is processed through the mdoel. our final change was adding one more convolution layer, which brought the total to three.\n"
      ]
    },
    {
      "cell_type": "code",
      "execution_count": 22,
      "metadata": {},
      "outputs": [
        {
          "name": "stdout",
          "output_type": "stream",
          "text": [
            "Model: \"CNN_Model\"\n",
            "__________________________________________________________________________________________________\n",
            " Layer (type)                   Output Shape         Param #     Connected to                     \n",
            "==================================================================================================\n",
            " Input Layer (InputLayer)       [(None, 1)]          0           []                               \n",
            "                                                                                                  \n",
            " Normalization_Layer (TextVecto  (None, 300)         0           ['Input Layer[0][0]']            \n",
            " rization)                                                                                        \n",
            "                                                                                                  \n",
            " Embeddings_Layer (Embedding)   (None, 300, 9)       180000      ['Normalization_Layer[0][0]']    \n",
            "                                                                                                  \n",
            " Conv_Layer_1_1 (Conv1D)        (None, 300, 16)      448         ['Embeddings_Layer[0][0]']       \n",
            "                                                                                                  \n",
            " Conv_Layer_1_2 (Conv1D)        (None, 300, 16)      592         ['Embeddings_Layer[0][0]']       \n",
            "                                                                                                  \n",
            " Conv_Layer_1_3 (Conv1D)        (None, 300, 16)      736         ['Embeddings_Layer[0][0]']       \n",
            "                                                                                                  \n",
            " Concatenate_Layer (Concatenate  (None, 300, 48)     0           ['Conv_Layer_1_1[0][0]',         \n",
            " )                                                                'Conv_Layer_1_2[0][0]',         \n",
            "                                                                  'Conv_Layer_1_3[0][0]']         \n",
            "                                                                                                  \n",
            " dropout (Dropout)              (None, 300, 48)      0           ['Concatenate_Layer[0][0]']      \n",
            "                                                                                                  \n",
            " Max_Pool_Layer (MaxPooling1D)  (None, 1, 48)        0           ['dropout[0][0]']                \n",
            "                                                                                                  \n",
            " Flatten_Layer_1 (Flatten)      (None, 48)           0           ['Max_Pool_Layer[0][0]']         \n",
            "                                                                                                  \n",
            " Hidden_Layer_1 (Dense)         (None, 32)           1568        ['Flatten_Layer_1[0][0]']        \n",
            "                                                                                                  \n",
            " Output_Layer (Dense)           (None, 1)            33          ['Hidden_Layer_1[0][0]']         \n",
            "                                                                                                  \n",
            "==================================================================================================\n",
            "Total params: 183,377\n",
            "Trainable params: 183,377\n",
            "Non-trainable params: 0\n",
            "__________________________________________________________________________________________________\n"
          ]
        },
        {
          "data": {
            "text/plain": [
              "None"
            ]
          },
          "metadata": {},
          "output_type": "display_data"
        }
      ],
      "source": [
        "cnn_model = build_cnn_model(X_train[:,3], 20000, 300, 9)\n",
        "display(cnn_model.summary())"
      ]
    },
    {
      "attachments": {},
      "cell_type": "markdown",
      "metadata": {},
      "source": [
        "#### 4.2.3 RNN model\n",
        "\n"
      ]
    },
    {
      "attachments": {},
      "cell_type": "markdown",
      "metadata": {},
      "source": [
        "##### 4.2.3.1\n",
        "\n",
        "The last model we tried was an RNN. Redundant nueral networks are still new to us, so it was really difficult to build this. Oscar was able to get this model working and we trust that this model will help us predict the best label."
      ]
    },
    {
      "cell_type": "code",
      "execution_count": 23,
      "metadata": {},
      "outputs": [],
      "source": [
        "def build_rnn_model(tweets_np, max_vocab, max_tokens, embedding_dim):\n",
        "    \n",
        "    tf.keras.backend.clear_session()\n",
        "    tf.keras.utils.set_random_seed(0)\n",
        "\n",
        "\n",
        "    # create normalized vocab\n",
        "    norm = tf.keras.layers.TextVectorization(\n",
        "        max_tokens,\n",
        "        standardize=normalize_punctuation_and_links,\n",
        "        split='whitespace',\n",
        "        # output_mode='tf_idf',\n",
        "        output_mode='int',\n",
        "        # pad_to_max_tokens=True,\n",
        "        encoding='utf-8',\n",
        "        name='Normalization_Layer',\n",
        "        output_sequence_length=max_tokens,\n",
        "    )\n",
        "\n",
        "    norm.adapt(tweets_np , batch_size=64)\n",
        "\n",
        "    # Sequential api and tutorial https://www.tensorflow.org/text/tutorials/text_classification_rnn\n",
        "    model = tf.keras.Sequential()\n",
        "    model.add(tf.keras.Input(shape=(1,), dtype=tf.string, name='Input Layer'))\n",
        "    model.add(norm)\n",
        "    model.add(tf.keras.layers.Embedding(\n",
        "        input_dim=max_vocab,\n",
        "        output_dim=embedding_dim,\n",
        "        input_length=max_tokens,\n",
        "        name='Embeddings_Layer',\n",
        "    ))\n",
        "\n",
        "    # bidirectional layers\n",
        "    model.add(tf.keras.layers.Bidirectional(tf.keras.layers.LSTM(64 ,  return_sequences= True), name='Bidirectional_Layer_1'))\n",
        "    model.add(tf.keras.layers.Bidirectional(tf.keras.layers.LSTM(64 , return_sequences=True ), name='Bidirectional_Layer_2'))\n",
        "    model.add(tf.keras.layers.Bidirectional(tf.keras.layers.LSTM(64  ), name='Bidirectional_Layer_3'))\n",
        "    \n",
        "    # hidden sigmoid layers\n",
        "    model.add(tf.keras.layers.Dense(128, activation='sigmoid', name='hidden_layer_1'))\n",
        "    model.add(tf.keras.layers.Dense(64, activation='sigmoid', name='hidden_layer_2'))\n",
        "    \n",
        "    # output layers\n",
        "    model.add(tf.keras.layers.Dense(\n",
        "        units=1,\n",
        "        activation='sigmoid',\n",
        "        name='Output_Layer',\n",
        "    ))\n",
        "\n",
        "    \n",
        "    model.compile(loss='binary_crossentropy', optimizer='adam', metrics=['accuracy'])\n",
        "\n",
        "    return model"
      ]
    },
    {
      "cell_type": "code",
      "execution_count": 24,
      "metadata": {},
      "outputs": [
        {
          "name": "stdout",
          "output_type": "stream",
          "text": [
            "Model: \"sequential\"\n",
            "_________________________________________________________________\n",
            " Layer (type)                Output Shape              Param #   \n",
            "=================================================================\n",
            " Normalization_Layer (TextVe  (None, 300)              0         \n",
            " ctorization)                                                    \n",
            "                                                                 \n",
            " Embeddings_Layer (Embedding  (None, 300, 9)           270000    \n",
            " )                                                               \n",
            "                                                                 \n",
            " Bidirectional_Layer_1 (Bidi  (None, 300, 128)         37888     \n",
            " rectional)                                                      \n",
            "                                                                 \n",
            " Bidirectional_Layer_2 (Bidi  (None, 300, 128)         98816     \n",
            " rectional)                                                      \n",
            "                                                                 \n",
            " Bidirectional_Layer_3 (Bidi  (None, 128)              98816     \n",
            " rectional)                                                      \n",
            "                                                                 \n",
            " hidden_layer_1 (Dense)      (None, 128)               16512     \n",
            "                                                                 \n",
            " hidden_layer_2 (Dense)      (None, 64)                8256      \n",
            "                                                                 \n",
            " Output_Layer (Dense)        (None, 1)                 65        \n",
            "                                                                 \n",
            "=================================================================\n",
            "Total params: 530,353\n",
            "Trainable params: 530,353\n",
            "Non-trainable params: 0\n",
            "_________________________________________________________________\n"
          ]
        },
        {
          "data": {
            "text/plain": [
              "None"
            ]
          },
          "metadata": {},
          "output_type": "display_data"
        }
      ],
      "source": [
        "rnn_model = build_rnn_model(X_train[:,3], 30000, 300, 9)\n",
        "display(rnn_model.summary())"
      ]
    },
    {
      "attachments": {},
      "cell_type": "markdown",
      "metadata": {},
      "source": [
        "## 5. Error Analysis"
      ]
    },
    {
      "cell_type": "code",
      "execution_count": 25,
      "metadata": {},
      "outputs": [],
      "source": [
        "def plot_history(history, epochs):\n",
        "    history = pd.DataFrame(history)\n",
        "\n",
        "    plt.xlabel('Epochs')\n",
        "    plt.ylabel('Loss')\n",
        "    plt.title('Loss vs Epoch')\n",
        "\n",
        "    plt.plot(list(range(1, epochs + 1)), history['loss'], label=\"Train\")\n",
        "    plt.plot(list(range(1, epochs + 1)), history['val_loss'], label=\"Validation\")\n",
        "\n",
        "    plt.legend(loc='best')\n",
        "    plt.show()\n",
        "\n",
        "    print('Loss:', history['loss'].iloc[-1])\n",
        "    print('Val Loss:', history['val_loss'].iloc[-1])\n",
        "\n",
        "    plt.xlabel('Epochs')\n",
        "    plt.ylabel('Accuracy (in %)')\n",
        "    plt.title('Accuracy vs Epoch')\n",
        "\n",
        "    plt.plot(list(range(1, epochs + 1)), history['accuracy'] * 100, label=\"Train\")\n",
        "    plt.plot(list(range(1, epochs + 1)), history['val_accuracy'] * 100, label=\"Validation\")\n",
        "\n",
        "    plt.legend(loc='best')\n",
        "    plt.show()\n",
        "\n",
        "    print('Accuracy:', history['accuracy'].iloc[-1])\n",
        "    print('Val Accuracy:', history['val_accuracy'].iloc[-1])"
      ]
    },
    {
      "cell_type": "code",
      "execution_count": 26,
      "metadata": {},
      "outputs": [],
      "source": [
        "def train_and_analyze_model(model, tweet_features, labels, num_of_epochs=16, num_per_batch=16, validation=0.1):\n",
        "    # Remove randomness\n",
        "    tf.keras.backend.clear_session()\n",
        "    tf.keras.utils.set_random_seed(0)\n",
        "        \n",
        "    history = model.fit(\n",
        "        tweet_features[:,3],\n",
        "        labels,\n",
        "        epochs=num_of_epochs,\n",
        "        batch_size=num_per_batch,\n",
        "        validation_split=validation,\n",
        "        verbose=1,\n",
        "    )\n",
        "\n",
        "    plot_history(history.history, num_of_epochs)"
      ]
    },
    {
      "cell_type": "code",
      "execution_count": 27,
      "metadata": {},
      "outputs": [],
      "source": [
        "def plot_predictions(predictions, actual):\n",
        "    from matplotlib.ticker import PercentFormatter\n",
        "    plt.title('Prediction Distribution')\n",
        "    plt.xlabel('Positive Confidence Level (in %)')\n",
        "    plt.ylabel('# of predictions')\n",
        "    plt.gca().xaxis.set_major_formatter(PercentFormatter())\n",
        "\n",
        "    plt.hist([predictions[actual == 0] * 100, predictions[actual == 1] * 100], label=['negative', 'positive'])\n",
        "    plt.legend(loc='best')\n",
        "    plt.show()"
      ]
    },
    {
      "cell_type": "code",
      "execution_count": 28,
      "metadata": {},
      "outputs": [],
      "source": [
        "def plot_difference(predictions, actual):\n",
        "    plt.title('Prediction Difference Distribution')\n",
        "    plt.xlabel('Positive Confidence Level (in %)')\n",
        "    plt.ylabel('Difference')\n",
        "\n",
        "    diff = abs(predictions - actual)\n",
        "\n",
        "    plt.hist([diff[actual == 0] * 100, diff[actual == 1] * 100], label=['negative', 'positive'])\n",
        "    plt.show()"
      ]
    },
    {
      "attachments": {},
      "cell_type": "markdown",
      "metadata": {},
      "source": [
        "### 5.1 Train and Anaylze the FFNN Model"
      ]
    },
    {
      "cell_type": "code",
      "execution_count": 29,
      "metadata": {},
      "outputs": [
        {
          "name": "stdout",
          "output_type": "stream",
          "text": [
            "Epoch 1/10\n",
            "97/97 [==============================] - 1s 8ms/step - loss: 0.6839 - accuracy: 0.5729 - val_loss: 0.6824 - val_accuracy: 0.5627\n",
            "Epoch 2/10\n",
            "97/97 [==============================] - 1s 6ms/step - loss: 0.6681 - accuracy: 0.5841 - val_loss: 0.6441 - val_accuracy: 0.7187\n",
            "Epoch 3/10\n",
            "97/97 [==============================] - 1s 6ms/step - loss: 0.5817 - accuracy: 0.7309 - val_loss: 0.5457 - val_accuracy: 0.7289\n",
            "Epoch 4/10\n",
            "97/97 [==============================] - 1s 5ms/step - loss: 0.5102 - accuracy: 0.7609 - val_loss: 0.5254 - val_accuracy: 0.7449\n",
            "Epoch 5/10\n",
            "97/97 [==============================] - 1s 5ms/step - loss: 0.4775 - accuracy: 0.7784 - val_loss: 0.5106 - val_accuracy: 0.7464\n",
            "Epoch 6/10\n",
            "97/97 [==============================] - 0s 5ms/step - loss: 0.4600 - accuracy: 0.7882 - val_loss: 0.5118 - val_accuracy: 0.7536\n",
            "Epoch 7/10\n",
            "97/97 [==============================] - 1s 5ms/step - loss: 0.4485 - accuracy: 0.7930 - val_loss: 0.5183 - val_accuracy: 0.7595\n",
            "Epoch 8/10\n",
            "97/97 [==============================] - 1s 5ms/step - loss: 0.4409 - accuracy: 0.7969 - val_loss: 0.5189 - val_accuracy: 0.7493\n",
            "Epoch 9/10\n",
            "97/97 [==============================] - 1s 6ms/step - loss: 0.4353 - accuracy: 0.8028 - val_loss: 0.5207 - val_accuracy: 0.7493\n",
            "Epoch 10/10\n",
            "97/97 [==============================] - 1s 6ms/step - loss: 0.4318 - accuracy: 0.8029 - val_loss: 0.5281 - val_accuracy: 0.7434\n"
          ]
        },
        {
          "data": {
            "image/png": "[encoded data removed]",
            "text/plain": [
              "<Figure size 640x480 with 1 Axes>"
            ]
          },
          "metadata": {},
          "output_type": "display_data"
        },
        {
          "name": "stdout",
          "output_type": "stream",
          "text": [
            "Loss: 0.43176037073135376\n",
            "Val Loss: 0.5280683636665344\n"
          ]
        },
        {
          "data": {
            "image/png": "[encoded data removed]",
            "text/plain": [
              "<Figure size 640x480 with 1 Axes>"
            ]
          },
          "metadata": {},
          "output_type": "display_data"
        },
        {
          "name": "stdout",
          "output_type": "stream",
          "text": [
            "Accuracy: 0.8029196858406067\n",
            "Val Accuracy: 0.7434402108192444\n"
          ]
        }
      ],
      "source": [
        "train_and_analyze_model(\n",
        "    ffnn_model,\n",
        "    X_train,\n",
        "    Y_train,\n",
        "    num_of_epochs=10,\n",
        "    num_per_batch=64,\n",
        "    validation=0.1,\n",
        ")"
      ]
    },
    {
      "attachments": {},
      "cell_type": "markdown",
      "metadata": {},
      "source": [
        "#### 5.1.1\n",
        "Here above we see that the model converges pretty well. One small issue that we have noticed is that it does not generalize data too well, but the results are acceptable for a simple model that is not too complex.\n",
        "\n",
        "**Notes**\n",
        "After multiple runs with different parameters and layers/layer sizes, we noticed that it trained and converged faster then the rest of the models. Adding more hidden layers with more nuerons did not have a significant impact on this model's accuracy, in fact it may have hurt it. As the writing of this, it is the best performing model we have however, it does not have much room to grow. One way that can maybe help this function is the using another process to pre-process the data that is far more complex that also can handle potential typos that can occur in online discourse."
      ]
    },
    {
      "cell_type": "code",
      "execution_count": 30,
      "metadata": {},
      "outputs": [
        {
          "name": "stdout",
          "output_type": "stream",
          "text": [
            "215/215 [==============================] - 0s 1ms/step\n",
            "Train Loss: 0.43740477923997406\n",
            "24/24 [==============================] - 0s 1ms/step\n",
            "Val Loss: 0.5615580778744981\n"
          ]
        }
      ],
      "source": [
        "ffnn_train_predictions = ffnn_model.predict(X_train[:, 3]).flatten()\n",
        "ffnn_train_loss = calculate_loss(Y_train, ffnn_train_predictions)\n",
        "print(f'Train Loss: {ffnn_train_loss}')\n",
        "\n",
        "ffnn_validation_predictions = ffnn_model.predict(X_validation[:, 3]).flatten()\n",
        "ffnn_validation_loss = calculate_loss(Y_validation, ffnn_validation_predictions)\n",
        "print(f'Val Loss: {ffnn_validation_loss}')"
      ]
    },
    {
      "cell_type": "code",
      "execution_count": 31,
      "metadata": {},
      "outputs": [
        {
          "data": {
            "image/png": "[encoded data removed]",
            "text/plain": [
              "<Figure size 640x480 with 1 Axes>"
            ]
          },
          "metadata": {},
          "output_type": "display_data"
        },
        {
          "data": {
            "image/png": "[encoded data removed]",
            "text/plain": [
              "<Figure size 640x480 with 1 Axes>"
            ]
          },
          "metadata": {},
          "output_type": "display_data"
        }
      ],
      "source": [
        "plot_predictions(ffnn_train_predictions, Y_train)\n",
        "plot_difference(ffnn_train_predictions, Y_train)"
      ]
    },
    {
      "attachments": {},
      "cell_type": "markdown",
      "metadata": {},
      "source": [
        "#### 5.1.2\n",
        "The performance of this model was middle of the pack after modifications were made. The data tables above show the distribution of predictions using two different metrics. Looking at the raw distribution of predictions, we can see that the model might fair best using a threshold between .7 and .8 to get the maximum results. In addition, when looking at the difference in distributions, we can see the model is making a lot of errors in which many false negetives are being predicted. This can be derived from both graphs. The prediciton distribution graph shows a fair amount of positives near the middle of the graph, which will all be missed with a high threshold. In the second graph we see larger amount of positives to the right of the graph signaling false negatives. "
      ]
    },
    {
      "cell_type": "code",
      "execution_count": 33,
      "metadata": {},
      "outputs": [
        {
          "name": "stdout",
          "output_type": "stream",
          "text": [
            "102/102 [==============================] - 0s 1ms/step\n",
            "Generating \"ffnn_submission.csv\" file...\n",
            "Successfully created \"ffnn_submission.csv\"\n"
          ]
        }
      ],
      "source": [
        "ffnn_predictions = ffnn_model.predict(test_input_np[:, 3]).flatten()\n",
        "\n",
        "# Apply threshold\n",
        "THRESHOLD = 0.7\n",
        "ffnn_predictions[ffnn_predictions >= THRESHOLD] = 1\n",
        "ffnn_predictions[ffnn_predictions < THRESHOLD] = 0\n",
        "\n",
        "save_to_submissions_csv(test_input_np, ffnn_predictions, 'ffnn_submission.csv')"
      ]
    },
    {
      "cell_type": "code",
      "execution_count": 34,
      "metadata": {},
      "outputs": [
        {
          "data": {
            "text/html": [
              "<div>\n",
              "<style scoped>\n",
              "    .dataframe tbody tr th:only-of-type {\n",
              "        vertical-align: middle;\n",
              "    }\n",
              "\n",
              "    .dataframe tbody tr th {\n",
              "        vertical-align: top;\n",
              "    }\n",
              "\n",
              "    .dataframe thead th {\n",
              "        text-align: right;\n",
              "    }\n",
              "</style>\n",
              "<table border=\"1\" class=\"dataframe\">\n",
              "  <thead>\n",
              "    <tr style=\"text-align: right;\">\n",
              "      <th></th>\n",
              "      <th>id</th>\n",
              "      <th>target</th>\n",
              "    </tr>\n",
              "  </thead>\n",
              "  <tbody>\n",
              "    <tr>\n",
              "      <th>0</th>\n",
              "      <td>0</td>\n",
              "      <td>1</td>\n",
              "    </tr>\n",
              "    <tr>\n",
              "      <th>1</th>\n",
              "      <td>2</td>\n",
              "      <td>1</td>\n",
              "    </tr>\n",
              "    <tr>\n",
              "      <th>2</th>\n",
              "      <td>3</td>\n",
              "      <td>1</td>\n",
              "    </tr>\n",
              "    <tr>\n",
              "      <th>3</th>\n",
              "      <td>9</td>\n",
              "      <td>0</td>\n",
              "    </tr>\n",
              "    <tr>\n",
              "      <th>4</th>\n",
              "      <td>11</td>\n",
              "      <td>1</td>\n",
              "    </tr>\n",
              "  </tbody>\n",
              "</table>\n",
              "</div>"
            ],
            "text/plain": [
              "   id  target\n",
              "0   0       1\n",
              "1   2       1\n",
              "2   3       1\n",
              "3   9       0\n",
              "4  11       1"
            ]
          },
          "execution_count": 34,
          "metadata": {},
          "output_type": "execute_result"
        }
      ],
      "source": [
        "pd.read_csv('ffnn_submission.csv').head()"
      ]
    },
    {
      "attachments": {},
      "cell_type": "markdown",
      "metadata": {},
      "source": [
        "### 5.2 Train and Evaluate the CNN Model"
      ]
    },
    {
      "cell_type": "code",
      "execution_count": 35,
      "metadata": {},
      "outputs": [
        {
          "name": "stdout",
          "output_type": "stream",
          "text": [
            "Epoch 1/10\n",
            "193/193 [==============================] - 4s 13ms/step - loss: 0.7264 - accuracy: 0.5348 - val_loss: 0.6659 - val_accuracy: 0.5627\n",
            "Epoch 2/10\n",
            "193/193 [==============================] - 2s 11ms/step - loss: 0.6221 - accuracy: 0.6594 - val_loss: 0.5966 - val_accuracy: 0.6778\n",
            "Epoch 3/10\n",
            "193/193 [==============================] - 2s 11ms/step - loss: 0.5326 - accuracy: 0.7390 - val_loss: 0.5122 - val_accuracy: 0.7522\n",
            "Epoch 4/10\n",
            "193/193 [==============================] - 2s 11ms/step - loss: 0.4747 - accuracy: 0.7805 - val_loss: 0.5027 - val_accuracy: 0.7522\n",
            "Epoch 5/10\n",
            "193/193 [==============================] - 2s 11ms/step - loss: 0.4605 - accuracy: 0.7869 - val_loss: 0.4986 - val_accuracy: 0.7551\n",
            "Epoch 6/10\n",
            "193/193 [==============================] - 2s 11ms/step - loss: 0.4523 - accuracy: 0.7942 - val_loss: 0.5011 - val_accuracy: 0.7551\n",
            "Epoch 7/10\n",
            "193/193 [==============================] - 2s 11ms/step - loss: 0.4451 - accuracy: 0.7977 - val_loss: 0.5012 - val_accuracy: 0.7638\n",
            "Epoch 8/10\n",
            "193/193 [==============================] - 2s 11ms/step - loss: 0.4388 - accuracy: 0.8023 - val_loss: 0.5034 - val_accuracy: 0.7536\n",
            "Epoch 9/10\n",
            "193/193 [==============================] - 2s 11ms/step - loss: 0.4345 - accuracy: 0.8067 - val_loss: 0.5033 - val_accuracy: 0.7653\n",
            "Epoch 10/10\n",
            "193/193 [==============================] - 2s 11ms/step - loss: 0.4304 - accuracy: 0.8104 - val_loss: 0.5114 - val_accuracy: 0.7595\n"
          ]
        },
        {
          "data": {
            "image/png": "[encoded data removed]",
            "text/plain": [
              "<Figure size 640x480 with 1 Axes>"
            ]
          },
          "metadata": {},
          "output_type": "display_data"
        },
        {
          "name": "stdout",
          "output_type": "stream",
          "text": [
            "Loss: 0.4304109811782837\n",
            "Val Loss: 0.5113658905029297\n"
          ]
        },
        {
          "data": {
            "image/png": "[encoded data removed]",
            "text/plain": [
              "<Figure size 640x480 with 1 Axes>"
            ]
          },
          "metadata": {},
          "output_type": "display_data"
        },
        {
          "name": "stdout",
          "output_type": "stream",
          "text": [
            "Accuracy: 0.8103811740875244\n",
            "Val Accuracy: 0.7594752311706543\n"
          ]
        }
      ],
      "source": [
        "train_and_analyze_model(\n",
        "    cnn_model,\n",
        "    X_train,\n",
        "    Y_train,\n",
        "    num_of_epochs=10,\n",
        "    num_per_batch=32,\n",
        "    validation=0.1,\n",
        ")"
      ]
    },
    {
      "attachments": {},
      "cell_type": "markdown",
      "metadata": {},
      "source": [
        "#### 5.2.1 \n",
        "Using the scatter plots above, we can see that this model might actually be overfitting the data. During the validation, it does not generalize new data well and struggles alittle."
      ]
    },
    {
      "cell_type": "code",
      "execution_count": 36,
      "metadata": {},
      "outputs": [
        {
          "name": "stdout",
          "output_type": "stream",
          "text": [
            "215/215 [==============================] - 1s 2ms/step\n",
            "Train Loss: 0.4311079707141387\n",
            "24/24 [==============================] - 0s 2ms/step\n",
            "Val Loss: 0.5485874003323719\n"
          ]
        }
      ],
      "source": [
        "cnn_train_predictions = cnn_model.predict(X_train[:, 3]).flatten()\n",
        "cnn_train_loss = calculate_loss(Y_train, cnn_train_predictions)\n",
        "print(f'Train Loss: {cnn_train_loss}')\n",
        "\n",
        "cnn_validation_predictions = cnn_model.predict(X_validation[:, 3]).flatten()\n",
        "cnn_validation_loss = calculate_loss(Y_validation, cnn_validation_predictions)\n",
        "print(f'Val Loss: {cnn_validation_loss}')"
      ]
    },
    {
      "cell_type": "code",
      "execution_count": 37,
      "metadata": {},
      "outputs": [
        {
          "data": {
            "image/png": "[encoded data removed]",
            "text/plain": [
              "<Figure size 640x480 with 1 Axes>"
            ]
          },
          "metadata": {},
          "output_type": "display_data"
        },
        {
          "data": {
            "image/png": "[encoded data removed]",
            "text/plain": [
              "<Figure size 640x480 with 1 Axes>"
            ]
          },
          "metadata": {},
          "output_type": "display_data"
        }
      ],
      "source": [
        "plot_predictions(cnn_train_predictions, Y_train)\n",
        "plot_difference(cnn_train_predictions, Y_train)"
      ]
    },
    {
      "attachments": {},
      "cell_type": "markdown",
      "metadata": {},
      "source": [
        "### "
      ]
    },
    {
      "attachments": {},
      "cell_type": "markdown",
      "metadata": {},
      "source": [
        "## 5.2.2\n",
        "This model has a similar problem to teh first model, the same pattern appears here where an decent chunk of false negatives are being mislabeled. One reason for this may be the text processing techinque and use of embeddings in combination. In contrast, negative results are being predicted with a reasonable amount of accuraCY."
      ]
    },
    {
      "cell_type": "code",
      "execution_count": 38,
      "metadata": {},
      "outputs": [
        {
          "name": "stdout",
          "output_type": "stream",
          "text": [
            "102/102 [==============================] - 0s 2ms/step\n",
            "Generating \"cnn_submission.csv\" file...\n",
            "Successfully created \"cnn_submission.csv\"\n"
          ]
        }
      ],
      "source": [
        "cnn_predictions = cnn_model.predict(test_input_np[:, 3]).flatten()\n",
        "\n",
        "# Apply threshold\n",
        "THRESHOLD = 0.7\n",
        "cnn_predictions[cnn_predictions >= THRESHOLD] = 1\n",
        "cnn_predictions[cnn_predictions < THRESHOLD] = 0\n",
        "\n",
        "save_to_submissions_csv(test_input_np, cnn_predictions, 'cnn_submission.csv')"
      ]
    },
    {
      "cell_type": "code",
      "execution_count": 39,
      "metadata": {},
      "outputs": [
        {
          "data": {
            "text/html": [
              "<div>\n",
              "<style scoped>\n",
              "    .dataframe tbody tr th:only-of-type {\n",
              "        vertical-align: middle;\n",
              "    }\n",
              "\n",
              "    .dataframe tbody tr th {\n",
              "        vertical-align: top;\n",
              "    }\n",
              "\n",
              "    .dataframe thead th {\n",
              "        text-align: right;\n",
              "    }\n",
              "</style>\n",
              "<table border=\"1\" class=\"dataframe\">\n",
              "  <thead>\n",
              "    <tr style=\"text-align: right;\">\n",
              "      <th></th>\n",
              "      <th>id</th>\n",
              "      <th>target</th>\n",
              "    </tr>\n",
              "  </thead>\n",
              "  <tbody>\n",
              "    <tr>\n",
              "      <th>0</th>\n",
              "      <td>0</td>\n",
              "      <td>1</td>\n",
              "    </tr>\n",
              "    <tr>\n",
              "      <th>1</th>\n",
              "      <td>2</td>\n",
              "      <td>1</td>\n",
              "    </tr>\n",
              "    <tr>\n",
              "      <th>2</th>\n",
              "      <td>3</td>\n",
              "      <td>1</td>\n",
              "    </tr>\n",
              "    <tr>\n",
              "      <th>3</th>\n",
              "      <td>9</td>\n",
              "      <td>0</td>\n",
              "    </tr>\n",
              "    <tr>\n",
              "      <th>4</th>\n",
              "      <td>11</td>\n",
              "      <td>1</td>\n",
              "    </tr>\n",
              "  </tbody>\n",
              "</table>\n",
              "</div>"
            ],
            "text/plain": [
              "   id  target\n",
              "0   0       1\n",
              "1   2       1\n",
              "2   3       1\n",
              "3   9       0\n",
              "4  11       1"
            ]
          },
          "execution_count": 39,
          "metadata": {},
          "output_type": "execute_result"
        }
      ],
      "source": [
        "pd.read_csv('cnn_submission.csv').head()"
      ]
    },
    {
      "attachments": {},
      "cell_type": "markdown",
      "metadata": {},
      "source": [
        "### 5.3 Train and Evaluate the RNN Model"
      ]
    },
    {
      "cell_type": "code",
      "execution_count": 40,
      "metadata": {},
      "outputs": [
        {
          "name": "stdout",
          "output_type": "stream",
          "text": [
            "Epoch 1/10\n",
            "193/193 [==============================] - 103s 500ms/step - loss: 0.6115 - accuracy: 0.6657 - val_loss: 0.5598 - val_accuracy: 0.7245\n",
            "Epoch 2/10\n",
            "193/193 [==============================] - 94s 486ms/step - loss: 0.5141 - accuracy: 0.7622 - val_loss: 0.5085 - val_accuracy: 0.7493\n",
            "Epoch 3/10\n",
            "193/193 [==============================] - 94s 489ms/step - loss: 0.4832 - accuracy: 0.7763 - val_loss: 0.5047 - val_accuracy: 0.7595\n",
            "Epoch 4/10\n",
            "193/193 [==============================] - 94s 484ms/step - loss: 0.4776 - accuracy: 0.7768 - val_loss: 0.5544 - val_accuracy: 0.7449\n",
            "Epoch 5/10\n",
            "193/193 [==============================] - 94s 486ms/step - loss: 0.4724 - accuracy: 0.7831 - val_loss: 0.5075 - val_accuracy: 0.7551\n",
            "Epoch 6/10\n",
            "193/193 [==============================] - 94s 490ms/step - loss: 0.4683 - accuracy: 0.7817 - val_loss: 0.5217 - val_accuracy: 0.7464\n",
            "Epoch 7/10\n",
            "193/193 [==============================] - 94s 489ms/step - loss: 0.4642 - accuracy: 0.7841 - val_loss: 0.5121 - val_accuracy: 0.7609\n",
            "Epoch 8/10\n",
            "193/193 [==============================] - 94s 489ms/step - loss: 0.4595 - accuracy: 0.7875 - val_loss: 0.5167 - val_accuracy: 0.7711\n",
            "Epoch 9/10\n",
            "193/193 [==============================] - 95s 494ms/step - loss: 0.4566 - accuracy: 0.7872 - val_loss: 0.5149 - val_accuracy: 0.7595\n",
            "Epoch 10/10\n",
            "193/193 [==============================] - 96s 496ms/step - loss: 0.4460 - accuracy: 0.7956 - val_loss: 0.5283 - val_accuracy: 0.7449\n"
          ]
        },
        {
          "data": {
            "image/png": "[encoded data removed]",
            "text/plain": [
              "<Figure size 640x480 with 1 Axes>"
            ]
          },
          "metadata": {},
          "output_type": "display_data"
        },
        {
          "name": "stdout",
          "output_type": "stream",
          "text": [
            "Loss: 0.44599589705467224\n",
            "Val Loss: 0.5282750725746155\n"
          ]
        },
        {
          "data": {
            "image/png": "[encoded data removed]",
            "text/plain": [
              "<Figure size 640x480 with 1 Axes>"
            ]
          },
          "metadata": {},
          "output_type": "display_data"
        },
        {
          "name": "stdout",
          "output_type": "stream",
          "text": [
            "Accuracy: 0.7956204414367676\n",
            "Val Accuracy: 0.7448979616165161\n"
          ]
        }
      ],
      "source": [
        "                                                                   \n",
        "train_and_analyze_model(\n",
        "    rnn_model,\n",
        "    X_train,\n",
        "    Y_train,\n",
        "    num_of_epochs=10,\n",
        "    num_per_batch=32,\n",
        "    validation=0.1,\n",
        ")"
      ]
    },
    {
      "attachments": {},
      "cell_type": "markdown",
      "metadata": {},
      "source": [
        "#### 5.3.1\n",
        "\n",
        "This model is the most chaotic of all three. As we can see, it is not performing well in its current state. The model does not converge well however it is possible that if left training for a long enough time it will perform slightly better.\n",
        "\n",
        "After several trial and errors while working on this model, we expanded our bidirectional layers to three. this however was not the best decision. The thought process was that adding more layers can help the model learn word context of the tweets, rather then making predicitons on single words, suchas the FFNN. Another unforseen effect was the amount of time it would take to fully train a model. Some variations lasted upwards of 30 minutes. We also learned that more complexity does not mean better results. Three bidirectional layers performed worse then a model with two layers.\n",
        "\n",
        "Of all our experiments, this one is the worst. As we trained with different variations, it was noted that adding complexity does not necessarily add any benefit and hinder the learning. Despite these current results, we still think that an RNN basis may still help us.\n",
        "\n",
        "As of writing this, the model is still a work in progess and has shown promise thus far. We will continue to work on this model to try to get the highest kaggle score possible as it still is promising."
      ]
    },
    {
      "cell_type": "code",
      "execution_count": 41,
      "metadata": {},
      "outputs": [
        {
          "name": "stdout",
          "output_type": "stream",
          "text": [
            "215/215 [==============================] - 0s 2ms/step\n",
            "Train Loss: 0.4311079707141387\n",
            "24/24 [==============================] - 0s 2ms/step\n",
            "Val Loss: 0.5485874003323719\n"
          ]
        }
      ],
      "source": [
        "rnn_train_predictions = cnn_model.predict(X_train[:, 3]).flatten()\n",
        "rnn_train_loss = calculate_loss(Y_train, rnn_train_predictions)\n",
        "print(f'Train Loss: {rnn_train_loss}')\n",
        "\n",
        "rnn_validation_predictions = cnn_model.predict(X_validation[:, 3]).flatten()\n",
        "rnn_validation_loss = calculate_loss(Y_validation, rnn_validation_predictions)\n",
        "print(f'Val Loss: {rnn_validation_loss}')"
      ]
    },
    {
      "cell_type": "code",
      "execution_count": 45,
      "metadata": {},
      "outputs": [
        {
          "data": {
            "image/png": "[encoded data removed]",
            "text/plain": [
              "<Figure size 640x480 with 1 Axes>"
            ]
          },
          "metadata": {},
          "output_type": "display_data"
        },
        {
          "data": {
            "image/png": "[encoded data removed]",
            "text/plain": [
              "<Figure size 640x480 with 1 Axes>"
            ]
          },
          "metadata": {},
          "output_type": "display_data"
        }
      ],
      "source": [
        "plot_predictions(rnn_train_predictions, Y_train)\n",
        "plot_difference(rnn_train_predictions, Y_train)"
      ]
    },
    {
      "attachments": {},
      "cell_type": "markdown",
      "metadata": {},
      "source": [
        "#### 5.3.2\n",
        "Here the same problem emerges, a large amount of false positves are being predicted. Interestingly however, it has done a very good job of prediciting negative values."
      ]
    },
    {
      "cell_type": "code",
      "execution_count": 42,
      "metadata": {},
      "outputs": [
        {
          "name": "stdout",
          "output_type": "stream",
          "text": [
            "102/102 [==============================] - 13s 110ms/step\n",
            "Generating \"rnn_submission.csv\" file...\n",
            "Successfully created \"rnn_submission.csv\"\n"
          ]
        }
      ],
      "source": [
        "rnn_predictions = rnn_model.predict(test_input_np[:, 3]).flatten()\n",
        "\n",
        "# Apply threshold\n",
        "THRESHOLD = 0.7\n",
        "rnn_predictions[rnn_predictions >= THRESHOLD] = 1\n",
        "rnn_predictions[rnn_predictions < THRESHOLD] = 0\n",
        "\n",
        "save_to_submissions_csv(test_input_np, rnn_predictions, 'rnn_submission.csv')"
      ]
    },
    {
      "cell_type": "code",
      "execution_count": 43,
      "metadata": {},
      "outputs": [
        {
          "data": {
            "text/html": [
              "<div>\n",
              "<style scoped>\n",
              "    .dataframe tbody tr th:only-of-type {\n",
              "        vertical-align: middle;\n",
              "    }\n",
              "\n",
              "    .dataframe tbody tr th {\n",
              "        vertical-align: top;\n",
              "    }\n",
              "\n",
              "    .dataframe thead th {\n",
              "        text-align: right;\n",
              "    }\n",
              "</style>\n",
              "<table border=\"1\" class=\"dataframe\">\n",
              "  <thead>\n",
              "    <tr style=\"text-align: right;\">\n",
              "      <th></th>\n",
              "      <th>id</th>\n",
              "      <th>target</th>\n",
              "    </tr>\n",
              "  </thead>\n",
              "  <tbody>\n",
              "    <tr>\n",
              "      <th>0</th>\n",
              "      <td>0</td>\n",
              "      <td>0</td>\n",
              "    </tr>\n",
              "    <tr>\n",
              "      <th>1</th>\n",
              "      <td>2</td>\n",
              "      <td>1</td>\n",
              "    </tr>\n",
              "    <tr>\n",
              "      <th>2</th>\n",
              "      <td>3</td>\n",
              "      <td>1</td>\n",
              "    </tr>\n",
              "    <tr>\n",
              "      <th>3</th>\n",
              "      <td>9</td>\n",
              "      <td>0</td>\n",
              "    </tr>\n",
              "    <tr>\n",
              "      <th>4</th>\n",
              "      <td>11</td>\n",
              "      <td>1</td>\n",
              "    </tr>\n",
              "  </tbody>\n",
              "</table>\n",
              "</div>"
            ],
            "text/plain": [
              "   id  target\n",
              "0   0       0\n",
              "1   2       1\n",
              "2   3       1\n",
              "3   9       0\n",
              "4  11       1"
            ]
          },
          "execution_count": 43,
          "metadata": {},
          "output_type": "execute_result"
        }
      ],
      "source": [
        "pd.read_csv('rnn_submission.csv').head()"
      ]
    },
    {
      "attachments": {},
      "cell_type": "markdown",
      "metadata": {},
      "source": [
        "## 6. Conclusion"
      ]
    },
    {
      "attachments": {},
      "cell_type": "markdown",
      "metadata": {},
      "source": [
        "### 6.1 Overall Results\n",
        "\n",
        "Overall, our models much better than the baseline, showing that they have learned something from the training process, rather than predicting 1 or 0 all the time. Below is a chart that shows the accuracy of all of our models.\n",
        "\n",
        "\n",
        "Model | Training Loss | Training Accuracy | Validation Loss | Validation Accuracy | F1 Score\n",
        "---|---|---|---|---|---\n",
        "Baseline | 7.900914820187636 | N/A | 7.687370260599765 | N/A | 0.42966\n",
        "FFNN | 0.43176037073135376 | 0.8029196858406067 | 0.5280683636665344 | 0.7434402108192444 | 0.75176\n",
        "CNN | 0.4304109811782837 | 0.8103811740875244 | 0.5113658905029297 | 0.7594752311706543 | 0.74287\n",
        "RNN | 0.44599589705467224 | 0.7956204414367676 | 0.5282750725746155 | 0.7448979616165161 | 0.72816\n",
        "\n",
        "**Most General:** RNN\n",
        "\n",
        "**Highest F1:** FFNN\n",
        "\n",
        "**Smallest Validation Loss:** CNN"
      ]
    },
    {
      "attachments": {},
      "cell_type": "markdown",
      "metadata": {},
      "source": [
        "### 6.2 Future Work\n",
        "After sifitng through the graphs on all the models, the main hurdle we seem to struggle with the most is the amount of false negatives the models continuously miss. The root of the problem may be the use of pre processing code custom made for this project. Since it is present in all models. One possibility is the to break apart words, that way links can be broken down to individual websites, that may appear frequeantly, such as a news site.\n"
      ]
    }
  ],
  "metadata": {
    "colab": {
      "provenance": [],
      "toc_visible": true
    },
    "kernelspec": {
      "display_name": "Python 3",
      "language": "python",
      "name": "python3"
    },
    "language_info": {
      "codemirror_mode": {
        "name": "ipython",
        "version": 3
      },
      "file_extension": ".py",
      "mimetype": "text/x-python",
      "name": "python",
      "nbconvert_exporter": "python",
      "pygments_lexer": "ipython3",
      "version": "3.10.11"
    },
    "vscode": {
      "interpreter": {
        "hash": "c4c6ce542ed86c85d22b49296a52397aea49807c5462a5cc5776ff93f0a8a801"
      }
    }
  },
  "nbformat": 4,
  "nbformat_minor": 0
}
