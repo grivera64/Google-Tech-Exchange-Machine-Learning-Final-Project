{
  "cells": [
    {
      "cell_type": "markdown",
      "metadata": {
        "id": "FWM79lj2LYI6"
      },
      "source": [
        "# Giovanni & Oscar | ML Final Project | Milestone 2\n",
        "\n",
        "Setup and Baseline, Due 3/30\n",
        "\n",
        "## Points (10 pts)\n",
        "## Tasks:\n",
        "\n",
        "1. Load the data in a colab notebook\n",
        "\n",
        "1. Split the training data into 90% for training and 10% for validation (your experiments).\n",
        "\n",
        "  - **Note:** You will want to run experiments in your colab notebook without always submitting your test predictions to kaggle.\n",
        "\n",
        "1. Figure out how to submit a baseline system to kaggle that makes predictions on the test data. You should receive a score back from kaggle and see your position on the leaderboard.\n",
        "\n",
        "1. Submit a copy of your colab in Classroom that includes your baseline score evaluated on\n",
        "\n",
        "  - your validation data and\n",
        "  - on the official leaderboard."
      ]
    },
    {
      "cell_type": "markdown",
      "metadata": {
        "id": "WPFnCCd7O6fN"
      },
      "source": [
        "### 0. Setup Dependencies"
      ]
    },
    {
      "cell_type": "code",
      "execution_count": 1,
      "metadata": {
        "colab": {
          "base_uri": "https://localhost:8080/"
        },
        "id": "QiwopORsO-yC",
        "outputId": "fa56efa0-7ab1-4f76-9319-137ec3d158f8"
      },
      "outputs": [
        {
          "name": "stdout",
          "output_type": "stream",
          "text": [
            "Requirement already satisfied: pip in c:\\users\\river\\anaconda3\\envs\\google-machine-learning-final\\lib\\site-packages (23.0.1)\n",
            "Note: you may need to restart the kernel to use updated packages.\n"
          ]
        }
      ],
      "source": [
        "# Ensure that we have the newest version of pip installed\n",
        "%pip install --upgrade pip"
      ]
    },
    {
      "cell_type": "code",
      "execution_count": 2,
      "metadata": {
        "colab": {
          "base_uri": "https://localhost:8080/"
        },
        "id": "Pn1OWO_1PRrO",
        "outputId": "f480ba71-6926-41c5-bd42-0fbbf008eb6d"
      },
      "outputs": [
        {
          "name": "stdout",
          "output_type": "stream",
          "text": [
            "Requirement already satisfied: numpy in c:\\users\\river\\anaconda3\\envs\\google-machine-learning-final\\lib\\site-packages (1.24.2)\n",
            "Note: you may need to restart the kernel to use updated packages.\n",
            "Requirement already satisfied: pandas in c:\\users\\river\\anaconda3\\envs\\google-machine-learning-final\\lib\\site-packages (1.5.3)\n",
            "Requirement already satisfied: python-dateutil>=2.8.1 in c:\\users\\river\\anaconda3\\envs\\google-machine-learning-final\\lib\\site-packages (from pandas) (2.8.2)\n",
            "Requirement already satisfied: pytz>=2020.1 in c:\\users\\river\\anaconda3\\envs\\google-machine-learning-final\\lib\\site-packages (from pandas) (2022.7.1)\n",
            "Requirement already satisfied: numpy>=1.21.0 in c:\\users\\river\\anaconda3\\envs\\google-machine-learning-final\\lib\\site-packages (from pandas) (1.24.2)\n",
            "Requirement already satisfied: six>=1.5 in c:\\users\\river\\anaconda3\\envs\\google-machine-learning-final\\lib\\site-packages (from python-dateutil>=2.8.1->pandas) (1.16.0)\n",
            "Note: you may need to restart the kernel to use updated packages.\n",
            "Requirement already satisfied: matplotlib in c:\\users\\river\\anaconda3\\envs\\google-machine-learning-final\\lib\\site-packages (3.7.1)\n",
            "Requirement already satisfied: pyparsing>=2.3.1 in c:\\users\\river\\anaconda3\\envs\\google-machine-learning-final\\lib\\site-packages (from matplotlib) (3.0.9)\n",
            "Requirement already satisfied: cycler>=0.10 in c:\\users\\river\\anaconda3\\envs\\google-machine-learning-final\\lib\\site-packages (from matplotlib) (0.11.0)\n",
            "Requirement already satisfied: packaging>=20.0 in c:\\users\\river\\anaconda3\\envs\\google-machine-learning-final\\lib\\site-packages (from matplotlib) (23.0)\n",
            "Requirement already satisfied: fonttools>=4.22.0 in c:\\users\\river\\anaconda3\\envs\\google-machine-learning-final\\lib\\site-packages (from matplotlib) (4.39.2)\n",
            "Requirement already satisfied: contourpy>=1.0.1 in c:\\users\\river\\anaconda3\\envs\\google-machine-learning-final\\lib\\site-packages (from matplotlib) (1.0.7)\n",
            "Requirement already satisfied: python-dateutil>=2.7 in c:\\users\\river\\anaconda3\\envs\\google-machine-learning-final\\lib\\site-packages (from matplotlib) (2.8.2)\n",
            "Requirement already satisfied: kiwisolver>=1.0.1 in c:\\users\\river\\anaconda3\\envs\\google-machine-learning-final\\lib\\site-packages (from matplotlib) (1.4.4)\n",
            "Requirement already satisfied: pillow>=6.2.0 in c:\\users\\river\\anaconda3\\envs\\google-machine-learning-final\\lib\\site-packages (from matplotlib) (9.4.0)\n",
            "Requirement already satisfied: numpy>=1.20 in c:\\users\\river\\anaconda3\\envs\\google-machine-learning-final\\lib\\site-packages (from matplotlib) (1.24.2)\n",
            "Requirement already satisfied: six>=1.5 in c:\\users\\river\\anaconda3\\envs\\google-machine-learning-final\\lib\\site-packages (from python-dateutil>=2.7->matplotlib) (1.16.0)\n",
            "Note: you may need to restart the kernel to use updated packages.\n",
            "Requirement already satisfied: seaborn in c:\\users\\river\\anaconda3\\envs\\google-machine-learning-final\\lib\\site-packages (0.12.2)\n",
            "Requirement already satisfied: pandas>=0.25 in c:\\users\\river\\anaconda3\\envs\\google-machine-learning-final\\lib\\site-packages (from seaborn) (1.5.3)\n",
            "Requirement already satisfied: matplotlib!=3.6.1,>=3.1 in c:\\users\\river\\anaconda3\\envs\\google-machine-learning-final\\lib\\site-packages (from seaborn) (3.7.1)\n",
            "Requirement already satisfied: numpy!=1.24.0,>=1.17 in c:\\users\\river\\anaconda3\\envs\\google-machine-learning-final\\lib\\site-packages (from seaborn) (1.24.2)\n",
            "Requirement already satisfied: fonttools>=4.22.0 in c:\\users\\river\\anaconda3\\envs\\google-machine-learning-final\\lib\\site-packages (from matplotlib!=3.6.1,>=3.1->seaborn) (4.39.2)\n",
            "Requirement already satisfied: packaging>=20.0 in c:\\users\\river\\anaconda3\\envs\\google-machine-learning-final\\lib\\site-packages (from matplotlib!=3.6.1,>=3.1->seaborn) (23.0)\n",
            "Requirement already satisfied: contourpy>=1.0.1 in c:\\users\\river\\anaconda3\\envs\\google-machine-learning-final\\lib\\site-packages (from matplotlib!=3.6.1,>=3.1->seaborn) (1.0.7)\n",
            "Requirement already satisfied: pillow>=6.2.0 in c:\\users\\river\\anaconda3\\envs\\google-machine-learning-final\\lib\\site-packages (from matplotlib!=3.6.1,>=3.1->seaborn) (9.4.0)\n",
            "Requirement already satisfied: kiwisolver>=1.0.1 in c:\\users\\river\\anaconda3\\envs\\google-machine-learning-final\\lib\\site-packages (from matplotlib!=3.6.1,>=3.1->seaborn) (1.4.4)\n",
            "Requirement already satisfied: cycler>=0.10 in c:\\users\\river\\anaconda3\\envs\\google-machine-learning-final\\lib\\site-packages (from matplotlib!=3.6.1,>=3.1->seaborn) (0.11.0)\n",
            "Requirement already satisfied: pyparsing>=2.3.1 in c:\\users\\river\\anaconda3\\envs\\google-machine-learning-final\\lib\\site-packages (from matplotlib!=3.6.1,>=3.1->seaborn) (3.0.9)\n",
            "Requirement already satisfied: python-dateutil>=2.7 in c:\\users\\river\\anaconda3\\envs\\google-machine-learning-final\\lib\\site-packages (from matplotlib!=3.6.1,>=3.1->seaborn) (2.8.2)\n",
            "Requirement already satisfied: pytz>=2020.1 in c:\\users\\river\\anaconda3\\envs\\google-machine-learning-final\\lib\\site-packages (from pandas>=0.25->seaborn) (2022.7.1)\n",
            "Requirement already satisfied: six>=1.5 in c:\\users\\river\\anaconda3\\envs\\google-machine-learning-final\\lib\\site-packages (from python-dateutil>=2.7->matplotlib!=3.6.1,>=3.1->seaborn) (1.16.0)\n",
            "Note: you may need to restart the kernel to use updated packages.\n",
            "Requirement already satisfied: kaggle in c:\\users\\river\\anaconda3\\envs\\google-machine-learning-final\\lib\\site-packages (1.5.13)Note: you may need to restart the kernel to use updated packages.\n",
            "\n",
            "Requirement already satisfied: tqdm in c:\\users\\river\\anaconda3\\envs\\google-machine-learning-final\\lib\\site-packages (from kaggle) (4.65.0)\n",
            "Requirement already satisfied: python-slugify in c:\\users\\river\\anaconda3\\envs\\google-machine-learning-final\\lib\\site-packages (from kaggle) (8.0.1)\n",
            "Requirement already satisfied: six>=1.10 in c:\\users\\river\\anaconda3\\envs\\google-machine-learning-final\\lib\\site-packages (from kaggle) (1.16.0)\n",
            "Requirement already satisfied: urllib3 in c:\\users\\river\\anaconda3\\envs\\google-machine-learning-final\\lib\\site-packages (from kaggle) (1.26.15)\n",
            "Requirement already satisfied: requests in c:\\users\\river\\anaconda3\\envs\\google-machine-learning-final\\lib\\site-packages (from kaggle) (2.28.2)\n",
            "Requirement already satisfied: python-dateutil in c:\\users\\river\\anaconda3\\envs\\google-machine-learning-final\\lib\\site-packages (from kaggle) (2.8.2)\n",
            "Requirement already satisfied: certifi in c:\\users\\river\\anaconda3\\envs\\google-machine-learning-final\\lib\\site-packages (from kaggle) (2022.12.7)\n",
            "Requirement already satisfied: text-unidecode>=1.3 in c:\\users\\river\\anaconda3\\envs\\google-machine-learning-final\\lib\\site-packages (from python-slugify->kaggle) (1.3)\n",
            "Requirement already satisfied: charset-normalizer<4,>=2 in c:\\users\\river\\anaconda3\\envs\\google-machine-learning-final\\lib\\site-packages (from requests->kaggle) (3.1.0)\n",
            "Requirement already satisfied: idna<4,>=2.5 in c:\\users\\river\\anaconda3\\envs\\google-machine-learning-final\\lib\\site-packages (from requests->kaggle) (3.4)\n",
            "Requirement already satisfied: colorama in c:\\users\\river\\anaconda3\\envs\\google-machine-learning-final\\lib\\site-packages (from tqdm->kaggle) (0.4.6)\n",
            "Requirement already satisfied: scikit-learn in c:\\users\\river\\anaconda3\\envs\\google-machine-learning-final\\lib\\site-packages (1.2.2)\n",
            "Requirement already satisfied: numpy>=1.17.3 in c:\\users\\river\\anaconda3\\envs\\google-machine-learning-final\\lib\\site-packages (from scikit-learn) (1.24.2)\n",
            "Requirement already satisfied: joblib>=1.1.1 in c:\\users\\river\\anaconda3\\envs\\google-machine-learning-final\\lib\\site-packages (from scikit-learn) (1.2.0)\n",
            "Requirement already satisfied: scipy>=1.3.2 in c:\\users\\river\\anaconda3\\envs\\google-machine-learning-final\\lib\\site-packages (from scikit-learn) (1.10.1)\n",
            "Requirement already satisfied: threadpoolctl>=2.0.0 in c:\\users\\river\\anaconda3\\envs\\google-machine-learning-final\\lib\\site-packages (from scikit-learn) (3.1.0)\n",
            "Note: you may need to restart the kernel to use updated packages.\n"
          ]
        }
      ],
      "source": [
        "# Install necessary libraries\n",
        "%pip install numpy\n",
        "%pip install pandas\n",
        "%pip install matplotlib\n",
        "%pip install seaborn\n",
        "%pip install kaggle\n",
        "# Helps avoid showing plots in a separate line\n",
        "# %matplotlib inline\n",
        "\n",
        "%pip install scikit-learn"
      ]
    },
    {
      "cell_type": "code",
      "execution_count": 3,
      "metadata": {
        "id": "ycGSQ31nQRa8"
      },
      "outputs": [],
      "source": [
        "# Import the modules\n",
        "import numpy as np\n",
        "import pandas as pd\n",
        "from matplotlib import pyplot as plt\n",
        "import seaborn as sns\n",
        "from sklearn import datasets\n",
        "\n",
        "\n",
        "# Set the styling of the plt plots to darkgrid\n",
        "sns.set(style='darkgrid')"
      ]
    },
    {
      "cell_type": "markdown",
      "metadata": {
        "id": "UJCd5JzUNNuk"
      },
      "source": [
        "### 1. Load the Data in a Colab Notebook"
      ]
    },
    {
      "cell_type": "code",
      "execution_count": 4,
      "metadata": {
        "id": "Ct512u3DuP7E"
      },
      "outputs": [
        {
          "data": {
            "text/html": [
              "<div>\n",
              "<style scoped>\n",
              "    .dataframe tbody tr th:only-of-type {\n",
              "        vertical-align: middle;\n",
              "    }\n",
              "\n",
              "    .dataframe tbody tr th {\n",
              "        vertical-align: top;\n",
              "    }\n",
              "\n",
              "    .dataframe thead th {\n",
              "        text-align: right;\n",
              "    }\n",
              "</style>\n",
              "<table border=\"1\" class=\"dataframe\">\n",
              "  <thead>\n",
              "    <tr style=\"text-align: right;\">\n",
              "      <th></th>\n",
              "      <th>id</th>\n",
              "      <th>keyword</th>\n",
              "      <th>location</th>\n",
              "      <th>text</th>\n",
              "      <th>target</th>\n",
              "    </tr>\n",
              "  </thead>\n",
              "  <tbody>\n",
              "    <tr>\n",
              "      <th>0</th>\n",
              "      <td>1</td>\n",
              "      <td>NaN</td>\n",
              "      <td>NaN</td>\n",
              "      <td>Our Deeds are the Reason of this #earthquake M...</td>\n",
              "      <td>1</td>\n",
              "    </tr>\n",
              "    <tr>\n",
              "      <th>1</th>\n",
              "      <td>4</td>\n",
              "      <td>NaN</td>\n",
              "      <td>NaN</td>\n",
              "      <td>Forest fire near La Ronge Sask. Canada</td>\n",
              "      <td>1</td>\n",
              "    </tr>\n",
              "    <tr>\n",
              "      <th>2</th>\n",
              "      <td>5</td>\n",
              "      <td>NaN</td>\n",
              "      <td>NaN</td>\n",
              "      <td>All residents asked to 'shelter in place' are ...</td>\n",
              "      <td>1</td>\n",
              "    </tr>\n",
              "    <tr>\n",
              "      <th>3</th>\n",
              "      <td>6</td>\n",
              "      <td>NaN</td>\n",
              "      <td>NaN</td>\n",
              "      <td>13,000 people receive #wildfires evacuation or...</td>\n",
              "      <td>1</td>\n",
              "    </tr>\n",
              "    <tr>\n",
              "      <th>4</th>\n",
              "      <td>7</td>\n",
              "      <td>NaN</td>\n",
              "      <td>NaN</td>\n",
              "      <td>Just got sent this photo from Ruby #Alaska as ...</td>\n",
              "      <td>1</td>\n",
              "    </tr>\n",
              "  </tbody>\n",
              "</table>\n",
              "</div>"
            ],
            "text/plain": [
              "   id keyword location                                               text  \\\n",
              "0   1     NaN      NaN  Our Deeds are the Reason of this #earthquake M...   \n",
              "1   4     NaN      NaN             Forest fire near La Ronge Sask. Canada   \n",
              "2   5     NaN      NaN  All residents asked to 'shelter in place' are ...   \n",
              "3   6     NaN      NaN  13,000 people receive #wildfires evacuation or...   \n",
              "4   7     NaN      NaN  Just got sent this photo from Ruby #Alaska as ...   \n",
              "\n",
              "   target  \n",
              "0       1  \n",
              "1       1  \n",
              "2       1  \n",
              "3       1  \n",
              "4       1  "
            ]
          },
          "metadata": {},
          "output_type": "display_data"
        }
      ],
      "source": [
        "# create data objecrt\n",
        "train_df = pd.read_csv('Data/techexchange-2023-ml-project/train.csv')\n",
        "display(train_df.head())"
      ]
    },
    {
      "cell_type": "code",
      "execution_count": 7,
      "metadata": {},
      "outputs": [
        {
          "data": {
            "text/html": [
              "<div>\n",
              "<style scoped>\n",
              "    .dataframe tbody tr th:only-of-type {\n",
              "        vertical-align: middle;\n",
              "    }\n",
              "\n",
              "    .dataframe tbody tr th {\n",
              "        vertical-align: top;\n",
              "    }\n",
              "\n",
              "    .dataframe thead th {\n",
              "        text-align: right;\n",
              "    }\n",
              "</style>\n",
              "<table border=\"1\" class=\"dataframe\">\n",
              "  <thead>\n",
              "    <tr style=\"text-align: right;\">\n",
              "      <th></th>\n",
              "      <th>keyword</th>\n",
              "      <th>location</th>\n",
              "      <th>text</th>\n",
              "    </tr>\n",
              "  </thead>\n",
              "  <tbody>\n",
              "    <tr>\n",
              "      <th>0</th>\n",
              "      <td>NaN</td>\n",
              "      <td>NaN</td>\n",
              "      <td>Our Deeds are the Reason of this #earthquake M...</td>\n",
              "    </tr>\n",
              "    <tr>\n",
              "      <th>1</th>\n",
              "      <td>NaN</td>\n",
              "      <td>NaN</td>\n",
              "      <td>Forest fire near La Ronge Sask. Canada</td>\n",
              "    </tr>\n",
              "    <tr>\n",
              "      <th>2</th>\n",
              "      <td>NaN</td>\n",
              "      <td>NaN</td>\n",
              "      <td>All residents asked to 'shelter in place' are ...</td>\n",
              "    </tr>\n",
              "    <tr>\n",
              "      <th>3</th>\n",
              "      <td>NaN</td>\n",
              "      <td>NaN</td>\n",
              "      <td>13,000 people receive #wildfires evacuation or...</td>\n",
              "    </tr>\n",
              "    <tr>\n",
              "      <th>4</th>\n",
              "      <td>NaN</td>\n",
              "      <td>NaN</td>\n",
              "      <td>Just got sent this photo from Ruby #Alaska as ...</td>\n",
              "    </tr>\n",
              "  </tbody>\n",
              "</table>\n",
              "</div>"
            ],
            "text/plain": [
              "  keyword location                                               text\n",
              "0     NaN      NaN  Our Deeds are the Reason of this #earthquake M...\n",
              "1     NaN      NaN             Forest fire near La Ronge Sask. Canada\n",
              "2     NaN      NaN  All residents asked to 'shelter in place' are ...\n",
              "3     NaN      NaN  13,000 people receive #wildfires evacuation or...\n",
              "4     NaN      NaN  Just got sent this photo from Ruby #Alaska as ..."
            ]
          },
          "metadata": {},
          "output_type": "display_data"
        },
        {
          "data": {
            "text/html": [
              "<div>\n",
              "<style scoped>\n",
              "    .dataframe tbody tr th:only-of-type {\n",
              "        vertical-align: middle;\n",
              "    }\n",
              "\n",
              "    .dataframe tbody tr th {\n",
              "        vertical-align: top;\n",
              "    }\n",
              "\n",
              "    .dataframe thead th {\n",
              "        text-align: right;\n",
              "    }\n",
              "</style>\n",
              "<table border=\"1\" class=\"dataframe\">\n",
              "  <thead>\n",
              "    <tr style=\"text-align: right;\">\n",
              "      <th></th>\n",
              "      <th>target</th>\n",
              "    </tr>\n",
              "  </thead>\n",
              "  <tbody>\n",
              "    <tr>\n",
              "      <th>0</th>\n",
              "      <td>1</td>\n",
              "    </tr>\n",
              "    <tr>\n",
              "      <th>1</th>\n",
              "      <td>1</td>\n",
              "    </tr>\n",
              "    <tr>\n",
              "      <th>2</th>\n",
              "      <td>1</td>\n",
              "    </tr>\n",
              "    <tr>\n",
              "      <th>3</th>\n",
              "      <td>1</td>\n",
              "    </tr>\n",
              "    <tr>\n",
              "      <th>4</th>\n",
              "      <td>1</td>\n",
              "    </tr>\n",
              "  </tbody>\n",
              "</table>\n",
              "</div>"
            ],
            "text/plain": [
              "   target\n",
              "0       1\n",
              "1       1\n",
              "2       1\n",
              "3       1\n",
              "4       1"
            ]
          },
          "metadata": {},
          "output_type": "display_data"
        }
      ],
      "source": [
        "# Separate Data Frame for input and outputs\n",
        "\n",
        "input_names = ['keyword', 'location', 'text']\n",
        "input_df = train_df[input_names]\n",
        "display(input_df.head())\n",
        "\n",
        "output_names = ['target']\n",
        "output_df = train_df[output_names]\n",
        "display(output_df.head())"
      ]
    },
    {
      "cell_type": "code",
      "execution_count": 8,
      "metadata": {},
      "outputs": [
        {
          "name": "stdout",
          "output_type": "stream",
          "text": [
            "[[nan nan\n",
            "  'Our Deeds are the Reason of this #earthquake May ALLAH Forgive us all']\n",
            " [nan nan 'Forest fire near La Ronge Sask. Canada']\n",
            " [nan nan\n",
            "  \"All residents asked to 'shelter in place' are being notified by officers. No other evacuation or shelter in place orders are expected\"]\n",
            " [nan nan\n",
            "  '13,000 people receive #wildfires evacuation orders in California ']\n",
            " [nan nan\n",
            "  'Just got sent this photo from Ruby #Alaska as smoke from #wildfires pours into a school ']]\n",
            "[[1]\n",
            " [1]\n",
            " [1]\n",
            " [1]\n",
            " [1]]\n"
          ]
        }
      ],
      "source": [
        "# Convert into numpy data\n",
        "X_data = input_df.to_numpy()\n",
        "Y_data = output_df.to_numpy()\n",
        "\n",
        "print(X_data[:5])\n",
        "print(Y_data[:5])"
      ]
    },
    {
      "cell_type": "code",
      "execution_count": 15,
      "metadata": {},
      "outputs": [
        {
          "name": "stdout",
          "output_type": "stream",
          "text": [
            "Text\n",
            "['nuclear%20reactor' 'Japan'\n",
            " 'Nuclear-Deal: Indo-Japan pact lies at the heart of two US reactor-based projects: If Japan were to go ahead an...  http://t.co/XKURDr3yEv']\n",
            "\n",
            "Is Natural Disaster?\n",
            "[1] Yes\n",
            "======================\n",
            "\n",
            "Text\n",
            "['massacre' nan\n",
            " 'The Fake of Nanking Massacre-4 Eyewitnesses (English): http://t.co/TiPnDEmPuz  #Obama #Clinton #Bush #GOP #ABC #CBS #BBC #CNN #WSJ #WPO']\n",
            "\n",
            "Is Natural Disaster?\n",
            "[1] Yes\n",
            "======================\n",
            "\n"
          ]
        }
      ],
      "source": [
        "from sklearn.model_selection import train_test_split\n",
        "\n",
        "# Split the data into train and test\n",
        "X_train, X_test, Y_train, Y_test = train_test_split(X_data, Y_data, train_size=0.90)\n",
        "\n",
        "for index in range(2):\n",
        "    print('Text')\n",
        "    print(X_train[index])\n",
        "    print()\n",
        "    \n",
        "    print('Is Natural Disaster?')\n",
        "    print(Y_train[index], 'Yes' if Y_train[index] == 1 else 'No')\n",
        "    print('======================')\n",
        "    print()"
      ]
    },
    {
      "cell_type": "code",
      "execution_count": null,
      "metadata": {},
      "outputs": [],
      "source": []
    }
  ],
  "metadata": {
    "colab": {
      "provenance": [],
      "toc_visible": true
    },
    "kernelspec": {
      "display_name": "Python 3",
      "language": "python",
      "name": "python3"
    },
    "language_info": {
      "codemirror_mode": {
        "name": "ipython",
        "version": 3
      },
      "file_extension": ".py",
      "mimetype": "text/x-python",
      "name": "python",
      "nbconvert_exporter": "python",
      "pygments_lexer": "ipython3",
      "version": "3.10.10"
    },
    "vscode": {
      "interpreter": {
        "hash": "c4c6ce542ed86c85d22b49296a52397aea49807c5462a5cc5776ff93f0a8a801"
      }
    }
  },
  "nbformat": 4,
  "nbformat_minor": 0
}
