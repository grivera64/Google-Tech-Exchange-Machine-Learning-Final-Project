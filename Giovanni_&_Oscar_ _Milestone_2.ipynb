{
  "cells": [
    {
      "attachments": {},
      "cell_type": "markdown",
      "metadata": {
        "id": "FWM79lj2LYI6"
      },
      "source": [
        "# Giovanni & Oscar | ML Final Project | Milestone 2\n",
        "\n",
        "Setup and Baseline, Due 3/30\n",
        "\n",
        "## Points (10 pts)\n",
        "## Tasks:\n",
        "\n",
        "1. Load the data in a colab notebook\n",
        "\n",
        "2. Split the training data into 90% for training and 10% for validation (your experiments).\n",
        "    > **Note:** You will want to run experiments in your colab notebook without always submitting your test predictions to kaggle.\n",
        "\n",
        "3. Figure out how to submit a baseline system to kaggle that makes predictions on the test data. You should receive a score back from kaggle and see your position on the leaderboard.\n",
        "\n",
        "4. Submit a copy of your colab in Classroom that includes your baseline score evaluated on\n",
        "\n",
        "  - your validation data and\n",
        "  - on the official leaderboard."
      ]
    },
    {
      "cell_type": "markdown",
      "metadata": {
        "id": "WPFnCCd7O6fN"
      },
      "source": [
        "### 0. Setup Dependencies"
      ]
    },
    {
      "cell_type": "code",
      "execution_count": 1,
      "metadata": {
        "colab": {
          "base_uri": "https://localhost:8080/"
        },
        "id": "QiwopORsO-yC",
        "outputId": "fa56efa0-7ab1-4f76-9319-137ec3d158f8"
      },
      "outputs": [
        {
          "data": {
            "text/plain": [
              "'Remove triple quotes if you want to run the following code:\\n# Ensure that we have the newest version of pip installed\\n%pip install -q --upgrade pip\\n'"
            ]
          },
          "execution_count": 1,
          "metadata": {},
          "output_type": "execute_result"
        }
      ],
      "source": [
        "\"\"\"Remove triple quotes if you want to run the following code:\n",
        "# Ensure that we have the newest version of pip installed\n",
        "%pip install -q --upgrade pip\n",
        "\"\"\""
      ]
    },
    {
      "cell_type": "code",
      "execution_count": 2,
      "metadata": {
        "colab": {
          "base_uri": "https://localhost:8080/"
        },
        "id": "Pn1OWO_1PRrO",
        "outputId": "f480ba71-6926-41c5-bd42-0fbbf008eb6d"
      },
      "outputs": [
        {
          "data": {
            "text/plain": [
              "'Remove triple quotes if you want t orun the following code:\\n# Install necessary libraries\\n%pip install -q numpy\\n%pip install -q pandas\\n%pip install -q matplotlib\\n%pip install -q seaborn\\n%pip install -q kaggle\\n# Helps avoid showing plots in a separate line\\n# %matplotlib inline\\n\\n%pip install -q scikit-learn\\n'"
            ]
          },
          "execution_count": 2,
          "metadata": {},
          "output_type": "execute_result"
        }
      ],
      "source": [
        "\"\"\"Remove triple quotes if you want t orun the following code:\n",
        "# Install necessary libraries\n",
        "%pip install -q numpy\n",
        "%pip install -q pandas\n",
        "%pip install -q matplotlib\n",
        "%pip install -q seaborn\n",
        "%pip install -q kaggle\n",
        "# Helps avoid showing plots in a separate line\n",
        "# %matplotlib inline\n",
        "\n",
        "%pip install -q scikit-learn\n",
        "\"\"\""
      ]
    },
    {
      "cell_type": "code",
      "execution_count": 3,
      "metadata": {
        "id": "ycGSQ31nQRa8"
      },
      "outputs": [],
      "source": [
        "# Import the modules\n",
        "import numpy as np\n",
        "import pandas as pd\n",
        "from matplotlib import pyplot as plt\n",
        "import seaborn as sns\n",
        "from sklearn import datasets\n",
        "\n",
        "\n",
        "# Set the styling of the plt plots to darkgrid\n",
        "sns.set(style='darkgrid')"
      ]
    },
    {
      "cell_type": "markdown",
      "metadata": {
        "id": "UJCd5JzUNNuk"
      },
      "source": [
        "### 1. Load the Data in a Colab Notebook"
      ]
    },
    {
      "cell_type": "code",
      "execution_count": 4,
      "metadata": {
        "id": "Ct512u3DuP7E"
      },
      "outputs": [
        {
          "data": {
            "text/html": [
              "<div>\n",
              "<style scoped>\n",
              "    .dataframe tbody tr th:only-of-type {\n",
              "        vertical-align: middle;\n",
              "    }\n",
              "\n",
              "    .dataframe tbody tr th {\n",
              "        vertical-align: top;\n",
              "    }\n",
              "\n",
              "    .dataframe thead th {\n",
              "        text-align: right;\n",
              "    }\n",
              "</style>\n",
              "<table border=\"1\" class=\"dataframe\">\n",
              "  <thead>\n",
              "    <tr style=\"text-align: right;\">\n",
              "      <th></th>\n",
              "      <th>id</th>\n",
              "      <th>keyword</th>\n",
              "      <th>location</th>\n",
              "      <th>text</th>\n",
              "      <th>target</th>\n",
              "    </tr>\n",
              "  </thead>\n",
              "  <tbody>\n",
              "    <tr>\n",
              "      <th>0</th>\n",
              "      <td>1</td>\n",
              "      <td>NaN</td>\n",
              "      <td>NaN</td>\n",
              "      <td>Our Deeds are the Reason of this #earthquake M...</td>\n",
              "      <td>1</td>\n",
              "    </tr>\n",
              "    <tr>\n",
              "      <th>1</th>\n",
              "      <td>4</td>\n",
              "      <td>NaN</td>\n",
              "      <td>NaN</td>\n",
              "      <td>Forest fire near La Ronge Sask. Canada</td>\n",
              "      <td>1</td>\n",
              "    </tr>\n",
              "    <tr>\n",
              "      <th>2</th>\n",
              "      <td>5</td>\n",
              "      <td>NaN</td>\n",
              "      <td>NaN</td>\n",
              "      <td>All residents asked to 'shelter in place' are ...</td>\n",
              "      <td>1</td>\n",
              "    </tr>\n",
              "    <tr>\n",
              "      <th>3</th>\n",
              "      <td>6</td>\n",
              "      <td>NaN</td>\n",
              "      <td>NaN</td>\n",
              "      <td>13,000 people receive #wildfires evacuation or...</td>\n",
              "      <td>1</td>\n",
              "    </tr>\n",
              "    <tr>\n",
              "      <th>4</th>\n",
              "      <td>7</td>\n",
              "      <td>NaN</td>\n",
              "      <td>NaN</td>\n",
              "      <td>Just got sent this photo from Ruby #Alaska as ...</td>\n",
              "      <td>1</td>\n",
              "    </tr>\n",
              "  </tbody>\n",
              "</table>\n",
              "</div>"
            ],
            "text/plain": [
              "   id keyword location                                               text  \\\n",
              "0   1     NaN      NaN  Our Deeds are the Reason of this #earthquake M...   \n",
              "1   4     NaN      NaN             Forest fire near La Ronge Sask. Canada   \n",
              "2   5     NaN      NaN  All residents asked to 'shelter in place' are ...   \n",
              "3   6     NaN      NaN  13,000 people receive #wildfires evacuation or...   \n",
              "4   7     NaN      NaN  Just got sent this photo from Ruby #Alaska as ...   \n",
              "\n",
              "   target  \n",
              "0       1  \n",
              "1       1  \n",
              "2       1  \n",
              "3       1  \n",
              "4       1  "
            ]
          },
          "metadata": {},
          "output_type": "display_data"
        }
      ],
      "source": [
        "# create data objecrt\n",
        "train_df = pd.read_csv('Data/techexchange-2023-ml-project/train.csv')\n",
        "display(train_df.head())"
      ]
    },
    {
      "cell_type": "code",
      "execution_count": 5,
      "metadata": {},
      "outputs": [
        {
          "data": {
            "text/html": [
              "<div>\n",
              "<style scoped>\n",
              "    .dataframe tbody tr th:only-of-type {\n",
              "        vertical-align: middle;\n",
              "    }\n",
              "\n",
              "    .dataframe tbody tr th {\n",
              "        vertical-align: top;\n",
              "    }\n",
              "\n",
              "    .dataframe thead th {\n",
              "        text-align: right;\n",
              "    }\n",
              "</style>\n",
              "<table border=\"1\" class=\"dataframe\">\n",
              "  <thead>\n",
              "    <tr style=\"text-align: right;\">\n",
              "      <th></th>\n",
              "      <th>id</th>\n",
              "      <th>keyword</th>\n",
              "      <th>location</th>\n",
              "      <th>text</th>\n",
              "    </tr>\n",
              "  </thead>\n",
              "  <tbody>\n",
              "    <tr>\n",
              "      <th>0</th>\n",
              "      <td>1</td>\n",
              "      <td>NaN</td>\n",
              "      <td>NaN</td>\n",
              "      <td>Our Deeds are the Reason of this #earthquake M...</td>\n",
              "    </tr>\n",
              "    <tr>\n",
              "      <th>1</th>\n",
              "      <td>4</td>\n",
              "      <td>NaN</td>\n",
              "      <td>NaN</td>\n",
              "      <td>Forest fire near La Ronge Sask. Canada</td>\n",
              "    </tr>\n",
              "    <tr>\n",
              "      <th>2</th>\n",
              "      <td>5</td>\n",
              "      <td>NaN</td>\n",
              "      <td>NaN</td>\n",
              "      <td>All residents asked to 'shelter in place' are ...</td>\n",
              "    </tr>\n",
              "    <tr>\n",
              "      <th>3</th>\n",
              "      <td>6</td>\n",
              "      <td>NaN</td>\n",
              "      <td>NaN</td>\n",
              "      <td>13,000 people receive #wildfires evacuation or...</td>\n",
              "    </tr>\n",
              "    <tr>\n",
              "      <th>4</th>\n",
              "      <td>7</td>\n",
              "      <td>NaN</td>\n",
              "      <td>NaN</td>\n",
              "      <td>Just got sent this photo from Ruby #Alaska as ...</td>\n",
              "    </tr>\n",
              "  </tbody>\n",
              "</table>\n",
              "</div>"
            ],
            "text/plain": [
              "   id keyword location                                               text\n",
              "0   1     NaN      NaN  Our Deeds are the Reason of this #earthquake M...\n",
              "1   4     NaN      NaN             Forest fire near La Ronge Sask. Canada\n",
              "2   5     NaN      NaN  All residents asked to 'shelter in place' are ...\n",
              "3   6     NaN      NaN  13,000 people receive #wildfires evacuation or...\n",
              "4   7     NaN      NaN  Just got sent this photo from Ruby #Alaska as ..."
            ]
          },
          "metadata": {},
          "output_type": "display_data"
        },
        {
          "data": {
            "text/html": [
              "<div>\n",
              "<style scoped>\n",
              "    .dataframe tbody tr th:only-of-type {\n",
              "        vertical-align: middle;\n",
              "    }\n",
              "\n",
              "    .dataframe tbody tr th {\n",
              "        vertical-align: top;\n",
              "    }\n",
              "\n",
              "    .dataframe thead th {\n",
              "        text-align: right;\n",
              "    }\n",
              "</style>\n",
              "<table border=\"1\" class=\"dataframe\">\n",
              "  <thead>\n",
              "    <tr style=\"text-align: right;\">\n",
              "      <th></th>\n",
              "      <th>target</th>\n",
              "    </tr>\n",
              "  </thead>\n",
              "  <tbody>\n",
              "    <tr>\n",
              "      <th>0</th>\n",
              "      <td>1</td>\n",
              "    </tr>\n",
              "    <tr>\n",
              "      <th>1</th>\n",
              "      <td>1</td>\n",
              "    </tr>\n",
              "    <tr>\n",
              "      <th>2</th>\n",
              "      <td>1</td>\n",
              "    </tr>\n",
              "    <tr>\n",
              "      <th>3</th>\n",
              "      <td>1</td>\n",
              "    </tr>\n",
              "    <tr>\n",
              "      <th>4</th>\n",
              "      <td>1</td>\n",
              "    </tr>\n",
              "  </tbody>\n",
              "</table>\n",
              "</div>"
            ],
            "text/plain": [
              "   target\n",
              "0       1\n",
              "1       1\n",
              "2       1\n",
              "3       1\n",
              "4       1"
            ]
          },
          "metadata": {},
          "output_type": "display_data"
        }
      ],
      "source": [
        "# Separate Data Frame for input and outputs\n",
        "\n",
        "input_names = ['id', 'keyword', 'location', 'text']\n",
        "input_df = train_df[input_names]\n",
        "display(input_df.head())\n",
        "\n",
        "output_names = ['target']\n",
        "output_df = train_df[output_names]\n",
        "display(output_df.head())"
      ]
    },
    {
      "cell_type": "code",
      "execution_count": 6,
      "metadata": {},
      "outputs": [
        {
          "name": "stdout",
          "output_type": "stream",
          "text": [
            "[[1 nan nan\n",
            "  'Our Deeds are the Reason of this #earthquake May ALLAH Forgive us all']\n",
            " [4 nan nan 'Forest fire near La Ronge Sask. Canada']\n",
            " [5 nan nan\n",
            "  \"All residents asked to 'shelter in place' are being notified by officers. No other evacuation or shelter in place orders are expected\"]\n",
            " [6 nan nan\n",
            "  '13,000 people receive #wildfires evacuation orders in California ']\n",
            " [7 nan nan\n",
            "  'Just got sent this photo from Ruby #Alaska as smoke from #wildfires pours into a school ']]\n",
            "[1 1 1 1 1]\n"
          ]
        }
      ],
      "source": [
        "# Convert into numpy data\n",
        "X_data = input_df.to_numpy()\n",
        "Y_data = output_df.to_numpy().flatten()\n",
        "\n",
        "print(X_data[:5])\n",
        "print(Y_data[:5])"
      ]
    },
    {
      "cell_type": "code",
      "execution_count": null,
      "metadata": {},
      "outputs": [],
      "source": []
    },
    {
      "attachments": {},
      "cell_type": "markdown",
      "metadata": {},
      "source": [
        "### 2. Split the training data into 90% training and 10% for validation (your experiments)"
      ]
    },
    {
      "cell_type": "code",
      "execution_count": 7,
      "metadata": {},
      "outputs": [],
      "source": [
        "from sklearn.model_selection import train_test_split\n",
        "\n",
        "# Split the data into train and test\n",
        "X_train, X_test, Y_train, Y_test = train_test_split(X_data, Y_data, train_size=0.90)"
      ]
    },
    {
      "cell_type": "code",
      "execution_count": 8,
      "metadata": {},
      "outputs": [
        {
          "name": "stdout",
          "output_type": "stream",
          "text": [
            "Text\n",
            "[2129 'catastrophe' nan\n",
            " '[reviews] #PixelsMovie not a catastrophe nor a funny movie... our review here : http://t.co/lVbUw01YOH']\n",
            "\n",
            "Is Natural Disaster?\n",
            "0 No\n",
            "======================\n",
            "\n",
            "Text\n",
            "[8599 'seismic' 'Third rock from the Sun'\n",
            " '@hebrooon u better learn derivative of formula seismic rather than thinking about things like that or you are a things like that? Haha']\n",
            "\n",
            "Is Natural Disaster?\n",
            "0 No\n",
            "======================\n",
            "\n"
          ]
        }
      ],
      "source": [
        "# Going through a few examples in the training split\n",
        "\n",
        "for index in range(2):\n",
        "    print('Text')\n",
        "    print(X_train[index])\n",
        "    print()\n",
        "    \n",
        "    print('Is Natural Disaster?')\n",
        "    print(Y_train[index], 'Yes' if Y_train[index] == 1 else 'No')\n",
        "    print('======================')\n",
        "    print()"
      ]
    },
    {
      "cell_type": "code",
      "execution_count": null,
      "metadata": {},
      "outputs": [],
      "source": []
    },
    {
      "attachments": {},
      "cell_type": "markdown",
      "metadata": {},
      "source": [
        "### 3. Submit a Baseline"
      ]
    },
    {
      "cell_type": "code",
      "execution_count": 9,
      "metadata": {},
      "outputs": [],
      "source": [
        "# Returns a positive result, regardless of the input\n",
        "def baseline_model(text_inputs):\n",
        "    return 1\n",
        "\n",
        "baseline_model_np = np.vectorize(baseline_model, signature='(n) -> ()')"
      ]
    },
    {
      "cell_type": "code",
      "execution_count": 10,
      "metadata": {},
      "outputs": [
        {
          "name": "stdout",
          "output_type": "stream",
          "text": [
            "Input:\n",
            "[2129 'catastrophe' nan\n",
            " '[reviews] #PixelsMovie not a catastrophe nor a funny movie... our review here : http://t.co/lVbUw01YOH']\n",
            "\n",
            "Output\n",
            "0\n",
            "\n",
            "Prediction\n",
            "1\n",
            "==================\n",
            "\n",
            "Input:\n",
            "[8599 'seismic' 'Third rock from the Sun'\n",
            " '@hebrooon u better learn derivative of formula seismic rather than thinking about things like that or you are a things like that? Haha']\n",
            "\n",
            "Output\n",
            "0\n",
            "\n",
            "Prediction\n",
            "1\n",
            "==================\n",
            "\n",
            "Input:\n",
            "[5743 'forest%20fires' 'Washington, D.C.'\n",
            " 'As California fires rage Forest Service sounds the alarm about sharply rising wildfire costs http://t.co/dFYrPpzkPu http://t.co/iwsdbGd1zq']\n",
            "\n",
            "Output\n",
            "1\n",
            "\n",
            "Prediction\n",
            "1\n",
            "==================\n",
            "\n",
            "Input:\n",
            "[8301 'rubble' 'Accra,Ghana'\n",
            " \"#360WiseNews : China's Stock Market Crash: Are There Gems In The Rubble? http://t.co/eaTFro3d5x\"]\n",
            "\n",
            "Output\n",
            "0\n",
            "\n",
            "Prediction\n",
            "1\n",
            "==================\n",
            "\n",
            "Input:\n",
            "[3026 'death' 'Sylacauga, Alabama' '@Allahsfinest12 ...death to muslims']\n",
            "\n",
            "Output\n",
            "1\n",
            "\n",
            "Prediction\n",
            "1\n",
            "==================\n",
            "\n"
          ]
        }
      ],
      "source": [
        "baseline_predictions = baseline_model_np(X_train)\n",
        "\n",
        "for i in range(5):\n",
        "    print('Input:')\n",
        "    print(X_train[i])\n",
        "    print()\n",
        "\n",
        "    print('Output')\n",
        "    print(Y_train[i])\n",
        "    print()\n",
        "\n",
        "    print('Prediction')\n",
        "    print(baseline_predictions[i])\n",
        "    print('==================')\n",
        "    print()"
      ]
    },
    {
      "cell_type": "code",
      "execution_count": 11,
      "metadata": {},
      "outputs": [],
      "source": [
        "def save_to_submissions_csv(text_inputs, prediction_labels):\n",
        "    NotImplemented\n",
        "    pass\n"
      ]
    }
  ],
  "metadata": {
    "colab": {
      "provenance": [],
      "toc_visible": true
    },
    "kernelspec": {
      "display_name": "Python 3",
      "language": "python",
      "name": "python3"
    },
    "language_info": {
      "codemirror_mode": {
        "name": "ipython",
        "version": 3
      },
      "file_extension": ".py",
      "mimetype": "text/x-python",
      "name": "python",
      "nbconvert_exporter": "python",
      "pygments_lexer": "ipython3",
      "version": "3.10.9"
    },
    "vscode": {
      "interpreter": {
        "hash": "c4c6ce542ed86c85d22b49296a52397aea49807c5462a5cc5776ff93f0a8a801"
      }
    }
  },
  "nbformat": 4,
  "nbformat_minor": 0
}
